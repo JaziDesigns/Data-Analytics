{
 "cells": [
  {
   "cell_type": "code",
   "execution_count": 21,
   "id": "fatty-intervention",
   "metadata": {},
   "outputs": [
    {
     "name": "stdout",
     "output_type": "stream",
     "text": [
      "Assalam-o-Alaikum!\n"
     ]
    }
   ],
   "source": [
    "greetings = \"Assalam-o-Alaikum!\"\n",
    "print(greetings)"
   ]
  },
  {
   "cell_type": "markdown",
   "id": "specific-chocolate",
   "metadata": {},
   "source": [
    "### Import Libraries"
   ]
  },
  {
   "cell_type": "code",
   "execution_count": 22,
   "id": "incorrect-values",
   "metadata": {},
   "outputs": [],
   "source": [
    "import pandas as pd"
   ]
  },
  {
   "cell_type": "markdown",
   "id": "frank-webcam",
   "metadata": {},
   "source": [
    "### Poem Titles"
   ]
  },
  {
   "cell_type": "code",
   "execution_count": 23,
   "id": "lonely-medline",
   "metadata": {
    "scrolled": true
   },
   "outputs": [
    {
     "data": {
      "text/plain": [
       "\"Afterimages:Audre Lorde:1997,  The Shadow:William Carlos Williams:1915, Ecstasy:Gabriela Mistral:1925,   Georgia Dusk:Jean Toomer:1923,   Parting Before Daybreak:An Qi:2014, The Untold Want:Walt Whitman:1871, Mr. Grumpledump's Song:Shel Silverstein:2004, Angel Sound Mexico City:Carmen Boullosa:2013, In Love:Kamala Suraiyya:1965, Dream Variations:Langston Hughes:1994, Dreamwood:Adrienne Rich:1987\""
      ]
     },
     "execution_count": 23,
     "metadata": {},
     "output_type": "execute_result"
    }
   ],
   "source": [
    "poem =  \"Afterimages:Audre Lorde:1997,  The Shadow:William Carlos Williams:1915, Ecstasy:Gabriela Mistral:1925,   Georgia Dusk:Jean Toomer:1923,   Parting Before Daybreak:An Qi:2014, The Untold Want:Walt Whitman:1871, Mr. Grumpledump's Song:Shel Silverstein:2004, Angel Sound Mexico City:Carmen Boullosa:2013, In Love:Kamala Suraiyya:1965, Dream Variations:Langston Hughes:1994, Dreamwood:Adrienne Rich:1987\"\n",
    "poem"
   ]
  },
  {
   "cell_type": "markdown",
   "id": "rocky-foundation",
   "metadata": {},
   "source": [
    "**List**"
   ]
  },
  {
   "cell_type": "code",
   "execution_count": 24,
   "id": "fitting-posting",
   "metadata": {},
   "outputs": [
    {
     "data": {
      "text/plain": [
       "['Afterimages:Audre Lorde:1997',\n",
       " '  The Shadow:William Carlos Williams:1915',\n",
       " ' Ecstasy:Gabriela Mistral:1925',\n",
       " '   Georgia Dusk:Jean Toomer:1923',\n",
       " '   Parting Before Daybreak:An Qi:2014',\n",
       " ' The Untold Want:Walt Whitman:1871',\n",
       " \" Mr. Grumpledump's Song:Shel Silverstein:2004\",\n",
       " ' Angel Sound Mexico City:Carmen Boullosa:2013',\n",
       " ' In Love:Kamala Suraiyya:1965',\n",
       " ' Dream Variations:Langston Hughes:1994',\n",
       " ' Dreamwood:Adrienne Rich:1987']"
      ]
     },
     "execution_count": 24,
     "metadata": {},
     "output_type": "execute_result"
    }
   ],
   "source": [
    "poem_list = poem.split(\",\")\n",
    "poem_list"
   ]
  },
  {
   "cell_type": "code",
   "execution_count": 27,
   "id": "unlikely-yesterday",
   "metadata": {},
   "outputs": [
    {
     "data": {
      "text/plain": [
       "['Afterimages:Audre Lorde:1997',\n",
       " 'The Shadow:William Carlos Williams:1915',\n",
       " 'Ecstasy:Gabriela Mistral:1925',\n",
       " 'Georgia Dusk:Jean Toomer:1923',\n",
       " 'Parting Before Daybreak:An Qi:2014',\n",
       " 'The Untold Want:Walt Whitman:1871',\n",
       " \"Mr. Grumpledump's Song:Shel Silverstein:2004\",\n",
       " 'Angel Sound Mexico City:Carmen Boullosa:2013',\n",
       " 'In Love:Kamala Suraiyya:1965',\n",
       " 'Dream Variations:Langston Hughes:1994',\n",
       " 'Dreamwood:Adrienne Rich:1987']"
      ]
     },
     "execution_count": 27,
     "metadata": {},
     "output_type": "execute_result"
    }
   ],
   "source": [
    "poem_clean = []\n",
    "for x in poem_list:\n",
    "    poem_clean.append(x.strip(\" \"))\n",
    "poem_clean"
   ]
  },
  {
   "cell_type": "markdown",
   "id": "standard-royalty",
   "metadata": {},
   "source": [
    "**Separate each poem details**"
   ]
  },
  {
   "cell_type": "code",
   "execution_count": 28,
   "id": "agreed-triumph",
   "metadata": {},
   "outputs": [
    {
     "data": {
      "text/plain": [
       "[['Afterimages', 'Audre Lorde', '1997'],\n",
       " ['The Shadow', 'William Carlos Williams', '1915'],\n",
       " ['Ecstasy', 'Gabriela Mistral', '1925'],\n",
       " ['Georgia Dusk', 'Jean Toomer', '1923'],\n",
       " ['Parting Before Daybreak', 'An Qi', '2014'],\n",
       " ['The Untold Want', 'Walt Whitman', '1871'],\n",
       " [\"Mr. Grumpledump's Song\", 'Shel Silverstein', '2004'],\n",
       " ['Angel Sound Mexico City', 'Carmen Boullosa', '2013'],\n",
       " ['In Love', 'Kamala Suraiyya', '1965'],\n",
       " ['Dream Variations', 'Langston Hughes', '1994'],\n",
       " ['Dreamwood', 'Adrienne Rich', '1987']]"
      ]
     },
     "execution_count": 28,
     "metadata": {},
     "output_type": "execute_result"
    }
   ],
   "source": [
    "details = []\n",
    "for x in poem_clean:\n",
    "    details.append(x.split(\":\"))\n",
    "details"
   ]
  },
  {
   "cell_type": "code",
   "execution_count": 29,
   "id": "short-algeria",
   "metadata": {},
   "outputs": [],
   "source": [
    "titles = []\n",
    "poets = []\n",
    "dates = []"
   ]
  },
  {
   "cell_type": "code",
   "execution_count": 30,
   "id": "scientific-navigator",
   "metadata": {},
   "outputs": [],
   "source": [
    "for y in details:\n",
    "    titles.append(y[0])\n",
    "    poets.append(y[1])\n",
    "    dates.append(y[2])"
   ]
  },
  {
   "cell_type": "code",
   "execution_count": 31,
   "id": "dutch-western",
   "metadata": {},
   "outputs": [],
   "source": [
    "df = pd.DataFrame({\"Date\": dates,\n",
    "                   \"Poet\": poets,\n",
    "                   \"Title\": titles})"
   ]
  },
  {
   "cell_type": "code",
   "execution_count": 32,
   "id": "played-investment",
   "metadata": {},
   "outputs": [
    {
     "data": {
      "text/html": [
       "<div>\n",
       "<style scoped>\n",
       "    .dataframe tbody tr th:only-of-type {\n",
       "        vertical-align: middle;\n",
       "    }\n",
       "\n",
       "    .dataframe tbody tr th {\n",
       "        vertical-align: top;\n",
       "    }\n",
       "\n",
       "    .dataframe thead th {\n",
       "        text-align: right;\n",
       "    }\n",
       "</style>\n",
       "<table border=\"1\" class=\"dataframe\">\n",
       "  <thead>\n",
       "    <tr style=\"text-align: right;\">\n",
       "      <th></th>\n",
       "      <th>Date</th>\n",
       "      <th>Poet</th>\n",
       "      <th>Title</th>\n",
       "    </tr>\n",
       "  </thead>\n",
       "  <tbody>\n",
       "    <tr>\n",
       "      <th>0</th>\n",
       "      <td>1997</td>\n",
       "      <td>Audre Lorde</td>\n",
       "      <td>Afterimages</td>\n",
       "    </tr>\n",
       "    <tr>\n",
       "      <th>1</th>\n",
       "      <td>1915</td>\n",
       "      <td>William Carlos Williams</td>\n",
       "      <td>The Shadow</td>\n",
       "    </tr>\n",
       "    <tr>\n",
       "      <th>2</th>\n",
       "      <td>1925</td>\n",
       "      <td>Gabriela Mistral</td>\n",
       "      <td>Ecstasy</td>\n",
       "    </tr>\n",
       "    <tr>\n",
       "      <th>3</th>\n",
       "      <td>1923</td>\n",
       "      <td>Jean Toomer</td>\n",
       "      <td>Georgia Dusk</td>\n",
       "    </tr>\n",
       "    <tr>\n",
       "      <th>4</th>\n",
       "      <td>2014</td>\n",
       "      <td>An Qi</td>\n",
       "      <td>Parting Before Daybreak</td>\n",
       "    </tr>\n",
       "    <tr>\n",
       "      <th>5</th>\n",
       "      <td>1871</td>\n",
       "      <td>Walt Whitman</td>\n",
       "      <td>The Untold Want</td>\n",
       "    </tr>\n",
       "    <tr>\n",
       "      <th>6</th>\n",
       "      <td>2004</td>\n",
       "      <td>Shel Silverstein</td>\n",
       "      <td>Mr. Grumpledump's Song</td>\n",
       "    </tr>\n",
       "    <tr>\n",
       "      <th>7</th>\n",
       "      <td>2013</td>\n",
       "      <td>Carmen Boullosa</td>\n",
       "      <td>Angel Sound Mexico City</td>\n",
       "    </tr>\n",
       "    <tr>\n",
       "      <th>8</th>\n",
       "      <td>1965</td>\n",
       "      <td>Kamala Suraiyya</td>\n",
       "      <td>In Love</td>\n",
       "    </tr>\n",
       "    <tr>\n",
       "      <th>9</th>\n",
       "      <td>1994</td>\n",
       "      <td>Langston Hughes</td>\n",
       "      <td>Dream Variations</td>\n",
       "    </tr>\n",
       "    <tr>\n",
       "      <th>10</th>\n",
       "      <td>1987</td>\n",
       "      <td>Adrienne Rich</td>\n",
       "      <td>Dreamwood</td>\n",
       "    </tr>\n",
       "  </tbody>\n",
       "</table>\n",
       "</div>"
      ],
      "text/plain": [
       "    Date                     Poet                    Title\n",
       "0   1997              Audre Lorde              Afterimages\n",
       "1   1915  William Carlos Williams               The Shadow\n",
       "2   1925         Gabriela Mistral                  Ecstasy\n",
       "3   1923              Jean Toomer             Georgia Dusk\n",
       "4   2014                    An Qi  Parting Before Daybreak\n",
       "5   1871             Walt Whitman          The Untold Want\n",
       "6   2004         Shel Silverstein   Mr. Grumpledump's Song\n",
       "7   2013          Carmen Boullosa  Angel Sound Mexico City\n",
       "8   1965          Kamala Suraiyya                  In Love\n",
       "9   1994          Langston Hughes         Dream Variations\n",
       "10  1987            Adrienne Rich                Dreamwood"
      ]
     },
     "execution_count": 32,
     "metadata": {},
     "output_type": "execute_result"
    }
   ],
   "source": [
    "df"
   ]
  }
 ],
 "metadata": {
  "kernelspec": {
   "display_name": "Python 3",
   "language": "python",
   "name": "python3"
  },
  "language_info": {
   "codemirror_mode": {
    "name": "ipython",
    "version": 3
   },
   "file_extension": ".py",
   "mimetype": "text/x-python",
   "name": "python",
   "nbconvert_exporter": "python",
   "pygments_lexer": "ipython3",
   "version": "3.8.5"
  }
 },
 "nbformat": 4,
 "nbformat_minor": 5
}
