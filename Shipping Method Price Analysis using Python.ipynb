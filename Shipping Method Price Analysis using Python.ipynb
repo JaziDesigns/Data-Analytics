{
 "cells": [
  {
   "cell_type": "code",
   "execution_count": 1,
   "id": "engaging-orange",
   "metadata": {},
   "outputs": [
    {
     "name": "stdout",
     "output_type": "stream",
     "text": [
      "Assalam-o-Alaikum!\n"
     ]
    }
   ],
   "source": [
    "greetings = \"Assalam-o-Alaikum!\"\n",
    "print(greetings)"
   ]
  },
  {
   "cell_type": "markdown",
   "id": "latin-sight",
   "metadata": {},
   "source": [
    "### Shipping Methods"
   ]
  },
  {
   "cell_type": "markdown",
   "id": "subject-breakdown",
   "metadata": {},
   "source": [
    "- Ground Shipping\n",
    "- Premium Ground Shipping\n",
    "- Drone Shipping"
   ]
  },
  {
   "cell_type": "markdown",
   "id": "comparable-kazakhstan",
   "metadata": {},
   "source": [
    "**Ground Shipping Cost**"
   ]
  },
  {
   "cell_type": "code",
   "execution_count": 5,
   "id": "bearing-proposition",
   "metadata": {},
   "outputs": [],
   "source": [
    "def ground_shipping(weight):\n",
    "    if weight <= 2:\n",
    "        cost = weight * 1.50 + 20.00\n",
    "    elif weight > 2 and weight <= 6:\n",
    "        cost = weight * 3.00 + 20.00\n",
    "    elif weight > 6 and weight <= 10:\n",
    "        cost = weight * 4.00 + 20.00\n",
    "    else:\n",
    "        cost = weight * 4.75 + 20.00\n",
    "    return cost"
   ]
  },
  {
   "cell_type": "code",
   "execution_count": 8,
   "id": "laughing-illustration",
   "metadata": {},
   "outputs": [
    {
     "name": "stdout",
     "output_type": "stream",
     "text": [
      "Cost by using ground shipping of 1.78 weight  = $22.67\n"
     ]
    }
   ],
   "source": [
    "weight_g = 1.78\n",
    "print(\"Cost by using ground shipping of\", weight_g, \"weight  =\", \"$\" + str(ground_shipping(weight_g)))"
   ]
  },
  {
   "cell_type": "code",
   "execution_count": 10,
   "id": "suburban-effects",
   "metadata": {},
   "outputs": [
    {
     "name": "stdout",
     "output_type": "stream",
     "text": [
      "Cost by using ground shipping of 4.2 weight  = $32.6\n"
     ]
    }
   ],
   "source": [
    "weight_g = 4.20\n",
    "print(\"Cost by using ground shipping of\", weight_g, \"weight  =\", \"$\" + str(ground_shipping(weight_g)))"
   ]
  },
  {
   "cell_type": "code",
   "execution_count": 11,
   "id": "reverse-scope",
   "metadata": {},
   "outputs": [
    {
     "name": "stdout",
     "output_type": "stream",
     "text": [
      "Cost by using ground shipping of 9.11 weight  = $56.44\n"
     ]
    }
   ],
   "source": [
    "weight_g = 9.11\n",
    "print(\"Cost by using ground shipping of\", weight_g, \"weight  =\", \"$\" + str(ground_shipping(weight_g)))"
   ]
  },
  {
   "cell_type": "code",
   "execution_count": 12,
   "id": "funded-glucose",
   "metadata": {},
   "outputs": [
    {
     "name": "stdout",
     "output_type": "stream",
     "text": [
      "Cost by using ground shipping of 12.56 weight  = $79.66\n"
     ]
    }
   ],
   "source": [
    "weight_g = 12.56\n",
    "print(\"Cost by using ground shipping of\", weight_g, \"weight  =\", \"$\" + str(ground_shipping(weight_g)))"
   ]
  },
  {
   "cell_type": "markdown",
   "id": "considered-tulsa",
   "metadata": {},
   "source": [
    "**Cost by using Premium Ground Shipping Service**"
   ]
  },
  {
   "cell_type": "code",
   "execution_count": 14,
   "id": "alleged-dollar",
   "metadata": {},
   "outputs": [
    {
     "name": "stdout",
     "output_type": "stream",
     "text": [
      "Cost by using Premium Ground Shipping Service = $125\n"
     ]
    }
   ],
   "source": [
    "cpgs = 125\n",
    "print(\"Cost by using Premium Ground Shipping Service =\", \"$\" + str(cpgs))"
   ]
  },
  {
   "cell_type": "markdown",
   "id": "ethical-newcastle",
   "metadata": {},
   "source": [
    "**Drone Shipping Cost**"
   ]
  },
  {
   "cell_type": "code",
   "execution_count": 15,
   "id": "growing-possibility",
   "metadata": {},
   "outputs": [],
   "source": [
    "def drone_shipping(weight):\n",
    "    if weight <= 2:\n",
    "        cost = weight * 4.50\n",
    "    elif weight > 2 and weight <= 6:\n",
    "        cost = weight * 9.00\n",
    "    elif weight > 6 and weight <= 10:\n",
    "        cost = weight * 12.00\n",
    "    else:\n",
    "        cost = weight * 14.25\n",
    "    return cost"
   ]
  },
  {
   "cell_type": "code",
   "execution_count": 26,
   "id": "handmade-tuning",
   "metadata": {},
   "outputs": [
    {
     "name": "stdout",
     "output_type": "stream",
     "text": [
      "Cost by using ground shipping of 1.92 weight  = $8.64\n"
     ]
    }
   ],
   "source": [
    "weight_d = 1.92\n",
    "print(\"Cost by using ground shipping of\", weight_d, \"weight  =\", \"$\" + str(drone_shipping(weight_d)))"
   ]
  },
  {
   "cell_type": "code",
   "execution_count": 27,
   "id": "guilty-century",
   "metadata": {},
   "outputs": [
    {
     "name": "stdout",
     "output_type": "stream",
     "text": [
      "Cost by using ground shipping of 5.12 weight  = $46.08\n"
     ]
    }
   ],
   "source": [
    "weight_d = 5.12\n",
    "print(\"Cost by using ground shipping of\", weight_d, \"weight  =\", \"$\" + str(drone_shipping(weight_d)))"
   ]
  },
  {
   "cell_type": "code",
   "execution_count": 28,
   "id": "strange-speaking",
   "metadata": {},
   "outputs": [
    {
     "name": "stdout",
     "output_type": "stream",
     "text": [
      "Cost by using ground shipping of 8.56 weight  = $102.72\n"
     ]
    }
   ],
   "source": [
    "weight_d = 8.56\n",
    "print(\"Cost by using ground shipping of\", weight_d, \"weight  =\", \"$\" + str(drone_shipping(weight_d)))"
   ]
  },
  {
   "cell_type": "code",
   "execution_count": 32,
   "id": "threatened-tomorrow",
   "metadata": {},
   "outputs": [
    {
     "name": "stdout",
     "output_type": "stream",
     "text": [
      "Cost by using ground shipping of 12.5 weight  = $178.125\n"
     ]
    }
   ],
   "source": [
    "weight_d = 12.5\n",
    "print(\"Cost by using ground shipping of\", weight_d, \"weight  =\", \"$\" + str(drone_shipping(weight_d)))"
   ]
  },
  {
   "cell_type": "markdown",
   "id": "religious-enough",
   "metadata": {},
   "source": [
    "### Economical Analysis"
   ]
  },
  {
   "cell_type": "code",
   "execution_count": 41,
   "id": "contained-merit",
   "metadata": {},
   "outputs": [],
   "source": [
    "def economic(weight):\n",
    "    if ground_shipping(weight) < cpgs and ground_shipping(weight) < drone_shipping(weight):\n",
    "        print(\"You should use ground shipping service, it will cost $\", str(ground_shipping(weight)))\n",
    "    elif drone_shipping(weight) < cpgs and ground_shipping(weight) < drone_shipping(weight):\n",
    "        print(\"You should use drone shipping service, it will cost $\", str(drone_shipping(weight)))\n",
    "    else:\n",
    "        print(\"You should use premium ground shipping service, it will cost $\", str(cpgs))"
   ]
  },
  {
   "cell_type": "code",
   "execution_count": 43,
   "id": "isolated-patrol",
   "metadata": {},
   "outputs": [
    {
     "name": "stdout",
     "output_type": "stream",
     "text": [
      "You should use ground shipping service, it will cost $ 34.1\n"
     ]
    }
   ],
   "source": [
    "economic(4.7)"
   ]
  },
  {
   "cell_type": "code",
   "execution_count": 48,
   "id": "internal-package",
   "metadata": {},
   "outputs": [
    {
     "name": "stdout",
     "output_type": "stream",
     "text": [
      "You should use premium ground shipping service, it will cost $ 125\n"
     ]
    }
   ],
   "source": [
    "economic(23.3)"
   ]
  },
  {
   "cell_type": "code",
   "execution_count": 49,
   "id": "settled-desert",
   "metadata": {},
   "outputs": [
    {
     "name": "stdout",
     "output_type": "stream",
     "text": [
      "You should use ground shipping service, it will cost $ 96.0\n"
     ]
    }
   ],
   "source": [
    "economic(16)"
   ]
  },
  {
   "cell_type": "code",
   "execution_count": null,
   "id": "ultimate-navigation",
   "metadata": {},
   "outputs": [],
   "source": []
  }
 ],
 "metadata": {
  "kernelspec": {
   "display_name": "Python 3",
   "language": "python",
   "name": "python3"
  },
  "language_info": {
   "codemirror_mode": {
    "name": "ipython",
    "version": 3
   },
   "file_extension": ".py",
   "mimetype": "text/x-python",
   "name": "python",
   "nbconvert_exporter": "python",
   "pygments_lexer": "ipython3",
   "version": "3.8.5"
  }
 },
 "nbformat": 4,
 "nbformat_minor": 5
}
