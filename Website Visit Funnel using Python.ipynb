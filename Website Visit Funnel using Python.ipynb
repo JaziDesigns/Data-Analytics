{
 "cells": [
  {
   "cell_type": "code",
   "execution_count": 61,
   "id": "handed-fighter",
   "metadata": {},
   "outputs": [
    {
     "name": "stdout",
     "output_type": "stream",
     "text": [
      "Assalam-o-Alaikum!\n"
     ]
    }
   ],
   "source": [
    "greetings = \"Assalam-o-Alaikum!\"\n",
    "print(greetings)"
   ]
  },
  {
   "cell_type": "markdown",
   "id": "coordinated-lending",
   "metadata": {},
   "source": [
    "### Import Libraries"
   ]
  },
  {
   "cell_type": "code",
   "execution_count": 92,
   "id": "sharp-adjustment",
   "metadata": {},
   "outputs": [],
   "source": [
    "import pandas as pd\n",
    "import matplotlib.pyplot as plt\n",
    "import seaborn as sns"
   ]
  },
  {
   "cell_type": "code",
   "execution_count": 63,
   "id": "indoor-wisconsin",
   "metadata": {},
   "outputs": [],
   "source": [
    "import warnings\n",
    "warnings.filterwarnings(\"ignore\")"
   ]
  },
  {
   "cell_type": "markdown",
   "id": "published-columbia",
   "metadata": {},
   "source": [
    "### Period Function"
   ]
  },
  {
   "cell_type": "code",
   "execution_count": 64,
   "id": "concrete-scanning",
   "metadata": {},
   "outputs": [],
   "source": [
    "def f(x):\n",
    "    if (x > 4) and (x <= 8):\n",
    "        return 'Early Morning'\n",
    "    elif (x > 8) and (x <= 12 ):\n",
    "        return 'Morning'\n",
    "    elif (x > 12) and (x <= 16):\n",
    "        return'Noon'\n",
    "    elif (x > 16) and (x <= 20) :\n",
    "        return 'Evening'\n",
    "    elif (x > 20) and (x <= 24):\n",
    "        return'Night'\n",
    "    elif (x <= 4):\n",
    "        return'Late Night'"
   ]
  },
  {
   "cell_type": "markdown",
   "id": "iraqi-moderator",
   "metadata": {},
   "source": [
    "### Import Dataset"
   ]
  },
  {
   "cell_type": "markdown",
   "id": "superb-finnish",
   "metadata": {},
   "source": [
    "**Visits Dataset**"
   ]
  },
  {
   "cell_type": "code",
   "execution_count": 105,
   "id": "mysterious-visibility",
   "metadata": {},
   "outputs": [
    {
     "data": {
      "text/html": [
       "<div>\n",
       "<style scoped>\n",
       "    .dataframe tbody tr th:only-of-type {\n",
       "        vertical-align: middle;\n",
       "    }\n",
       "\n",
       "    .dataframe tbody tr th {\n",
       "        vertical-align: top;\n",
       "    }\n",
       "\n",
       "    .dataframe thead th {\n",
       "        text-align: right;\n",
       "    }\n",
       "</style>\n",
       "<table border=\"1\" class=\"dataframe\">\n",
       "  <thead>\n",
       "    <tr style=\"text-align: right;\">\n",
       "      <th></th>\n",
       "      <th>user_id</th>\n",
       "      <th>visit_time</th>\n",
       "    </tr>\n",
       "  </thead>\n",
       "  <tbody>\n",
       "    <tr>\n",
       "      <th>0</th>\n",
       "      <td>943647ef-3682-4750-a2e1-918ba6f16188</td>\n",
       "      <td>2017-04-07 15:14:00</td>\n",
       "    </tr>\n",
       "    <tr>\n",
       "      <th>1</th>\n",
       "      <td>0c3a3dd0-fb64-4eac-bf84-ba069ce409f2</td>\n",
       "      <td>2017-01-26 14:24:00</td>\n",
       "    </tr>\n",
       "    <tr>\n",
       "      <th>2</th>\n",
       "      <td>6e0b2d60-4027-4d9a-babd-0e7d40859fb1</td>\n",
       "      <td>2017-08-20 08:23:00</td>\n",
       "    </tr>\n",
       "    <tr>\n",
       "      <th>3</th>\n",
       "      <td>6879527e-c5a6-4d14-b2da-50b85212b0ab</td>\n",
       "      <td>2017-11-04 18:15:00</td>\n",
       "    </tr>\n",
       "    <tr>\n",
       "      <th>4</th>\n",
       "      <td>a84327ff-5daa-4ba1-b789-d5b4caf81e96</td>\n",
       "      <td>2017-02-27 11:25:00</td>\n",
       "    </tr>\n",
       "  </tbody>\n",
       "</table>\n",
       "</div>"
      ],
      "text/plain": [
       "                                user_id          visit_time\n",
       "0  943647ef-3682-4750-a2e1-918ba6f16188 2017-04-07 15:14:00\n",
       "1  0c3a3dd0-fb64-4eac-bf84-ba069ce409f2 2017-01-26 14:24:00\n",
       "2  6e0b2d60-4027-4d9a-babd-0e7d40859fb1 2017-08-20 08:23:00\n",
       "3  6879527e-c5a6-4d14-b2da-50b85212b0ab 2017-11-04 18:15:00\n",
       "4  a84327ff-5daa-4ba1-b789-d5b4caf81e96 2017-02-27 11:25:00"
      ]
     },
     "execution_count": 105,
     "metadata": {},
     "output_type": "execute_result"
    }
   ],
   "source": [
    "v = pd.read_csv(\"visits.txt\", parse_dates = [1])\n",
    "v.head()"
   ]
  },
  {
   "cell_type": "code",
   "execution_count": 66,
   "id": "every-camel",
   "metadata": {},
   "outputs": [],
   "source": [
    "# Make Date and Time Columns\n",
    "v[\"visit_time\"] = v[\"visit_time\"].astype(\"str\")\n",
    "v[\"visit_time\"] = v[\"visit_time\"].str.split(\" \")\n",
    "v[\"Date\"] = v[\"visit_time\"].str.get(0)\n",
    "v[\"Time\"] = v[\"visit_time\"].str.get(1)\n",
    "del v[\"visit_time\"]\n",
    "\n",
    "# Make Hour Column to identify session\n",
    "v[\"Time2\"] = v[\"Time\"].str.split(\":\")\n",
    "v[\"Hour\"] = v[\"Time2\"].str.get(0)\n",
    "v[\"Hour\"] = v[\"Hour\"].astype(\"int\")\n",
    "\n",
    "# Apply Hour function\n",
    "v['Period'] = v['Hour'].apply(f)\n",
    "\n",
    "# Drop unnecessary columns\n",
    "v = v.drop(columns = [\"Time2\", \"Hour\"])"
   ]
  },
  {
   "cell_type": "code",
   "execution_count": 67,
   "id": "commercial-component",
   "metadata": {},
   "outputs": [
    {
     "data": {
      "text/html": [
       "<div>\n",
       "<style scoped>\n",
       "    .dataframe tbody tr th:only-of-type {\n",
       "        vertical-align: middle;\n",
       "    }\n",
       "\n",
       "    .dataframe tbody tr th {\n",
       "        vertical-align: top;\n",
       "    }\n",
       "\n",
       "    .dataframe thead th {\n",
       "        text-align: right;\n",
       "    }\n",
       "</style>\n",
       "<table border=\"1\" class=\"dataframe\">\n",
       "  <thead>\n",
       "    <tr style=\"text-align: right;\">\n",
       "      <th></th>\n",
       "      <th>user_id</th>\n",
       "      <th>Date</th>\n",
       "      <th>Time</th>\n",
       "      <th>Period</th>\n",
       "    </tr>\n",
       "  </thead>\n",
       "  <tbody>\n",
       "    <tr>\n",
       "      <th>0</th>\n",
       "      <td>943647ef-3682-4750-a2e1-918ba6f16188</td>\n",
       "      <td>2017-04-07</td>\n",
       "      <td>15:14:00</td>\n",
       "      <td>Noon</td>\n",
       "    </tr>\n",
       "    <tr>\n",
       "      <th>1</th>\n",
       "      <td>0c3a3dd0-fb64-4eac-bf84-ba069ce409f2</td>\n",
       "      <td>2017-01-26</td>\n",
       "      <td>14:24:00</td>\n",
       "      <td>Noon</td>\n",
       "    </tr>\n",
       "    <tr>\n",
       "      <th>2</th>\n",
       "      <td>6e0b2d60-4027-4d9a-babd-0e7d40859fb1</td>\n",
       "      <td>2017-08-20</td>\n",
       "      <td>08:23:00</td>\n",
       "      <td>Early Morning</td>\n",
       "    </tr>\n",
       "    <tr>\n",
       "      <th>3</th>\n",
       "      <td>6879527e-c5a6-4d14-b2da-50b85212b0ab</td>\n",
       "      <td>2017-11-04</td>\n",
       "      <td>18:15:00</td>\n",
       "      <td>Evening</td>\n",
       "    </tr>\n",
       "    <tr>\n",
       "      <th>4</th>\n",
       "      <td>a84327ff-5daa-4ba1-b789-d5b4caf81e96</td>\n",
       "      <td>2017-02-27</td>\n",
       "      <td>11:25:00</td>\n",
       "      <td>Morning</td>\n",
       "    </tr>\n",
       "  </tbody>\n",
       "</table>\n",
       "</div>"
      ],
      "text/plain": [
       "                                user_id        Date      Time         Period\n",
       "0  943647ef-3682-4750-a2e1-918ba6f16188  2017-04-07  15:14:00           Noon\n",
       "1  0c3a3dd0-fb64-4eac-bf84-ba069ce409f2  2017-01-26  14:24:00           Noon\n",
       "2  6e0b2d60-4027-4d9a-babd-0e7d40859fb1  2017-08-20  08:23:00  Early Morning\n",
       "3  6879527e-c5a6-4d14-b2da-50b85212b0ab  2017-11-04  18:15:00        Evening\n",
       "4  a84327ff-5daa-4ba1-b789-d5b4caf81e96  2017-02-27  11:25:00        Morning"
      ]
     },
     "execution_count": 67,
     "metadata": {},
     "output_type": "execute_result"
    }
   ],
   "source": [
    "v.head()"
   ]
  },
  {
   "cell_type": "code",
   "execution_count": 68,
   "id": "false-shoulder",
   "metadata": {},
   "outputs": [
    {
     "name": "stdout",
     "output_type": "stream",
     "text": [
      "<class 'pandas.core.frame.DataFrame'>\n",
      "RangeIndex: 2000 entries, 0 to 1999\n",
      "Data columns (total 4 columns):\n",
      " #   Column   Non-Null Count  Dtype \n",
      "---  ------   --------------  ----- \n",
      " 0   user_id  2000 non-null   object\n",
      " 1   Date     2000 non-null   object\n",
      " 2   Time     2000 non-null   object\n",
      " 3   Period   2000 non-null   object\n",
      "dtypes: object(4)\n",
      "memory usage: 62.6+ KB\n"
     ]
    }
   ],
   "source": [
    "# Visit Data Information\n",
    "v.info()"
   ]
  },
  {
   "cell_type": "code",
   "execution_count": 69,
   "id": "turkish-subsection",
   "metadata": {},
   "outputs": [
    {
     "data": {
      "text/html": [
       "<div>\n",
       "<style scoped>\n",
       "    .dataframe tbody tr th:only-of-type {\n",
       "        vertical-align: middle;\n",
       "    }\n",
       "\n",
       "    .dataframe tbody tr th {\n",
       "        vertical-align: top;\n",
       "    }\n",
       "\n",
       "    .dataframe thead th {\n",
       "        text-align: right;\n",
       "    }\n",
       "</style>\n",
       "<table border=\"1\" class=\"dataframe\">\n",
       "  <thead>\n",
       "    <tr style=\"text-align: right;\">\n",
       "      <th></th>\n",
       "      <th>Date</th>\n",
       "      <th>Visits</th>\n",
       "    </tr>\n",
       "  </thead>\n",
       "  <tbody>\n",
       "    <tr>\n",
       "      <th>0</th>\n",
       "      <td>2017-02-14</td>\n",
       "      <td>15</td>\n",
       "    </tr>\n",
       "    <tr>\n",
       "      <th>1</th>\n",
       "      <td>2017-08-09</td>\n",
       "      <td>14</td>\n",
       "    </tr>\n",
       "    <tr>\n",
       "      <th>2</th>\n",
       "      <td>2017-01-06</td>\n",
       "      <td>14</td>\n",
       "    </tr>\n",
       "    <tr>\n",
       "      <th>3</th>\n",
       "      <td>2017-09-22</td>\n",
       "      <td>14</td>\n",
       "    </tr>\n",
       "    <tr>\n",
       "      <th>4</th>\n",
       "      <td>2017-11-17</td>\n",
       "      <td>13</td>\n",
       "    </tr>\n",
       "    <tr>\n",
       "      <th>5</th>\n",
       "      <td>2017-11-21</td>\n",
       "      <td>13</td>\n",
       "    </tr>\n",
       "    <tr>\n",
       "      <th>6</th>\n",
       "      <td>2017-09-27</td>\n",
       "      <td>13</td>\n",
       "    </tr>\n",
       "    <tr>\n",
       "      <th>7</th>\n",
       "      <td>2017-05-27</td>\n",
       "      <td>13</td>\n",
       "    </tr>\n",
       "    <tr>\n",
       "      <th>8</th>\n",
       "      <td>2017-06-27</td>\n",
       "      <td>13</td>\n",
       "    </tr>\n",
       "    <tr>\n",
       "      <th>9</th>\n",
       "      <td>2017-02-16</td>\n",
       "      <td>12</td>\n",
       "    </tr>\n",
       "  </tbody>\n",
       "</table>\n",
       "</div>"
      ],
      "text/plain": [
       "         Date  Visits\n",
       "0  2017-02-14      15\n",
       "1  2017-08-09      14\n",
       "2  2017-01-06      14\n",
       "3  2017-09-22      14\n",
       "4  2017-11-17      13\n",
       "5  2017-11-21      13\n",
       "6  2017-09-27      13\n",
       "7  2017-05-27      13\n",
       "8  2017-06-27      13\n",
       "9  2017-02-16      12"
      ]
     },
     "execution_count": 69,
     "metadata": {},
     "output_type": "execute_result"
    }
   ],
   "source": [
    "# Top 10 Frequent visits by Dates\"\n",
    "vd = v[\"Date\"].value_counts().to_frame().reset_index()\n",
    "vd.columns = [\"Date\", \"Visits\"]\n",
    "vd.head(10)"
   ]
  },
  {
   "cell_type": "code",
   "execution_count": 70,
   "id": "compressed-identifier",
   "metadata": {},
   "outputs": [
    {
     "data": {
      "text/html": [
       "<div>\n",
       "<style scoped>\n",
       "    .dataframe tbody tr th:only-of-type {\n",
       "        vertical-align: middle;\n",
       "    }\n",
       "\n",
       "    .dataframe tbody tr th {\n",
       "        vertical-align: top;\n",
       "    }\n",
       "\n",
       "    .dataframe thead th {\n",
       "        text-align: right;\n",
       "    }\n",
       "</style>\n",
       "<table border=\"1\" class=\"dataframe\">\n",
       "  <thead>\n",
       "    <tr style=\"text-align: right;\">\n",
       "      <th></th>\n",
       "      <th>Time</th>\n",
       "      <th>Visits</th>\n",
       "    </tr>\n",
       "  </thead>\n",
       "  <tbody>\n",
       "    <tr>\n",
       "      <th>0</th>\n",
       "      <td>18:54:00</td>\n",
       "      <td>6</td>\n",
       "    </tr>\n",
       "    <tr>\n",
       "      <th>1</th>\n",
       "      <td>03:21:00</td>\n",
       "      <td>6</td>\n",
       "    </tr>\n",
       "    <tr>\n",
       "      <th>2</th>\n",
       "      <td>07:33:00</td>\n",
       "      <td>6</td>\n",
       "    </tr>\n",
       "    <tr>\n",
       "      <th>3</th>\n",
       "      <td>06:15:00</td>\n",
       "      <td>6</td>\n",
       "    </tr>\n",
       "    <tr>\n",
       "      <th>4</th>\n",
       "      <td>15:18:00</td>\n",
       "      <td>5</td>\n",
       "    </tr>\n",
       "    <tr>\n",
       "      <th>5</th>\n",
       "      <td>07:57:00</td>\n",
       "      <td>5</td>\n",
       "    </tr>\n",
       "    <tr>\n",
       "      <th>6</th>\n",
       "      <td>20:55:00</td>\n",
       "      <td>5</td>\n",
       "    </tr>\n",
       "    <tr>\n",
       "      <th>7</th>\n",
       "      <td>10:54:00</td>\n",
       "      <td>5</td>\n",
       "    </tr>\n",
       "    <tr>\n",
       "      <th>8</th>\n",
       "      <td>12:25:00</td>\n",
       "      <td>5</td>\n",
       "    </tr>\n",
       "    <tr>\n",
       "      <th>9</th>\n",
       "      <td>21:03:00</td>\n",
       "      <td>5</td>\n",
       "    </tr>\n",
       "  </tbody>\n",
       "</table>\n",
       "</div>"
      ],
      "text/plain": [
       "       Time  Visits\n",
       "0  18:54:00       6\n",
       "1  03:21:00       6\n",
       "2  07:33:00       6\n",
       "3  06:15:00       6\n",
       "4  15:18:00       5\n",
       "5  07:57:00       5\n",
       "6  20:55:00       5\n",
       "7  10:54:00       5\n",
       "8  12:25:00       5\n",
       "9  21:03:00       5"
      ]
     },
     "execution_count": 70,
     "metadata": {},
     "output_type": "execute_result"
    }
   ],
   "source": [
    "# Top 10 Frequent visits by Time\n",
    "vt = v[\"Time\"].value_counts().to_frame().reset_index()\n",
    "vt.columns = [\"Time\", \"Visits\"]\n",
    "vt.head(10)"
   ]
  },
  {
   "cell_type": "code",
   "execution_count": 71,
   "id": "organized-booking",
   "metadata": {},
   "outputs": [
    {
     "data": {
      "image/png": "[encoded data removed]",
      "text/plain": [
       "<Figure size 1296x504 with 1 Axes>"
      ]
     },
     "metadata": {
      "needs_background": "light"
     },
     "output_type": "display_data"
    }
   ],
   "source": [
    "# Visits by Period\n",
    "vp = v[\"Period\"].value_counts().to_frame().reset_index()\n",
    "vp.columns = [\"Period\", \"Visits\"]\n",
    "vp\n",
    "\n",
    "plt.figure(figsize = (18, 7))\n",
    "graph = sns.barplot(x = \"Period\", y = \"Visits\", data = vp, palette = \"plasma\")\n",
    "for p in graph.patches:\n",
    "        graph.annotate('{:.0f}'.format(p.get_height()), \n",
    "                      (p.get_x()+0.41, p.get_height()),\n",
    "                       ha='center', va='bottom',color= 'black', size = 15)\n",
    "plt.title(\"Visits on Website by Period\", size = 15)\n",
    "plt.xticks(size = 15)\n",
    "plt.yticks(size = 15)\n",
    "plt.xlabel(None)\n",
    "plt.ylabel(None)\n",
    "plt.show()"
   ]
  },
  {
   "cell_type": "markdown",
   "id": "returning-incidence",
   "metadata": {},
   "source": [
    "**Cart Dataset**"
   ]
  },
  {
   "cell_type": "code",
   "execution_count": 106,
   "id": "crucial-plate",
   "metadata": {},
   "outputs": [
    {
     "data": {
      "text/html": [
       "<div>\n",
       "<style scoped>\n",
       "    .dataframe tbody tr th:only-of-type {\n",
       "        vertical-align: middle;\n",
       "    }\n",
       "\n",
       "    .dataframe tbody tr th {\n",
       "        vertical-align: top;\n",
       "    }\n",
       "\n",
       "    .dataframe thead th {\n",
       "        text-align: right;\n",
       "    }\n",
       "</style>\n",
       "<table border=\"1\" class=\"dataframe\">\n",
       "  <thead>\n",
       "    <tr style=\"text-align: right;\">\n",
       "      <th></th>\n",
       "      <th>user_id</th>\n",
       "      <th>cart_time</th>\n",
       "    </tr>\n",
       "  </thead>\n",
       "  <tbody>\n",
       "    <tr>\n",
       "      <th>30</th>\n",
       "      <td>aaf56850-1f1b-491c-b075-c985c63d32d1</td>\n",
       "      <td>2017-07-08 03:56:00</td>\n",
       "    </tr>\n",
       "    <tr>\n",
       "      <th>120</th>\n",
       "      <td>0b4f8bd2-d346-4cca-aec0-d6333abe9c56</td>\n",
       "      <td>2017-03-19 05:26:00</td>\n",
       "    </tr>\n",
       "    <tr>\n",
       "      <th>54</th>\n",
       "      <td>a5be8985-4570-479a-a4fa-211dd82386cf</td>\n",
       "      <td>2017-09-15 20:37:00</td>\n",
       "    </tr>\n",
       "    <tr>\n",
       "      <th>108</th>\n",
       "      <td>a25aad6a-55af-4ddc-92d1-e8c58f855329</td>\n",
       "      <td>2017-01-05 19:44:00</td>\n",
       "    </tr>\n",
       "    <tr>\n",
       "      <th>325</th>\n",
       "      <td>76b71c21-8735-4704-8fa7-93e46c5e7b8b</td>\n",
       "      <td>2017-04-02 21:18:00</td>\n",
       "    </tr>\n",
       "  </tbody>\n",
       "</table>\n",
       "</div>"
      ],
      "text/plain": [
       "                                  user_id           cart_time\n",
       "30   aaf56850-1f1b-491c-b075-c985c63d32d1 2017-07-08 03:56:00\n",
       "120  0b4f8bd2-d346-4cca-aec0-d6333abe9c56 2017-03-19 05:26:00\n",
       "54   a5be8985-4570-479a-a4fa-211dd82386cf 2017-09-15 20:37:00\n",
       "108  a25aad6a-55af-4ddc-92d1-e8c58f855329 2017-01-05 19:44:00\n",
       "325  76b71c21-8735-4704-8fa7-93e46c5e7b8b 2017-04-02 21:18:00"
      ]
     },
     "execution_count": 106,
     "metadata": {},
     "output_type": "execute_result"
    }
   ],
   "source": [
    "c = pd.read_csv(\"cart.txt\", parse_dates = [1])\n",
    "c.sample(5)"
   ]
  },
  {
   "cell_type": "code",
   "execution_count": 73,
   "id": "capital-breeding",
   "metadata": {},
   "outputs": [],
   "source": [
    "# Make Date and Time Columns\n",
    "c[\"cart_time\"] = c[\"cart_time\"].astype(\"str\")\n",
    "c[\"cart_time\"] = c[\"cart_time\"].str.split(\" \")\n",
    "c[\"Date\"] = c[\"cart_time\"].str.get(0)\n",
    "c[\"Time\"] = c[\"cart_time\"].str.get(1)\n",
    "del c[\"cart_time\"]\n",
    "\n",
    "# Make Hour Column to identify session\n",
    "c[\"Time2\"] = c[\"Time\"].str.split(\":\")\n",
    "c[\"Hour\"] = c[\"Time2\"].str.get(0)\n",
    "c[\"Hour\"] = c[\"Hour\"].astype(\"int\")\n",
    "\n",
    "# Apply Hour function\n",
    "c['Period'] = c['Hour'].apply(f)\n",
    "\n",
    "# Drop unnecessary columns\n",
    "c = c.drop(columns = [\"Time2\", \"Hour\"])"
   ]
  },
  {
   "cell_type": "code",
   "execution_count": 74,
   "id": "pressed-allah",
   "metadata": {},
   "outputs": [
    {
     "data": {
      "text/html": [
       "<div>\n",
       "<style scoped>\n",
       "    .dataframe tbody tr th:only-of-type {\n",
       "        vertical-align: middle;\n",
       "    }\n",
       "\n",
       "    .dataframe tbody tr th {\n",
       "        vertical-align: top;\n",
       "    }\n",
       "\n",
       "    .dataframe thead th {\n",
       "        text-align: right;\n",
       "    }\n",
       "</style>\n",
       "<table border=\"1\" class=\"dataframe\">\n",
       "  <thead>\n",
       "    <tr style=\"text-align: right;\">\n",
       "      <th></th>\n",
       "      <th>user_id</th>\n",
       "      <th>Date</th>\n",
       "      <th>Time</th>\n",
       "      <th>Period</th>\n",
       "    </tr>\n",
       "  </thead>\n",
       "  <tbody>\n",
       "    <tr>\n",
       "      <th>0</th>\n",
       "      <td>2be90e7c-9cca-44e0-bcc5-124b945ff168</td>\n",
       "      <td>2017-11-07</td>\n",
       "      <td>20:45:00</td>\n",
       "      <td>Evening</td>\n",
       "    </tr>\n",
       "    <tr>\n",
       "      <th>1</th>\n",
       "      <td>4397f73f-1da3-4ab3-91af-762792e25973</td>\n",
       "      <td>2017-05-27</td>\n",
       "      <td>01:35:00</td>\n",
       "      <td>Late Night</td>\n",
       "    </tr>\n",
       "    <tr>\n",
       "      <th>2</th>\n",
       "      <td>a9db3d4b-0a0a-4398-a55a-ebb2c7adf663</td>\n",
       "      <td>2017-03-04</td>\n",
       "      <td>10:38:00</td>\n",
       "      <td>Morning</td>\n",
       "    </tr>\n",
       "    <tr>\n",
       "      <th>3</th>\n",
       "      <td>b594862a-36c5-47d5-b818-6e9512b939b3</td>\n",
       "      <td>2017-09-27</td>\n",
       "      <td>08:22:00</td>\n",
       "      <td>Early Morning</td>\n",
       "    </tr>\n",
       "    <tr>\n",
       "      <th>4</th>\n",
       "      <td>a68a16e2-94f0-4ce8-8ce3-784af0bbb974</td>\n",
       "      <td>2017-07-26</td>\n",
       "      <td>15:48:00</td>\n",
       "      <td>Noon</td>\n",
       "    </tr>\n",
       "  </tbody>\n",
       "</table>\n",
       "</div>"
      ],
      "text/plain": [
       "                                user_id        Date      Time         Period\n",
       "0  2be90e7c-9cca-44e0-bcc5-124b945ff168  2017-11-07  20:45:00        Evening\n",
       "1  4397f73f-1da3-4ab3-91af-762792e25973  2017-05-27  01:35:00     Late Night\n",
       "2  a9db3d4b-0a0a-4398-a55a-ebb2c7adf663  2017-03-04  10:38:00        Morning\n",
       "3  b594862a-36c5-47d5-b818-6e9512b939b3  2017-09-27  08:22:00  Early Morning\n",
       "4  a68a16e2-94f0-4ce8-8ce3-784af0bbb974  2017-07-26  15:48:00           Noon"
      ]
     },
     "execution_count": 74,
     "metadata": {},
     "output_type": "execute_result"
    }
   ],
   "source": [
    "c.head()"
   ]
  },
  {
   "cell_type": "code",
   "execution_count": 75,
   "id": "accurate-machinery",
   "metadata": {},
   "outputs": [
    {
     "name": "stdout",
     "output_type": "stream",
     "text": [
      "<class 'pandas.core.frame.DataFrame'>\n",
      "RangeIndex: 400 entries, 0 to 399\n",
      "Data columns (total 4 columns):\n",
      " #   Column   Non-Null Count  Dtype \n",
      "---  ------   --------------  ----- \n",
      " 0   user_id  400 non-null    object\n",
      " 1   Date     400 non-null    object\n",
      " 2   Time     400 non-null    object\n",
      " 3   Period   400 non-null    object\n",
      "dtypes: object(4)\n",
      "memory usage: 12.6+ KB\n"
     ]
    }
   ],
   "source": [
    "c.info()"
   ]
  },
  {
   "cell_type": "code",
   "execution_count": 76,
   "id": "violent-majority",
   "metadata": {},
   "outputs": [
    {
     "data": {
      "text/html": [
       "<div>\n",
       "<style scoped>\n",
       "    .dataframe tbody tr th:only-of-type {\n",
       "        vertical-align: middle;\n",
       "    }\n",
       "\n",
       "    .dataframe tbody tr th {\n",
       "        vertical-align: top;\n",
       "    }\n",
       "\n",
       "    .dataframe thead th {\n",
       "        text-align: right;\n",
       "    }\n",
       "</style>\n",
       "<table border=\"1\" class=\"dataframe\">\n",
       "  <thead>\n",
       "    <tr style=\"text-align: right;\">\n",
       "      <th></th>\n",
       "      <th>Date</th>\n",
       "      <th>Cart</th>\n",
       "    </tr>\n",
       "  </thead>\n",
       "  <tbody>\n",
       "    <tr>\n",
       "      <th>0</th>\n",
       "      <td>2017-05-12</td>\n",
       "      <td>6</td>\n",
       "    </tr>\n",
       "    <tr>\n",
       "      <th>1</th>\n",
       "      <td>2017-11-20</td>\n",
       "      <td>6</td>\n",
       "    </tr>\n",
       "    <tr>\n",
       "      <th>2</th>\n",
       "      <td>2017-01-26</td>\n",
       "      <td>6</td>\n",
       "    </tr>\n",
       "    <tr>\n",
       "      <th>3</th>\n",
       "      <td>2017-11-21</td>\n",
       "      <td>5</td>\n",
       "    </tr>\n",
       "    <tr>\n",
       "      <th>4</th>\n",
       "      <td>2017-01-05</td>\n",
       "      <td>5</td>\n",
       "    </tr>\n",
       "  </tbody>\n",
       "</table>\n",
       "</div>"
      ],
      "text/plain": [
       "         Date  Cart\n",
       "0  2017-05-12     6\n",
       "1  2017-11-20     6\n",
       "2  2017-01-26     6\n",
       "3  2017-11-21     5\n",
       "4  2017-01-05     5"
      ]
     },
     "execution_count": 76,
     "metadata": {},
     "output_type": "execute_result"
    }
   ],
   "source": [
    "# Most Visits to cart by date\n",
    "cd = c[\"Date\"].value_counts().to_frame().reset_index()\n",
    "cd.columns = [\"Date\", \"Cart\"]\n",
    "cd.head()"
   ]
  },
  {
   "cell_type": "code",
   "execution_count": 77,
   "id": "super-scheme",
   "metadata": {},
   "outputs": [
    {
     "data": {
      "text/html": [
       "<div>\n",
       "<style scoped>\n",
       "    .dataframe tbody tr th:only-of-type {\n",
       "        vertical-align: middle;\n",
       "    }\n",
       "\n",
       "    .dataframe tbody tr th {\n",
       "        vertical-align: top;\n",
       "    }\n",
       "\n",
       "    .dataframe thead th {\n",
       "        text-align: right;\n",
       "    }\n",
       "</style>\n",
       "<table border=\"1\" class=\"dataframe\">\n",
       "  <thead>\n",
       "    <tr style=\"text-align: right;\">\n",
       "      <th></th>\n",
       "      <th>Time</th>\n",
       "      <th>Cart</th>\n",
       "    </tr>\n",
       "  </thead>\n",
       "  <tbody>\n",
       "    <tr>\n",
       "      <th>0</th>\n",
       "      <td>08:22:00</td>\n",
       "      <td>4</td>\n",
       "    </tr>\n",
       "    <tr>\n",
       "      <th>1</th>\n",
       "      <td>22:25:00</td>\n",
       "      <td>3</td>\n",
       "    </tr>\n",
       "    <tr>\n",
       "      <th>2</th>\n",
       "      <td>22:53:00</td>\n",
       "      <td>3</td>\n",
       "    </tr>\n",
       "    <tr>\n",
       "      <th>3</th>\n",
       "      <td>08:32:00</td>\n",
       "      <td>3</td>\n",
       "    </tr>\n",
       "    <tr>\n",
       "      <th>4</th>\n",
       "      <td>17:00:00</td>\n",
       "      <td>3</td>\n",
       "    </tr>\n",
       "  </tbody>\n",
       "</table>\n",
       "</div>"
      ],
      "text/plain": [
       "       Time  Cart\n",
       "0  08:22:00     4\n",
       "1  22:25:00     3\n",
       "2  22:53:00     3\n",
       "3  08:32:00     3\n",
       "4  17:00:00     3"
      ]
     },
     "execution_count": 77,
     "metadata": {},
     "output_type": "execute_result"
    }
   ],
   "source": [
    "# Most Visits to cart by Time\n",
    "ct = c[\"Time\"].value_counts().to_frame().reset_index()\n",
    "ct.columns = [\"Time\", \"Cart\"]\n",
    "ct.head()"
   ]
  },
  {
   "cell_type": "code",
   "execution_count": 78,
   "id": "intelligent-harvey",
   "metadata": {},
   "outputs": [
    {
     "data": {
      "image/png": "[encoded data removed]",
      "text/plain": [
       "<Figure size 1296x504 with 1 Axes>"
      ]
     },
     "metadata": {
      "needs_background": "light"
     },
     "output_type": "display_data"
    }
   ],
   "source": [
    "# Most Visits to cart by Period\n",
    "cp = c[\"Period\"].value_counts().to_frame().reset_index()\n",
    "cp.columns = [\"Period\", \"Cart\"]\n",
    "cp\n",
    "\n",
    "plt.figure(figsize = (18, 7))\n",
    "graph = sns.barplot(x = \"Period\", y = \"Cart\", data = cp, palette = \"hsv\")\n",
    "for p in graph.patches:\n",
    "        graph.annotate('{:.0f}'.format(p.get_height()), \n",
    "                      (p.get_x()+0.41, p.get_height()),\n",
    "                       ha='center', va='bottom',color= 'black', size = 15)\n",
    "plt.title(\"Cart on Website by Period\", size = 15)\n",
    "plt.xticks(size = 15)\n",
    "plt.yticks(size = 15)\n",
    "plt.xlabel(None)\n",
    "plt.ylabel(None)\n",
    "plt.show()"
   ]
  },
  {
   "cell_type": "markdown",
   "id": "typical-swedish",
   "metadata": {},
   "source": [
    "**Checkout Dataset**"
   ]
  },
  {
   "cell_type": "code",
   "execution_count": 107,
   "id": "invisible-paintball",
   "metadata": {},
   "outputs": [
    {
     "data": {
      "text/html": [
       "<div>\n",
       "<style scoped>\n",
       "    .dataframe tbody tr th:only-of-type {\n",
       "        vertical-align: middle;\n",
       "    }\n",
       "\n",
       "    .dataframe tbody tr th {\n",
       "        vertical-align: top;\n",
       "    }\n",
       "\n",
       "    .dataframe thead th {\n",
       "        text-align: right;\n",
       "    }\n",
       "</style>\n",
       "<table border=\"1\" class=\"dataframe\">\n",
       "  <thead>\n",
       "    <tr style=\"text-align: right;\">\n",
       "      <th></th>\n",
       "      <th>user_id</th>\n",
       "      <th>checkout_time</th>\n",
       "    </tr>\n",
       "  </thead>\n",
       "  <tbody>\n",
       "    <tr>\n",
       "      <th>37</th>\n",
       "      <td>7ee65388-0200-447f-acfd-93568e4fcc03</td>\n",
       "      <td>2017-05-18 07:00:00</td>\n",
       "    </tr>\n",
       "    <tr>\n",
       "      <th>292</th>\n",
       "      <td>70688015-a755-4b8a-a963-3528d85c8048</td>\n",
       "      <td>2017-09-24 07:45:00</td>\n",
       "    </tr>\n",
       "    <tr>\n",
       "      <th>252</th>\n",
       "      <td>21dec5fa-999a-45c5-b59b-18a1ee161379</td>\n",
       "      <td>2017-03-17 12:43:00</td>\n",
       "    </tr>\n",
       "    <tr>\n",
       "      <th>359</th>\n",
       "      <td>d2cb350b-2201-4290-b2e0-84a8bf0d6883</td>\n",
       "      <td>2017-08-08 16:14:00</td>\n",
       "    </tr>\n",
       "    <tr>\n",
       "      <th>324</th>\n",
       "      <td>ec7233f0-29e6-43a8-a5c1-260b9c754200</td>\n",
       "      <td>2017-05-12 09:17:00</td>\n",
       "    </tr>\n",
       "  </tbody>\n",
       "</table>\n",
       "</div>"
      ],
      "text/plain": [
       "                                  user_id       checkout_time\n",
       "37   7ee65388-0200-447f-acfd-93568e4fcc03 2017-05-18 07:00:00\n",
       "292  70688015-a755-4b8a-a963-3528d85c8048 2017-09-24 07:45:00\n",
       "252  21dec5fa-999a-45c5-b59b-18a1ee161379 2017-03-17 12:43:00\n",
       "359  d2cb350b-2201-4290-b2e0-84a8bf0d6883 2017-08-08 16:14:00\n",
       "324  ec7233f0-29e6-43a8-a5c1-260b9c754200 2017-05-12 09:17:00"
      ]
     },
     "execution_count": 107,
     "metadata": {},
     "output_type": "execute_result"
    }
   ],
   "source": [
    "co = pd.read_csv(\"checkout.txt\", parse_dates = [1])\n",
    "co.sample(5)"
   ]
  },
  {
   "cell_type": "code",
   "execution_count": 80,
   "id": "superior-westminster",
   "metadata": {},
   "outputs": [],
   "source": [
    "# Make Date and Time Columns\n",
    "co[\"checkout_time\"] = co[\"checkout_time\"].astype(\"str\")\n",
    "co[\"checkout_time\"] = co[\"checkout_time\"].str.split(\" \")\n",
    "co[\"Date\"] = co[\"checkout_time\"].str.get(0)\n",
    "co[\"Time\"] = co[\"checkout_time\"].str.get(1)\n",
    "del co[\"checkout_time\"]\n",
    "\n",
    "# Make Hour Column to identify session\n",
    "co[\"Time2\"] = co[\"Time\"].str.split(\":\")\n",
    "co[\"Hour\"] = co[\"Time2\"].str.get(0)\n",
    "co[\"Hour\"] = co[\"Hour\"].astype(\"int\")\n",
    "\n",
    "# Apply Hour function\n",
    "co['Period'] = co['Hour'].apply(f)\n",
    "\n",
    "# Drop unnecessary columns\n",
    "co = co.drop(columns = [\"Time2\", \"Hour\"])"
   ]
  },
  {
   "cell_type": "code",
   "execution_count": 81,
   "id": "configured-complement",
   "metadata": {},
   "outputs": [
    {
     "data": {
      "text/html": [
       "<div>\n",
       "<style scoped>\n",
       "    .dataframe tbody tr th:only-of-type {\n",
       "        vertical-align: middle;\n",
       "    }\n",
       "\n",
       "    .dataframe tbody tr th {\n",
       "        vertical-align: top;\n",
       "    }\n",
       "\n",
       "    .dataframe thead th {\n",
       "        text-align: right;\n",
       "    }\n",
       "</style>\n",
       "<table border=\"1\" class=\"dataframe\">\n",
       "  <thead>\n",
       "    <tr style=\"text-align: right;\">\n",
       "      <th></th>\n",
       "      <th>user_id</th>\n",
       "      <th>Date</th>\n",
       "      <th>Time</th>\n",
       "      <th>Period</th>\n",
       "    </tr>\n",
       "  </thead>\n",
       "  <tbody>\n",
       "    <tr>\n",
       "      <th>0</th>\n",
       "      <td>d33bdc47-4afa-45bc-b4e4-dbe948e34c0d</td>\n",
       "      <td>2017-06-25</td>\n",
       "      <td>09:29:00</td>\n",
       "      <td>Morning</td>\n",
       "    </tr>\n",
       "    <tr>\n",
       "      <th>1</th>\n",
       "      <td>4ac186f0-9954-4fea-8a27-c081e428e34e</td>\n",
       "      <td>2017-04-07</td>\n",
       "      <td>20:11:00</td>\n",
       "      <td>Evening</td>\n",
       "    </tr>\n",
       "    <tr>\n",
       "      <th>2</th>\n",
       "      <td>3c9c78a7-124a-4b77-8d2e-e1926e011e7d</td>\n",
       "      <td>2017-07-13</td>\n",
       "      <td>11:38:00</td>\n",
       "      <td>Morning</td>\n",
       "    </tr>\n",
       "    <tr>\n",
       "      <th>3</th>\n",
       "      <td>89fe330a-8966-4756-8f7c-3bdbcd47279a</td>\n",
       "      <td>2017-04-20</td>\n",
       "      <td>16:15:00</td>\n",
       "      <td>Noon</td>\n",
       "    </tr>\n",
       "    <tr>\n",
       "      <th>4</th>\n",
       "      <td>3ccdaf69-2d30-40de-b083-51372881aedd</td>\n",
       "      <td>2017-01-08</td>\n",
       "      <td>20:52:00</td>\n",
       "      <td>Evening</td>\n",
       "    </tr>\n",
       "  </tbody>\n",
       "</table>\n",
       "</div>"
      ],
      "text/plain": [
       "                                user_id        Date      Time   Period\n",
       "0  d33bdc47-4afa-45bc-b4e4-dbe948e34c0d  2017-06-25  09:29:00  Morning\n",
       "1  4ac186f0-9954-4fea-8a27-c081e428e34e  2017-04-07  20:11:00  Evening\n",
       "2  3c9c78a7-124a-4b77-8d2e-e1926e011e7d  2017-07-13  11:38:00  Morning\n",
       "3  89fe330a-8966-4756-8f7c-3bdbcd47279a  2017-04-20  16:15:00     Noon\n",
       "4  3ccdaf69-2d30-40de-b083-51372881aedd  2017-01-08  20:52:00  Evening"
      ]
     },
     "execution_count": 81,
     "metadata": {},
     "output_type": "execute_result"
    }
   ],
   "source": [
    "co.head()"
   ]
  },
  {
   "cell_type": "code",
   "execution_count": 82,
   "id": "confirmed-centre",
   "metadata": {},
   "outputs": [
    {
     "data": {
      "text/html": [
       "<div>\n",
       "<style scoped>\n",
       "    .dataframe tbody tr th:only-of-type {\n",
       "        vertical-align: middle;\n",
       "    }\n",
       "\n",
       "    .dataframe tbody tr th {\n",
       "        vertical-align: top;\n",
       "    }\n",
       "\n",
       "    .dataframe thead th {\n",
       "        text-align: right;\n",
       "    }\n",
       "</style>\n",
       "<table border=\"1\" class=\"dataframe\">\n",
       "  <thead>\n",
       "    <tr style=\"text-align: right;\">\n",
       "      <th></th>\n",
       "      <th>Date</th>\n",
       "      <th>Checkout</th>\n",
       "    </tr>\n",
       "  </thead>\n",
       "  <tbody>\n",
       "    <tr>\n",
       "      <th>0</th>\n",
       "      <td>2017-03-17</td>\n",
       "      <td>8</td>\n",
       "    </tr>\n",
       "    <tr>\n",
       "      <th>1</th>\n",
       "      <td>2017-06-25</td>\n",
       "      <td>7</td>\n",
       "    </tr>\n",
       "    <tr>\n",
       "      <th>2</th>\n",
       "      <td>2017-08-09</td>\n",
       "      <td>6</td>\n",
       "    </tr>\n",
       "    <tr>\n",
       "      <th>3</th>\n",
       "      <td>2017-11-20</td>\n",
       "      <td>6</td>\n",
       "    </tr>\n",
       "    <tr>\n",
       "      <th>4</th>\n",
       "      <td>2017-01-05</td>\n",
       "      <td>6</td>\n",
       "    </tr>\n",
       "  </tbody>\n",
       "</table>\n",
       "</div>"
      ],
      "text/plain": [
       "         Date  Checkout\n",
       "0  2017-03-17         8\n",
       "1  2017-06-25         7\n",
       "2  2017-08-09         6\n",
       "3  2017-11-20         6\n",
       "4  2017-01-05         6"
      ]
     },
     "execution_count": 82,
     "metadata": {},
     "output_type": "execute_result"
    }
   ],
   "source": [
    "# Most visits to checkout by date\n",
    "cod = co[\"Date\"].value_counts().to_frame().reset_index()\n",
    "cod.columns = [\"Date\", \"Checkout\"]\n",
    "cod.head()"
   ]
  },
  {
   "cell_type": "code",
   "execution_count": 83,
   "id": "decreased-compound",
   "metadata": {},
   "outputs": [
    {
     "data": {
      "text/html": [
       "<div>\n",
       "<style scoped>\n",
       "    .dataframe tbody tr th:only-of-type {\n",
       "        vertical-align: middle;\n",
       "    }\n",
       "\n",
       "    .dataframe tbody tr th {\n",
       "        vertical-align: top;\n",
       "    }\n",
       "\n",
       "    .dataframe thead th {\n",
       "        text-align: right;\n",
       "    }\n",
       "</style>\n",
       "<table border=\"1\" class=\"dataframe\">\n",
       "  <thead>\n",
       "    <tr style=\"text-align: right;\">\n",
       "      <th></th>\n",
       "      <th>Time</th>\n",
       "      <th>Checkout</th>\n",
       "    </tr>\n",
       "  </thead>\n",
       "  <tbody>\n",
       "    <tr>\n",
       "      <th>0</th>\n",
       "      <td>12:55:00</td>\n",
       "      <td>4</td>\n",
       "    </tr>\n",
       "    <tr>\n",
       "      <th>1</th>\n",
       "      <td>20:52:00</td>\n",
       "      <td>3</td>\n",
       "    </tr>\n",
       "    <tr>\n",
       "      <th>2</th>\n",
       "      <td>09:18:00</td>\n",
       "      <td>3</td>\n",
       "    </tr>\n",
       "    <tr>\n",
       "      <th>3</th>\n",
       "      <td>22:42:00</td>\n",
       "      <td>3</td>\n",
       "    </tr>\n",
       "    <tr>\n",
       "      <th>4</th>\n",
       "      <td>11:32:00</td>\n",
       "      <td>3</td>\n",
       "    </tr>\n",
       "  </tbody>\n",
       "</table>\n",
       "</div>"
      ],
      "text/plain": [
       "       Time  Checkout\n",
       "0  12:55:00         4\n",
       "1  20:52:00         3\n",
       "2  09:18:00         3\n",
       "3  22:42:00         3\n",
       "4  11:32:00         3"
      ]
     },
     "execution_count": 83,
     "metadata": {},
     "output_type": "execute_result"
    }
   ],
   "source": [
    "# Most Visits to checkout by Time\n",
    "cot = co[\"Time\"].value_counts().to_frame().reset_index()\n",
    "cot.columns = [\"Time\", \"Checkout\"]\n",
    "cot.head()"
   ]
  },
  {
   "cell_type": "code",
   "execution_count": 84,
   "id": "israeli-restaurant",
   "metadata": {},
   "outputs": [
    {
     "data": {
      "image/png": "[encoded data removed]",
      "text/plain": [
       "<Figure size 1296x504 with 1 Axes>"
      ]
     },
     "metadata": {
      "needs_background": "light"
     },
     "output_type": "display_data"
    }
   ],
   "source": [
    "# Most Visits to checkout by Period\n",
    "cop = co[\"Period\"].value_counts().to_frame().reset_index()\n",
    "cop.columns = [\"Period\", \"Checkout\"]\n",
    "cop.head()\n",
    "\n",
    "\n",
    "plt.figure(figsize = (18, 7))\n",
    "graph = sns.barplot(x = \"Period\", y = \"Checkout\", data = cop, palette = \"summer\")\n",
    "for p in graph.patches:\n",
    "        graph.annotate('{:.0f}'.format(p.get_height()), \n",
    "                      (p.get_x()+0.41, p.get_height()),\n",
    "                       ha='center', va='bottom',color= 'black', size = 15)\n",
    "plt.title(\"Checkout on Website by Period\", size = 15)\n",
    "plt.xticks(size = 15)\n",
    "plt.yticks(size = 15)\n",
    "plt.xlabel(None)\n",
    "plt.ylabel(None)\n",
    "plt.show()"
   ]
  },
  {
   "cell_type": "markdown",
   "id": "handled-monthly",
   "metadata": {},
   "source": [
    "**Purchase Dataset**"
   ]
  },
  {
   "cell_type": "code",
   "execution_count": 108,
   "id": "intimate-central",
   "metadata": {},
   "outputs": [
    {
     "data": {
      "text/html": [
       "<div>\n",
       "<style scoped>\n",
       "    .dataframe tbody tr th:only-of-type {\n",
       "        vertical-align: middle;\n",
       "    }\n",
       "\n",
       "    .dataframe tbody tr th {\n",
       "        vertical-align: top;\n",
       "    }\n",
       "\n",
       "    .dataframe thead th {\n",
       "        text-align: right;\n",
       "    }\n",
       "</style>\n",
       "<table border=\"1\" class=\"dataframe\">\n",
       "  <thead>\n",
       "    <tr style=\"text-align: right;\">\n",
       "      <th></th>\n",
       "      <th>user_id</th>\n",
       "      <th>purchase_time</th>\n",
       "    </tr>\n",
       "  </thead>\n",
       "  <tbody>\n",
       "    <tr>\n",
       "      <th>5</th>\n",
       "      <td>5ae833dc-8866-4baa-9617-2009d6474ffa</td>\n",
       "      <td>2017-07-26 16:46:00</td>\n",
       "    </tr>\n",
       "    <tr>\n",
       "      <th>106</th>\n",
       "      <td>18022519-056b-4270-b777-643baa5aeb95</td>\n",
       "      <td>2017-09-14 17:45:00</td>\n",
       "    </tr>\n",
       "    <tr>\n",
       "      <th>193</th>\n",
       "      <td>89fe330a-8966-4756-8f7c-3bdbcd47279a</td>\n",
       "      <td>2017-04-20 16:15:00</td>\n",
       "    </tr>\n",
       "    <tr>\n",
       "      <th>30</th>\n",
       "      <td>f413cd55-d85f-4659-802e-33fb14b20c0f</td>\n",
       "      <td>2017-08-09 10:20:00</td>\n",
       "    </tr>\n",
       "    <tr>\n",
       "      <th>180</th>\n",
       "      <td>13019e8b-8ec9-4adc-9660-8c6337575ab8</td>\n",
       "      <td>2017-07-20 12:41:00</td>\n",
       "    </tr>\n",
       "  </tbody>\n",
       "</table>\n",
       "</div>"
      ],
      "text/plain": [
       "                                  user_id       purchase_time\n",
       "5    5ae833dc-8866-4baa-9617-2009d6474ffa 2017-07-26 16:46:00\n",
       "106  18022519-056b-4270-b777-643baa5aeb95 2017-09-14 17:45:00\n",
       "193  89fe330a-8966-4756-8f7c-3bdbcd47279a 2017-04-20 16:15:00\n",
       "30   f413cd55-d85f-4659-802e-33fb14b20c0f 2017-08-09 10:20:00\n",
       "180  13019e8b-8ec9-4adc-9660-8c6337575ab8 2017-07-20 12:41:00"
      ]
     },
     "execution_count": 108,
     "metadata": {},
     "output_type": "execute_result"
    }
   ],
   "source": [
    "p = pd.read_csv(\"purchase.txt\", parse_dates = [1])\n",
    "p.sample(5)"
   ]
  },
  {
   "cell_type": "code",
   "execution_count": 86,
   "id": "duplicate-release",
   "metadata": {},
   "outputs": [],
   "source": [
    "p[\"purchase_time\"] = p[\"purchase_time\"].astype(\"str\")\n",
    "p[\"purchase_time\"] = p[\"purchase_time\"].str.split(\" \")\n",
    "p[\"Date\"] = p[\"purchase_time\"].str.get(0)\n",
    "p[\"Time\"] = p[\"purchase_time\"].str.get(1)\n",
    "del p[\"purchase_time\"]\n",
    "\n",
    "\n",
    "# Make Hour Column to identify session\n",
    "p[\"Time2\"] = p[\"Time\"].str.split(\":\")\n",
    "p[\"Hour\"] = p[\"Time2\"].str.get(0)\n",
    "p[\"Hour\"] = p[\"Hour\"].astype(\"int\")\n",
    "\n",
    "# Apply Hour function\n",
    "p['Period'] = p['Hour'].apply(f)\n",
    "\n",
    "# Drop unnecessary columns\n",
    "p = p.drop(columns = [\"Time2\", \"Hour\"])"
   ]
  },
  {
   "cell_type": "code",
   "execution_count": 87,
   "id": "personalized-belle",
   "metadata": {},
   "outputs": [
    {
     "data": {
      "text/html": [
       "<div>\n",
       "<style scoped>\n",
       "    .dataframe tbody tr th:only-of-type {\n",
       "        vertical-align: middle;\n",
       "    }\n",
       "\n",
       "    .dataframe tbody tr th {\n",
       "        vertical-align: top;\n",
       "    }\n",
       "\n",
       "    .dataframe thead th {\n",
       "        text-align: right;\n",
       "    }\n",
       "</style>\n",
       "<table border=\"1\" class=\"dataframe\">\n",
       "  <thead>\n",
       "    <tr style=\"text-align: right;\">\n",
       "      <th></th>\n",
       "      <th>user_id</th>\n",
       "      <th>Date</th>\n",
       "      <th>Time</th>\n",
       "      <th>Period</th>\n",
       "    </tr>\n",
       "  </thead>\n",
       "  <tbody>\n",
       "    <tr>\n",
       "      <th>0</th>\n",
       "      <td>4b44ace4-2721-47a0-b24b-15fbfa2abf85</td>\n",
       "      <td>2017-05-11</td>\n",
       "      <td>04:25:00</td>\n",
       "      <td>Late Night</td>\n",
       "    </tr>\n",
       "    <tr>\n",
       "      <th>1</th>\n",
       "      <td>02e684ae-a448-408f-a9ff-dcb4a5c99aac</td>\n",
       "      <td>2017-09-05</td>\n",
       "      <td>08:45:00</td>\n",
       "      <td>Early Morning</td>\n",
       "    </tr>\n",
       "    <tr>\n",
       "      <th>2</th>\n",
       "      <td>4b4bc391-749e-4b90-ab8f-4f6e3c84d6dc</td>\n",
       "      <td>2017-11-20</td>\n",
       "      <td>20:49:00</td>\n",
       "      <td>Evening</td>\n",
       "    </tr>\n",
       "    <tr>\n",
       "      <th>3</th>\n",
       "      <td>a5dbb25f-3c36-4103-9030-9f7c6241cd8d</td>\n",
       "      <td>2017-01-22</td>\n",
       "      <td>15:18:00</td>\n",
       "      <td>Noon</td>\n",
       "    </tr>\n",
       "    <tr>\n",
       "      <th>4</th>\n",
       "      <td>46a3186d-7f5a-4ab9-87af-84d05bfd4867</td>\n",
       "      <td>2017-06-11</td>\n",
       "      <td>11:32:00</td>\n",
       "      <td>Morning</td>\n",
       "    </tr>\n",
       "  </tbody>\n",
       "</table>\n",
       "</div>"
      ],
      "text/plain": [
       "                                user_id        Date      Time         Period\n",
       "0  4b44ace4-2721-47a0-b24b-15fbfa2abf85  2017-05-11  04:25:00     Late Night\n",
       "1  02e684ae-a448-408f-a9ff-dcb4a5c99aac  2017-09-05  08:45:00  Early Morning\n",
       "2  4b4bc391-749e-4b90-ab8f-4f6e3c84d6dc  2017-11-20  20:49:00        Evening\n",
       "3  a5dbb25f-3c36-4103-9030-9f7c6241cd8d  2017-01-22  15:18:00           Noon\n",
       "4  46a3186d-7f5a-4ab9-87af-84d05bfd4867  2017-06-11  11:32:00        Morning"
      ]
     },
     "execution_count": 87,
     "metadata": {},
     "output_type": "execute_result"
    }
   ],
   "source": [
    "p.head()"
   ]
  },
  {
   "cell_type": "code",
   "execution_count": 88,
   "id": "affected-lesson",
   "metadata": {},
   "outputs": [
    {
     "data": {
      "text/html": [
       "<div>\n",
       "<style scoped>\n",
       "    .dataframe tbody tr th:only-of-type {\n",
       "        vertical-align: middle;\n",
       "    }\n",
       "\n",
       "    .dataframe tbody tr th {\n",
       "        vertical-align: top;\n",
       "    }\n",
       "\n",
       "    .dataframe thead th {\n",
       "        text-align: right;\n",
       "    }\n",
       "</style>\n",
       "<table border=\"1\" class=\"dataframe\">\n",
       "  <thead>\n",
       "    <tr style=\"text-align: right;\">\n",
       "      <th></th>\n",
       "      <th>Date</th>\n",
       "      <th>Purchases</th>\n",
       "    </tr>\n",
       "  </thead>\n",
       "  <tbody>\n",
       "    <tr>\n",
       "      <th>0</th>\n",
       "      <td>2017-06-25</td>\n",
       "      <td>9</td>\n",
       "    </tr>\n",
       "    <tr>\n",
       "      <th>1</th>\n",
       "      <td>2017-01-11</td>\n",
       "      <td>7</td>\n",
       "    </tr>\n",
       "    <tr>\n",
       "      <th>2</th>\n",
       "      <td>2017-10-12</td>\n",
       "      <td>6</td>\n",
       "    </tr>\n",
       "    <tr>\n",
       "      <th>3</th>\n",
       "      <td>2017-08-09</td>\n",
       "      <td>5</td>\n",
       "    </tr>\n",
       "    <tr>\n",
       "      <th>4</th>\n",
       "      <td>2017-09-15</td>\n",
       "      <td>5</td>\n",
       "    </tr>\n",
       "  </tbody>\n",
       "</table>\n",
       "</div>"
      ],
      "text/plain": [
       "         Date  Purchases\n",
       "0  2017-06-25          9\n",
       "1  2017-01-11          7\n",
       "2  2017-10-12          6\n",
       "3  2017-08-09          5\n",
       "4  2017-09-15          5"
      ]
     },
     "execution_count": 88,
     "metadata": {},
     "output_type": "execute_result"
    }
   ],
   "source": [
    "# Most Purchases by Date\n",
    "pd = p[\"Date\"].value_counts().to_frame().reset_index()\n",
    "pd.columns = [\"Date\", \"Purchases\"]\n",
    "pd.head()"
   ]
  },
  {
   "cell_type": "code",
   "execution_count": 89,
   "id": "available-technology",
   "metadata": {},
   "outputs": [
    {
     "data": {
      "text/html": [
       "<div>\n",
       "<style scoped>\n",
       "    .dataframe tbody tr th:only-of-type {\n",
       "        vertical-align: middle;\n",
       "    }\n",
       "\n",
       "    .dataframe tbody tr th {\n",
       "        vertical-align: top;\n",
       "    }\n",
       "\n",
       "    .dataframe thead th {\n",
       "        text-align: right;\n",
       "    }\n",
       "</style>\n",
       "<table border=\"1\" class=\"dataframe\">\n",
       "  <thead>\n",
       "    <tr style=\"text-align: right;\">\n",
       "      <th></th>\n",
       "      <th>Time</th>\n",
       "      <th>Purchases</th>\n",
       "    </tr>\n",
       "  </thead>\n",
       "  <tbody>\n",
       "    <tr>\n",
       "      <th>0</th>\n",
       "      <td>18:13:00</td>\n",
       "      <td>2</td>\n",
       "    </tr>\n",
       "    <tr>\n",
       "      <th>1</th>\n",
       "      <td>00:51:00</td>\n",
       "      <td>2</td>\n",
       "    </tr>\n",
       "    <tr>\n",
       "      <th>2</th>\n",
       "      <td>11:19:00</td>\n",
       "      <td>2</td>\n",
       "    </tr>\n",
       "    <tr>\n",
       "      <th>3</th>\n",
       "      <td>07:56:00</td>\n",
       "      <td>2</td>\n",
       "    </tr>\n",
       "    <tr>\n",
       "      <th>4</th>\n",
       "      <td>08:05:00</td>\n",
       "      <td>2</td>\n",
       "    </tr>\n",
       "  </tbody>\n",
       "</table>\n",
       "</div>"
      ],
      "text/plain": [
       "       Time  Purchases\n",
       "0  18:13:00          2\n",
       "1  00:51:00          2\n",
       "2  11:19:00          2\n",
       "3  07:56:00          2\n",
       "4  08:05:00          2"
      ]
     },
     "execution_count": 89,
     "metadata": {},
     "output_type": "execute_result"
    }
   ],
   "source": [
    "# Most Purchases by Time\n",
    "pt = p[\"Time\"].value_counts().to_frame().reset_index()\n",
    "pt.columns = [\"Time\", \"Purchases\"]\n",
    "pt.head()"
   ]
  },
  {
   "cell_type": "code",
   "execution_count": 90,
   "id": "earned-accident",
   "metadata": {},
   "outputs": [
    {
     "data": {
      "image/png": "[encoded data removed]",
      "text/plain": [
       "<Figure size 1296x504 with 1 Axes>"
      ]
     },
     "metadata": {
      "needs_background": "light"
     },
     "output_type": "display_data"
    }
   ],
   "source": [
    "# Most Purchases by Period\n",
    "pp = p[\"Period\"].value_counts().to_frame().reset_index()\n",
    "pp.columns = [\"Period\", \"Purchases\"]\n",
    "pp\n",
    "\n",
    "plt.figure(figsize = (18, 7))\n",
    "graph = sns.barplot(x = \"Period\", y = \"Purchases\", data = pp, palette = \"nipy_spectral\")\n",
    "for p in graph.patches:\n",
    "        graph.annotate('{:.0f}'.format(p.get_height()), \n",
    "                      (p.get_x()+0.41, p.get_height()),\n",
    "                       ha='center', va='bottom',color= 'black', size = 15)\n",
    "plt.title(\"Purchases on Website by Period\", size = 15)\n",
    "plt.xticks(size = 15)\n",
    "plt.yticks(size = 15)\n",
    "plt.xlabel(None)\n",
    "plt.ylabel(None)\n",
    "plt.show()"
   ]
  },
  {
   "cell_type": "markdown",
   "id": "central-america",
   "metadata": {},
   "source": [
    "## Analytics"
   ]
  },
  {
   "cell_type": "markdown",
   "id": "satisfactory-anime",
   "metadata": {},
   "source": [
    "**Merge visit and cart**"
   ]
  },
  {
   "cell_type": "code",
   "execution_count": 93,
   "id": "agreed-bracket",
   "metadata": {},
   "outputs": [
    {
     "data": {
      "text/html": [
       "<div>\n",
       "<style scoped>\n",
       "    .dataframe tbody tr th:only-of-type {\n",
       "        vertical-align: middle;\n",
       "    }\n",
       "\n",
       "    .dataframe tbody tr th {\n",
       "        vertical-align: top;\n",
       "    }\n",
       "\n",
       "    .dataframe thead th {\n",
       "        text-align: right;\n",
       "    }\n",
       "</style>\n",
       "<table border=\"1\" class=\"dataframe\">\n",
       "  <thead>\n",
       "    <tr style=\"text-align: right;\">\n",
       "      <th></th>\n",
       "      <th>user_id</th>\n",
       "      <th>Date_x</th>\n",
       "      <th>Time_x</th>\n",
       "      <th>Period_x</th>\n",
       "      <th>Date_y</th>\n",
       "      <th>Time_y</th>\n",
       "      <th>Period_y</th>\n",
       "    </tr>\n",
       "  </thead>\n",
       "  <tbody>\n",
       "    <tr>\n",
       "      <th>0</th>\n",
       "      <td>943647ef-3682-4750-a2e1-918ba6f16188</td>\n",
       "      <td>2017-04-07</td>\n",
       "      <td>15:14:00</td>\n",
       "      <td>Noon</td>\n",
       "      <td>NaN</td>\n",
       "      <td>NaN</td>\n",
       "      <td>NaN</td>\n",
       "    </tr>\n",
       "    <tr>\n",
       "      <th>1</th>\n",
       "      <td>0c3a3dd0-fb64-4eac-bf84-ba069ce409f2</td>\n",
       "      <td>2017-01-26</td>\n",
       "      <td>14:24:00</td>\n",
       "      <td>Noon</td>\n",
       "      <td>2017-01-26</td>\n",
       "      <td>14:44:00</td>\n",
       "      <td>Noon</td>\n",
       "    </tr>\n",
       "    <tr>\n",
       "      <th>2</th>\n",
       "      <td>6e0b2d60-4027-4d9a-babd-0e7d40859fb1</td>\n",
       "      <td>2017-08-20</td>\n",
       "      <td>08:23:00</td>\n",
       "      <td>Early Morning</td>\n",
       "      <td>2017-08-20</td>\n",
       "      <td>08:31:00</td>\n",
       "      <td>Early Morning</td>\n",
       "    </tr>\n",
       "    <tr>\n",
       "      <th>3</th>\n",
       "      <td>6e0b2d60-4027-4d9a-babd-0e7d40859fb1</td>\n",
       "      <td>2017-08-20</td>\n",
       "      <td>08:23:00</td>\n",
       "      <td>Early Morning</td>\n",
       "      <td>2017-08-20</td>\n",
       "      <td>08:49:00</td>\n",
       "      <td>Early Morning</td>\n",
       "    </tr>\n",
       "    <tr>\n",
       "      <th>4</th>\n",
       "      <td>6879527e-c5a6-4d14-b2da-50b85212b0ab</td>\n",
       "      <td>2017-11-04</td>\n",
       "      <td>18:15:00</td>\n",
       "      <td>Evening</td>\n",
       "      <td>NaN</td>\n",
       "      <td>NaN</td>\n",
       "      <td>NaN</td>\n",
       "    </tr>\n",
       "  </tbody>\n",
       "</table>\n",
       "</div>"
      ],
      "text/plain": [
       "                                user_id      Date_x    Time_x       Period_x  \\\n",
       "0  943647ef-3682-4750-a2e1-918ba6f16188  2017-04-07  15:14:00           Noon   \n",
       "1  0c3a3dd0-fb64-4eac-bf84-ba069ce409f2  2017-01-26  14:24:00           Noon   \n",
       "2  6e0b2d60-4027-4d9a-babd-0e7d40859fb1  2017-08-20  08:23:00  Early Morning   \n",
       "3  6e0b2d60-4027-4d9a-babd-0e7d40859fb1  2017-08-20  08:23:00  Early Morning   \n",
       "4  6879527e-c5a6-4d14-b2da-50b85212b0ab  2017-11-04  18:15:00        Evening   \n",
       "\n",
       "       Date_y    Time_y       Period_y  \n",
       "0         NaN       NaN            NaN  \n",
       "1  2017-01-26  14:44:00           Noon  \n",
       "2  2017-08-20  08:31:00  Early Morning  \n",
       "3  2017-08-20  08:49:00  Early Morning  \n",
       "4         NaN       NaN            NaN  "
      ]
     },
     "execution_count": 93,
     "metadata": {},
     "output_type": "execute_result"
    }
   ],
   "source": [
    "vc = pd.merge(v, c, on = \"user_id\", how = \"left\")\n",
    "vc.head()"
   ]
  },
  {
   "cell_type": "code",
   "execution_count": 94,
   "id": "elect-bernard",
   "metadata": {},
   "outputs": [
    {
     "name": "stdout",
     "output_type": "stream",
     "text": [
      "Total visits + cart = 2052\n"
     ]
    }
   ],
   "source": [
    "print(\"Total visits + cart =\", len(vc))"
   ]
  },
  {
   "cell_type": "markdown",
   "id": "sublime-equilibrium",
   "metadata": {},
   "source": [
    "**Customers go to website but not to cart**"
   ]
  },
  {
   "cell_type": "code",
   "execution_count": 95,
   "id": "solid-repository",
   "metadata": {},
   "outputs": [
    {
     "data": {
      "text/html": [
       "<div>\n",
       "<style scoped>\n",
       "    .dataframe tbody tr th:only-of-type {\n",
       "        vertical-align: middle;\n",
       "    }\n",
       "\n",
       "    .dataframe tbody tr th {\n",
       "        vertical-align: top;\n",
       "    }\n",
       "\n",
       "    .dataframe thead th {\n",
       "        text-align: right;\n",
       "    }\n",
       "</style>\n",
       "<table border=\"1\" class=\"dataframe\">\n",
       "  <thead>\n",
       "    <tr style=\"text-align: right;\">\n",
       "      <th></th>\n",
       "      <th>user_id</th>\n",
       "      <th>Date_x</th>\n",
       "      <th>Time_x</th>\n",
       "      <th>Period_x</th>\n",
       "      <th>Date_y</th>\n",
       "      <th>Time_y</th>\n",
       "      <th>Period_y</th>\n",
       "    </tr>\n",
       "  </thead>\n",
       "  <tbody>\n",
       "    <tr>\n",
       "      <th>0</th>\n",
       "      <td>943647ef-3682-4750-a2e1-918ba6f16188</td>\n",
       "      <td>2017-04-07</td>\n",
       "      <td>15:14:00</td>\n",
       "      <td>Noon</td>\n",
       "      <td>NaN</td>\n",
       "      <td>NaN</td>\n",
       "      <td>NaN</td>\n",
       "    </tr>\n",
       "    <tr>\n",
       "      <th>4</th>\n",
       "      <td>6879527e-c5a6-4d14-b2da-50b85212b0ab</td>\n",
       "      <td>2017-11-04</td>\n",
       "      <td>18:15:00</td>\n",
       "      <td>Evening</td>\n",
       "      <td>NaN</td>\n",
       "      <td>NaN</td>\n",
       "      <td>NaN</td>\n",
       "    </tr>\n",
       "    <tr>\n",
       "      <th>5</th>\n",
       "      <td>a84327ff-5daa-4ba1-b789-d5b4caf81e96</td>\n",
       "      <td>2017-02-27</td>\n",
       "      <td>11:25:00</td>\n",
       "      <td>Morning</td>\n",
       "      <td>NaN</td>\n",
       "      <td>NaN</td>\n",
       "      <td>NaN</td>\n",
       "    </tr>\n",
       "    <tr>\n",
       "      <th>6</th>\n",
       "      <td>7bc62113-d51d-4e6b-85e0-1cf29e3de74a</td>\n",
       "      <td>2017-06-03</td>\n",
       "      <td>20:05:00</td>\n",
       "      <td>Evening</td>\n",
       "      <td>NaN</td>\n",
       "      <td>NaN</td>\n",
       "      <td>NaN</td>\n",
       "    </tr>\n",
       "    <tr>\n",
       "      <th>7</th>\n",
       "      <td>6f22cd44-bc63-4449-a9af-2651859da2f9</td>\n",
       "      <td>2017-03-18</td>\n",
       "      <td>23:09:00</td>\n",
       "      <td>Night</td>\n",
       "      <td>NaN</td>\n",
       "      <td>NaN</td>\n",
       "      <td>NaN</td>\n",
       "    </tr>\n",
       "  </tbody>\n",
       "</table>\n",
       "</div>"
      ],
      "text/plain": [
       "                                user_id      Date_x    Time_x Period_x Date_y  \\\n",
       "0  943647ef-3682-4750-a2e1-918ba6f16188  2017-04-07  15:14:00     Noon    NaN   \n",
       "4  6879527e-c5a6-4d14-b2da-50b85212b0ab  2017-11-04  18:15:00  Evening    NaN   \n",
       "5  a84327ff-5daa-4ba1-b789-d5b4caf81e96  2017-02-27  11:25:00  Morning    NaN   \n",
       "6  7bc62113-d51d-4e6b-85e0-1cf29e3de74a  2017-06-03  20:05:00  Evening    NaN   \n",
       "7  6f22cd44-bc63-4449-a9af-2651859da2f9  2017-03-18  23:09:00    Night    NaN   \n",
       "\n",
       "  Time_y Period_y  \n",
       "0    NaN      NaN  \n",
       "4    NaN      NaN  \n",
       "5    NaN      NaN  \n",
       "6    NaN      NaN  \n",
       "7    NaN      NaN  "
      ]
     },
     "execution_count": 95,
     "metadata": {},
     "output_type": "execute_result"
    }
   ],
   "source": [
    "vcn = vc[vc[\"Time_y\"].isnull()]\n",
    "vcn.head()"
   ]
  },
  {
   "cell_type": "code",
   "execution_count": 96,
   "id": "arbitrary-overall",
   "metadata": {},
   "outputs": [
    {
     "name": "stdout",
     "output_type": "stream",
     "text": [
      "Customers visit website page but not go to cart = 1652\n"
     ]
    }
   ],
   "source": [
    "print(\"Customers visit website page but not go to cart =\", len(vcn))"
   ]
  },
  {
   "cell_type": "code",
   "execution_count": 97,
   "id": "universal-privilege",
   "metadata": {},
   "outputs": [
    {
     "name": "stdout",
     "output_type": "stream",
     "text": [
      "Customers go to cart = 400\n"
     ]
    }
   ],
   "source": [
    "# Go to Cart\n",
    "gtc = len(vc) - len(vcn)\n",
    "print(\"Customers go to cart =\", gtc)"
   ]
  },
  {
   "cell_type": "code",
   "execution_count": 98,
   "id": "german-harrison",
   "metadata": {},
   "outputs": [
    {
     "name": "stdout",
     "output_type": "stream",
     "text": [
      "% Customers go from website page to cart =  80.50682261208577\n"
     ]
    }
   ],
   "source": [
    "# % People go to Website but not to cart\n",
    "print(\"% Customers go from website page to cart = \", (len(vcn) / len(vc)) * 100)"
   ]
  },
  {
   "cell_type": "markdown",
   "id": "quiet-collection",
   "metadata": {},
   "source": [
    "**Merge cart and checkout**"
   ]
  },
  {
   "cell_type": "code",
   "execution_count": 99,
   "id": "portuguese-indian",
   "metadata": {},
   "outputs": [
    {
     "data": {
      "text/html": [
       "<div>\n",
       "<style scoped>\n",
       "    .dataframe tbody tr th:only-of-type {\n",
       "        vertical-align: middle;\n",
       "    }\n",
       "\n",
       "    .dataframe tbody tr th {\n",
       "        vertical-align: top;\n",
       "    }\n",
       "\n",
       "    .dataframe thead th {\n",
       "        text-align: right;\n",
       "    }\n",
       "</style>\n",
       "<table border=\"1\" class=\"dataframe\">\n",
       "  <thead>\n",
       "    <tr style=\"text-align: right;\">\n",
       "      <th></th>\n",
       "      <th>user_id</th>\n",
       "      <th>Date_x</th>\n",
       "      <th>Time_x</th>\n",
       "      <th>Period_x</th>\n",
       "      <th>Date_y</th>\n",
       "      <th>Time_y</th>\n",
       "      <th>Period_y</th>\n",
       "    </tr>\n",
       "  </thead>\n",
       "  <tbody>\n",
       "    <tr>\n",
       "      <th>0</th>\n",
       "      <td>2be90e7c-9cca-44e0-bcc5-124b945ff168</td>\n",
       "      <td>2017-11-07</td>\n",
       "      <td>20:45:00</td>\n",
       "      <td>Evening</td>\n",
       "      <td>2017-11-07</td>\n",
       "      <td>21:14:00</td>\n",
       "      <td>Night</td>\n",
       "    </tr>\n",
       "    <tr>\n",
       "      <th>1</th>\n",
       "      <td>2be90e7c-9cca-44e0-bcc5-124b945ff168</td>\n",
       "      <td>2017-11-07</td>\n",
       "      <td>20:45:00</td>\n",
       "      <td>Evening</td>\n",
       "      <td>2017-11-07</td>\n",
       "      <td>20:50:00</td>\n",
       "      <td>Evening</td>\n",
       "    </tr>\n",
       "    <tr>\n",
       "      <th>2</th>\n",
       "      <td>2be90e7c-9cca-44e0-bcc5-124b945ff168</td>\n",
       "      <td>2017-11-07</td>\n",
       "      <td>20:45:00</td>\n",
       "      <td>Evening</td>\n",
       "      <td>2017-11-07</td>\n",
       "      <td>21:11:00</td>\n",
       "      <td>Night</td>\n",
       "    </tr>\n",
       "    <tr>\n",
       "      <th>3</th>\n",
       "      <td>4397f73f-1da3-4ab3-91af-762792e25973</td>\n",
       "      <td>2017-05-27</td>\n",
       "      <td>01:35:00</td>\n",
       "      <td>Late Night</td>\n",
       "      <td>NaN</td>\n",
       "      <td>NaN</td>\n",
       "      <td>NaN</td>\n",
       "    </tr>\n",
       "    <tr>\n",
       "      <th>4</th>\n",
       "      <td>a9db3d4b-0a0a-4398-a55a-ebb2c7adf663</td>\n",
       "      <td>2017-03-04</td>\n",
       "      <td>10:38:00</td>\n",
       "      <td>Morning</td>\n",
       "      <td>2017-03-04</td>\n",
       "      <td>11:04:00</td>\n",
       "      <td>Morning</td>\n",
       "    </tr>\n",
       "  </tbody>\n",
       "</table>\n",
       "</div>"
      ],
      "text/plain": [
       "                                user_id      Date_x    Time_x    Period_x  \\\n",
       "0  2be90e7c-9cca-44e0-bcc5-124b945ff168  2017-11-07  20:45:00     Evening   \n",
       "1  2be90e7c-9cca-44e0-bcc5-124b945ff168  2017-11-07  20:45:00     Evening   \n",
       "2  2be90e7c-9cca-44e0-bcc5-124b945ff168  2017-11-07  20:45:00     Evening   \n",
       "3  4397f73f-1da3-4ab3-91af-762792e25973  2017-05-27  01:35:00  Late Night   \n",
       "4  a9db3d4b-0a0a-4398-a55a-ebb2c7adf663  2017-03-04  10:38:00     Morning   \n",
       "\n",
       "       Date_y    Time_y Period_y  \n",
       "0  2017-11-07  21:14:00    Night  \n",
       "1  2017-11-07  20:50:00  Evening  \n",
       "2  2017-11-07  21:11:00    Night  \n",
       "3         NaN       NaN      NaN  \n",
       "4  2017-03-04  11:04:00  Morning  "
      ]
     },
     "execution_count": 99,
     "metadata": {},
     "output_type": "execute_result"
    }
   ],
   "source": [
    "cc = pd.merge(c, co, on = \"user_id\", how = \"left\")\n",
    "cc.head()\n"
   ]
  },
  {
   "cell_type": "code",
   "execution_count": 100,
   "id": "reserved-excellence",
   "metadata": {},
   "outputs": [
    {
     "name": "stdout",
     "output_type": "stream",
     "text": [
      "Cart + Checkout = 602\n"
     ]
    }
   ],
   "source": [
    "print(\"Cart + Checkout =\", len(cc))"
   ]
  },
  {
   "cell_type": "code",
   "execution_count": 101,
   "id": "suitable-establishment",
   "metadata": {},
   "outputs": [
    {
     "name": "stdout",
     "output_type": "stream",
     "text": [
      "Customers in cart but not go to checkout = 126\n"
     ]
    }
   ],
   "source": [
    "# Customers in cart but not go to checkout\n",
    "cnc = cc[cc[\"Time_y\"].isnull()]\n",
    "print(\"Customers in cart but not go to checkout =\", len(cnc))"
   ]
  },
  {
   "cell_type": "code",
   "execution_count": 102,
   "id": "republican-arbitration",
   "metadata": {},
   "outputs": [
    {
     "name": "stdout",
     "output_type": "stream",
     "text": [
      "Customers go from cart to checkout =  476\n"
     ]
    }
   ],
   "source": [
    "# Customers go from cart to checkout\n",
    "print(\"Customers go from cart to checkout = \", len(cc) - len(cnc))"
   ]
  },
  {
   "cell_type": "code",
   "execution_count": 103,
   "id": "imposed-skating",
   "metadata": {},
   "outputs": [
    {
     "name": "stdout",
     "output_type": "stream",
     "text": [
      "% of Customers go to checkout = 20.930232558139537\n"
     ]
    }
   ],
   "source": [
    "# % of Customers go to checkout\n",
    "print(\"% of Customers go to checkout =\", (len(cnc) / len(cc) * 100))"
   ]
  },
  {
   "cell_type": "markdown",
   "id": "first-shell",
   "metadata": {},
   "source": [
    "**Merge Checkout and Purchase**"
   ]
  },
  {
   "cell_type": "code",
   "execution_count": 109,
   "id": "moral-soviet",
   "metadata": {},
   "outputs": [
    {
     "data": {
      "text/html": [
       "<div>\n",
       "<style scoped>\n",
       "    .dataframe tbody tr th:only-of-type {\n",
       "        vertical-align: middle;\n",
       "    }\n",
       "\n",
       "    .dataframe tbody tr th {\n",
       "        vertical-align: top;\n",
       "    }\n",
       "\n",
       "    .dataframe thead th {\n",
       "        text-align: right;\n",
       "    }\n",
       "</style>\n",
       "<table border=\"1\" class=\"dataframe\">\n",
       "  <thead>\n",
       "    <tr style=\"text-align: right;\">\n",
       "      <th></th>\n",
       "      <th>user_id</th>\n",
       "      <th>checkout_time</th>\n",
       "      <th>purchase_time</th>\n",
       "    </tr>\n",
       "  </thead>\n",
       "  <tbody>\n",
       "    <tr>\n",
       "      <th>0</th>\n",
       "      <td>d33bdc47-4afa-45bc-b4e4-dbe948e34c0d</td>\n",
       "      <td>2017-06-25 09:29:00</td>\n",
       "      <td>2017-06-25 09:49:00</td>\n",
       "    </tr>\n",
       "    <tr>\n",
       "      <th>1</th>\n",
       "      <td>d33bdc47-4afa-45bc-b4e4-dbe948e34c0d</td>\n",
       "      <td>2017-06-25 09:29:00</td>\n",
       "      <td>2017-06-25 09:56:00</td>\n",
       "    </tr>\n",
       "    <tr>\n",
       "      <th>2</th>\n",
       "      <td>d33bdc47-4afa-45bc-b4e4-dbe948e34c0d</td>\n",
       "      <td>2017-06-25 09:29:00</td>\n",
       "      <td>2017-06-25 09:57:00</td>\n",
       "    </tr>\n",
       "    <tr>\n",
       "      <th>3</th>\n",
       "      <td>4ac186f0-9954-4fea-8a27-c081e428e34e</td>\n",
       "      <td>2017-04-07 20:11:00</td>\n",
       "      <td>NaT</td>\n",
       "    </tr>\n",
       "    <tr>\n",
       "      <th>4</th>\n",
       "      <td>3c9c78a7-124a-4b77-8d2e-e1926e011e7d</td>\n",
       "      <td>2017-07-13 11:38:00</td>\n",
       "      <td>NaT</td>\n",
       "    </tr>\n",
       "  </tbody>\n",
       "</table>\n",
       "</div>"
      ],
      "text/plain": [
       "                                user_id       checkout_time  \\\n",
       "0  d33bdc47-4afa-45bc-b4e4-dbe948e34c0d 2017-06-25 09:29:00   \n",
       "1  d33bdc47-4afa-45bc-b4e4-dbe948e34c0d 2017-06-25 09:29:00   \n",
       "2  d33bdc47-4afa-45bc-b4e4-dbe948e34c0d 2017-06-25 09:29:00   \n",
       "3  4ac186f0-9954-4fea-8a27-c081e428e34e 2017-04-07 20:11:00   \n",
       "4  3c9c78a7-124a-4b77-8d2e-e1926e011e7d 2017-07-13 11:38:00   \n",
       "\n",
       "        purchase_time  \n",
       "0 2017-06-25 09:49:00  \n",
       "1 2017-06-25 09:56:00  \n",
       "2 2017-06-25 09:57:00  \n",
       "3                 NaT  \n",
       "4                 NaT  "
      ]
     },
     "execution_count": 109,
     "metadata": {},
     "output_type": "execute_result"
    }
   ],
   "source": [
    "cop = pd.merge(co, p, on = \"user_id\", how = \"left\")\n",
    "cop.head()"
   ]
  },
  {
   "cell_type": "code",
   "execution_count": 110,
   "id": "several-argument",
   "metadata": {},
   "outputs": [
    {
     "name": "stdout",
     "output_type": "stream",
     "text": [
      "Customers not go for purchase = 101\n"
     ]
    }
   ],
   "source": [
    "# Customers in checkout but not go for purchase\n",
    "np = cop[cop[\"purchase_time\"].isnull()]\n",
    "print(\"Customers not go for purchase =\", len(np))"
   ]
  },
  {
   "cell_type": "code",
   "execution_count": 111,
   "id": "neutral-separate",
   "metadata": {},
   "outputs": [
    {
     "name": "stdout",
     "output_type": "stream",
     "text": [
      "Customers proceed to checkout =  497\n"
     ]
    }
   ],
   "source": [
    "# Customers go from checkout to purchase\n",
    "print(\"Customers proceed to checkout = \", (len(cop) - len(np)))"
   ]
  },
  {
   "cell_type": "code",
   "execution_count": 112,
   "id": "necessary-bumper",
   "metadata": {},
   "outputs": [
    {
     "name": "stdout",
     "output_type": "stream",
     "text": [
      "% Customers go for purchase 16.88963210702341\n"
     ]
    }
   ],
   "source": [
    "# % Customers go for purchase\n",
    "print(\"% Customers go for purchase\", (len(np) / len(cop)) * 100)"
   ]
  },
  {
   "cell_type": "markdown",
   "id": "olive-eating",
   "metadata": {},
   "source": [
    "**Merge All Data**"
   ]
  },
  {
   "cell_type": "code",
   "execution_count": 113,
   "id": "ceramic-reconstruction",
   "metadata": {},
   "outputs": [
    {
     "data": {
      "text/html": [
       "<div>\n",
       "<style scoped>\n",
       "    .dataframe tbody tr th:only-of-type {\n",
       "        vertical-align: middle;\n",
       "    }\n",
       "\n",
       "    .dataframe tbody tr th {\n",
       "        vertical-align: top;\n",
       "    }\n",
       "\n",
       "    .dataframe thead th {\n",
       "        text-align: right;\n",
       "    }\n",
       "</style>\n",
       "<table border=\"1\" class=\"dataframe\">\n",
       "  <thead>\n",
       "    <tr style=\"text-align: right;\">\n",
       "      <th></th>\n",
       "      <th>user_id</th>\n",
       "      <th>visit_time</th>\n",
       "      <th>cart_time</th>\n",
       "      <th>checkout_time</th>\n",
       "      <th>purchase_time</th>\n",
       "    </tr>\n",
       "  </thead>\n",
       "  <tbody>\n",
       "    <tr>\n",
       "      <th>0</th>\n",
       "      <td>943647ef-3682-4750-a2e1-918ba6f16188</td>\n",
       "      <td>2017-04-07 15:14:00</td>\n",
       "      <td>NaT</td>\n",
       "      <td>NaT</td>\n",
       "      <td>NaT</td>\n",
       "    </tr>\n",
       "    <tr>\n",
       "      <th>1</th>\n",
       "      <td>0c3a3dd0-fb64-4eac-bf84-ba069ce409f2</td>\n",
       "      <td>2017-01-26 14:24:00</td>\n",
       "      <td>2017-01-26 14:44:00</td>\n",
       "      <td>2017-01-26 14:54:00</td>\n",
       "      <td>2017-01-26 15:08:00</td>\n",
       "    </tr>\n",
       "    <tr>\n",
       "      <th>2</th>\n",
       "      <td>6e0b2d60-4027-4d9a-babd-0e7d40859fb1</td>\n",
       "      <td>2017-08-20 08:23:00</td>\n",
       "      <td>2017-08-20 08:31:00</td>\n",
       "      <td>NaT</td>\n",
       "      <td>NaT</td>\n",
       "    </tr>\n",
       "    <tr>\n",
       "      <th>3</th>\n",
       "      <td>6e0b2d60-4027-4d9a-babd-0e7d40859fb1</td>\n",
       "      <td>2017-08-20 08:23:00</td>\n",
       "      <td>2017-08-20 08:49:00</td>\n",
       "      <td>NaT</td>\n",
       "      <td>NaT</td>\n",
       "    </tr>\n",
       "    <tr>\n",
       "      <th>4</th>\n",
       "      <td>6879527e-c5a6-4d14-b2da-50b85212b0ab</td>\n",
       "      <td>2017-11-04 18:15:00</td>\n",
       "      <td>NaT</td>\n",
       "      <td>NaT</td>\n",
       "      <td>NaT</td>\n",
       "    </tr>\n",
       "  </tbody>\n",
       "</table>\n",
       "</div>"
      ],
      "text/plain": [
       "                                user_id          visit_time  \\\n",
       "0  943647ef-3682-4750-a2e1-918ba6f16188 2017-04-07 15:14:00   \n",
       "1  0c3a3dd0-fb64-4eac-bf84-ba069ce409f2 2017-01-26 14:24:00   \n",
       "2  6e0b2d60-4027-4d9a-babd-0e7d40859fb1 2017-08-20 08:23:00   \n",
       "3  6e0b2d60-4027-4d9a-babd-0e7d40859fb1 2017-08-20 08:23:00   \n",
       "4  6879527e-c5a6-4d14-b2da-50b85212b0ab 2017-11-04 18:15:00   \n",
       "\n",
       "            cart_time       checkout_time       purchase_time  \n",
       "0                 NaT                 NaT                 NaT  \n",
       "1 2017-01-26 14:44:00 2017-01-26 14:54:00 2017-01-26 15:08:00  \n",
       "2 2017-08-20 08:31:00                 NaT                 NaT  \n",
       "3 2017-08-20 08:49:00                 NaT                 NaT  \n",
       "4                 NaT                 NaT                 NaT  "
      ]
     },
     "execution_count": 113,
     "metadata": {},
     "output_type": "execute_result"
    }
   ],
   "source": [
    "all_data = v.merge(c, on = \"user_id\", how = \"left\").merge(co, on = \"user_id\", how = \"left\").merge(p, on = \"user_id\", how = \"left\")\n",
    "all_data.head()"
   ]
  },
  {
   "cell_type": "code",
   "execution_count": 114,
   "id": "generic-graph",
   "metadata": {},
   "outputs": [
    {
     "name": "stdout",
     "output_type": "stream",
     "text": [
      "All Data Length =  2594\n"
     ]
    }
   ],
   "source": [
    "print(\"All Data Length = \", len(all_data))"
   ]
  },
  {
   "cell_type": "code",
   "execution_count": 115,
   "id": "dominant-milan",
   "metadata": {},
   "outputs": [
    {
     "data": {
      "text/html": [
       "<div>\n",
       "<style scoped>\n",
       "    .dataframe tbody tr th:only-of-type {\n",
       "        vertical-align: middle;\n",
       "    }\n",
       "\n",
       "    .dataframe tbody tr th {\n",
       "        vertical-align: top;\n",
       "    }\n",
       "\n",
       "    .dataframe thead th {\n",
       "        text-align: right;\n",
       "    }\n",
       "</style>\n",
       "<table border=\"1\" class=\"dataframe\">\n",
       "  <thead>\n",
       "    <tr style=\"text-align: right;\">\n",
       "      <th></th>\n",
       "      <th>user_id</th>\n",
       "      <th>visit_time</th>\n",
       "      <th>cart_time</th>\n",
       "      <th>checkout_time</th>\n",
       "      <th>purchase_time</th>\n",
       "    </tr>\n",
       "  </thead>\n",
       "  <tbody>\n",
       "    <tr>\n",
       "      <th>0</th>\n",
       "      <td>943647ef-3682-4750-a2e1-918ba6f16188</td>\n",
       "      <td>2017-04-07 15:14:00</td>\n",
       "      <td>NaT</td>\n",
       "      <td>NaT</td>\n",
       "      <td>NaT</td>\n",
       "    </tr>\n",
       "    <tr>\n",
       "      <th>2</th>\n",
       "      <td>6e0b2d60-4027-4d9a-babd-0e7d40859fb1</td>\n",
       "      <td>2017-08-20 08:23:00</td>\n",
       "      <td>2017-08-20 08:31:00</td>\n",
       "      <td>NaT</td>\n",
       "      <td>NaT</td>\n",
       "    </tr>\n",
       "    <tr>\n",
       "      <th>3</th>\n",
       "      <td>6e0b2d60-4027-4d9a-babd-0e7d40859fb1</td>\n",
       "      <td>2017-08-20 08:23:00</td>\n",
       "      <td>2017-08-20 08:49:00</td>\n",
       "      <td>NaT</td>\n",
       "      <td>NaT</td>\n",
       "    </tr>\n",
       "    <tr>\n",
       "      <th>4</th>\n",
       "      <td>6879527e-c5a6-4d14-b2da-50b85212b0ab</td>\n",
       "      <td>2017-11-04 18:15:00</td>\n",
       "      <td>NaT</td>\n",
       "      <td>NaT</td>\n",
       "      <td>NaT</td>\n",
       "    </tr>\n",
       "    <tr>\n",
       "      <th>5</th>\n",
       "      <td>a84327ff-5daa-4ba1-b789-d5b4caf81e96</td>\n",
       "      <td>2017-02-27 11:25:00</td>\n",
       "      <td>NaT</td>\n",
       "      <td>NaT</td>\n",
       "      <td>NaT</td>\n",
       "    </tr>\n",
       "  </tbody>\n",
       "</table>\n",
       "</div>"
      ],
      "text/plain": [
       "                                user_id          visit_time  \\\n",
       "0  943647ef-3682-4750-a2e1-918ba6f16188 2017-04-07 15:14:00   \n",
       "2  6e0b2d60-4027-4d9a-babd-0e7d40859fb1 2017-08-20 08:23:00   \n",
       "3  6e0b2d60-4027-4d9a-babd-0e7d40859fb1 2017-08-20 08:23:00   \n",
       "4  6879527e-c5a6-4d14-b2da-50b85212b0ab 2017-11-04 18:15:00   \n",
       "5  a84327ff-5daa-4ba1-b789-d5b4caf81e96 2017-02-27 11:25:00   \n",
       "\n",
       "            cart_time checkout_time purchase_time  \n",
       "0                 NaT           NaT           NaT  \n",
       "2 2017-08-20 08:31:00           NaT           NaT  \n",
       "3 2017-08-20 08:49:00           NaT           NaT  \n",
       "4                 NaT           NaT           NaT  \n",
       "5                 NaT           NaT           NaT  "
      ]
     },
     "execution_count": 115,
     "metadata": {},
     "output_type": "execute_result"
    }
   ],
   "source": [
    "# Customers not go for purchase\n",
    "apnp = all_data[all_data[\"purchase_time\"].isnull()]\n",
    "apnp.head()"
   ]
  },
  {
   "cell_type": "code",
   "execution_count": 116,
   "id": "through-colombia",
   "metadata": {},
   "outputs": [
    {
     "name": "stdout",
     "output_type": "stream",
     "text": [
      "696 Null Purchases Out of 2594\n"
     ]
    }
   ],
   "source": [
    "# Total People Not go for Purchase when they reach to purchase item\n",
    "print((len(all_data) - len(apnp)), \"Null Purchases Out of\", len(all_data))"
   ]
  },
  {
   "cell_type": "markdown",
   "id": "floppy-forward",
   "metadata": {},
   "source": [
    "**Time to Purchase**"
   ]
  },
  {
   "cell_type": "code",
   "execution_count": 132,
   "id": "characteristic-fleet",
   "metadata": {},
   "outputs": [
    {
     "data": {
      "text/html": [
       "<div>\n",
       "<style scoped>\n",
       "    .dataframe tbody tr th:only-of-type {\n",
       "        vertical-align: middle;\n",
       "    }\n",
       "\n",
       "    .dataframe tbody tr th {\n",
       "        vertical-align: top;\n",
       "    }\n",
       "\n",
       "    .dataframe thead th {\n",
       "        text-align: right;\n",
       "    }\n",
       "</style>\n",
       "<table border=\"1\" class=\"dataframe\">\n",
       "  <thead>\n",
       "    <tr style=\"text-align: right;\">\n",
       "      <th></th>\n",
       "      <th>user_id</th>\n",
       "      <th>visit_time</th>\n",
       "      <th>cart_time</th>\n",
       "      <th>checkout_time</th>\n",
       "      <th>purchase_time</th>\n",
       "    </tr>\n",
       "  </thead>\n",
       "  <tbody>\n",
       "    <tr>\n",
       "      <th>1</th>\n",
       "      <td>0c3a3dd0-fb64-4eac-bf84-ba069ce409f2</td>\n",
       "      <td>2017-01-26 14:24:00</td>\n",
       "      <td>2017-01-26 14:44:00</td>\n",
       "      <td>2017-01-26 14:54:00</td>\n",
       "      <td>2017-01-26 15:08:00</td>\n",
       "    </tr>\n",
       "    <tr>\n",
       "      <th>15</th>\n",
       "      <td>486480e2-98c3-4d51-8f4b-b1c07228ce84</td>\n",
       "      <td>2017-01-27 16:34:00</td>\n",
       "      <td>2017-01-27 16:44:00</td>\n",
       "      <td>2017-01-27 17:10:00</td>\n",
       "      <td>2017-01-27 17:12:00</td>\n",
       "    </tr>\n",
       "    <tr>\n",
       "      <th>50</th>\n",
       "      <td>3ccdaf69-2d30-40de-b083-51372881aedd</td>\n",
       "      <td>2017-01-08 20:21:00</td>\n",
       "      <td>2017-01-08 20:38:00</td>\n",
       "      <td>2017-01-08 20:52:00</td>\n",
       "      <td>2017-01-08 21:02:00</td>\n",
       "    </tr>\n",
       "    <tr>\n",
       "      <th>51</th>\n",
       "      <td>3ccdaf69-2d30-40de-b083-51372881aedd</td>\n",
       "      <td>2017-01-08 20:21:00</td>\n",
       "      <td>2017-01-08 20:38:00</td>\n",
       "      <td>2017-01-08 20:52:00</td>\n",
       "      <td>2017-01-08 21:21:00</td>\n",
       "    </tr>\n",
       "    <tr>\n",
       "      <th>52</th>\n",
       "      <td>3ccdaf69-2d30-40de-b083-51372881aedd</td>\n",
       "      <td>2017-01-08 20:21:00</td>\n",
       "      <td>2017-01-08 20:38:00</td>\n",
       "      <td>2017-01-08 20:52:00</td>\n",
       "      <td>2017-01-08 21:02:00</td>\n",
       "    </tr>\n",
       "  </tbody>\n",
       "</table>\n",
       "</div>"
      ],
      "text/plain": [
       "                                 user_id          visit_time  \\\n",
       "1   0c3a3dd0-fb64-4eac-bf84-ba069ce409f2 2017-01-26 14:24:00   \n",
       "15  486480e2-98c3-4d51-8f4b-b1c07228ce84 2017-01-27 16:34:00   \n",
       "50  3ccdaf69-2d30-40de-b083-51372881aedd 2017-01-08 20:21:00   \n",
       "51  3ccdaf69-2d30-40de-b083-51372881aedd 2017-01-08 20:21:00   \n",
       "52  3ccdaf69-2d30-40de-b083-51372881aedd 2017-01-08 20:21:00   \n",
       "\n",
       "             cart_time       checkout_time       purchase_time  \n",
       "1  2017-01-26 14:44:00 2017-01-26 14:54:00 2017-01-26 15:08:00  \n",
       "15 2017-01-27 16:44:00 2017-01-27 17:10:00 2017-01-27 17:12:00  \n",
       "50 2017-01-08 20:38:00 2017-01-08 20:52:00 2017-01-08 21:02:00  \n",
       "51 2017-01-08 20:38:00 2017-01-08 20:52:00 2017-01-08 21:21:00  \n",
       "52 2017-01-08 20:38:00 2017-01-08 20:52:00 2017-01-08 21:02:00  "
      ]
     },
     "execution_count": 132,
     "metadata": {},
     "output_type": "execute_result"
    }
   ],
   "source": [
    "purchases = all_data[~all_data[\"purchase_time\"].isnull()]\n",
    "purchases.head()"
   ]
  },
  {
   "cell_type": "code",
   "execution_count": 133,
   "id": "hungarian-constitution",
   "metadata": {},
   "outputs": [
    {
     "data": {
      "text/html": [
       "<div>\n",
       "<style scoped>\n",
       "    .dataframe tbody tr th:only-of-type {\n",
       "        vertical-align: middle;\n",
       "    }\n",
       "\n",
       "    .dataframe tbody tr th {\n",
       "        vertical-align: top;\n",
       "    }\n",
       "\n",
       "    .dataframe thead th {\n",
       "        text-align: right;\n",
       "    }\n",
       "</style>\n",
       "<table border=\"1\" class=\"dataframe\">\n",
       "  <thead>\n",
       "    <tr style=\"text-align: right;\">\n",
       "      <th></th>\n",
       "      <th>user_id</th>\n",
       "      <th>visit_time</th>\n",
       "      <th>cart_time</th>\n",
       "      <th>checkout_time</th>\n",
       "      <th>purchase_time</th>\n",
       "      <th>time_to_purchase</th>\n",
       "    </tr>\n",
       "  </thead>\n",
       "  <tbody>\n",
       "    <tr>\n",
       "      <th>1</th>\n",
       "      <td>0c3a3dd0-fb64-4eac-bf84-ba069ce409f2</td>\n",
       "      <td>2017-01-26 14:24:00</td>\n",
       "      <td>2017-01-26 14:44:00</td>\n",
       "      <td>2017-01-26 14:54:00</td>\n",
       "      <td>2017-01-26 15:08:00</td>\n",
       "      <td>0 days 00:44:00</td>\n",
       "    </tr>\n",
       "    <tr>\n",
       "      <th>15</th>\n",
       "      <td>486480e2-98c3-4d51-8f4b-b1c07228ce84</td>\n",
       "      <td>2017-01-27 16:34:00</td>\n",
       "      <td>2017-01-27 16:44:00</td>\n",
       "      <td>2017-01-27 17:10:00</td>\n",
       "      <td>2017-01-27 17:12:00</td>\n",
       "      <td>0 days 00:38:00</td>\n",
       "    </tr>\n",
       "    <tr>\n",
       "      <th>50</th>\n",
       "      <td>3ccdaf69-2d30-40de-b083-51372881aedd</td>\n",
       "      <td>2017-01-08 20:21:00</td>\n",
       "      <td>2017-01-08 20:38:00</td>\n",
       "      <td>2017-01-08 20:52:00</td>\n",
       "      <td>2017-01-08 21:02:00</td>\n",
       "      <td>0 days 00:41:00</td>\n",
       "    </tr>\n",
       "    <tr>\n",
       "      <th>51</th>\n",
       "      <td>3ccdaf69-2d30-40de-b083-51372881aedd</td>\n",
       "      <td>2017-01-08 20:21:00</td>\n",
       "      <td>2017-01-08 20:38:00</td>\n",
       "      <td>2017-01-08 20:52:00</td>\n",
       "      <td>2017-01-08 21:21:00</td>\n",
       "      <td>0 days 01:00:00</td>\n",
       "    </tr>\n",
       "    <tr>\n",
       "      <th>52</th>\n",
       "      <td>3ccdaf69-2d30-40de-b083-51372881aedd</td>\n",
       "      <td>2017-01-08 20:21:00</td>\n",
       "      <td>2017-01-08 20:38:00</td>\n",
       "      <td>2017-01-08 20:52:00</td>\n",
       "      <td>2017-01-08 21:02:00</td>\n",
       "      <td>0 days 00:41:00</td>\n",
       "    </tr>\n",
       "  </tbody>\n",
       "</table>\n",
       "</div>"
      ],
      "text/plain": [
       "                                 user_id          visit_time  \\\n",
       "1   0c3a3dd0-fb64-4eac-bf84-ba069ce409f2 2017-01-26 14:24:00   \n",
       "15  486480e2-98c3-4d51-8f4b-b1c07228ce84 2017-01-27 16:34:00   \n",
       "50  3ccdaf69-2d30-40de-b083-51372881aedd 2017-01-08 20:21:00   \n",
       "51  3ccdaf69-2d30-40de-b083-51372881aedd 2017-01-08 20:21:00   \n",
       "52  3ccdaf69-2d30-40de-b083-51372881aedd 2017-01-08 20:21:00   \n",
       "\n",
       "             cart_time       checkout_time       purchase_time  \\\n",
       "1  2017-01-26 14:44:00 2017-01-26 14:54:00 2017-01-26 15:08:00   \n",
       "15 2017-01-27 16:44:00 2017-01-27 17:10:00 2017-01-27 17:12:00   \n",
       "50 2017-01-08 20:38:00 2017-01-08 20:52:00 2017-01-08 21:02:00   \n",
       "51 2017-01-08 20:38:00 2017-01-08 20:52:00 2017-01-08 21:21:00   \n",
       "52 2017-01-08 20:38:00 2017-01-08 20:52:00 2017-01-08 21:02:00   \n",
       "\n",
       "   time_to_purchase  \n",
       "1   0 days 00:44:00  \n",
       "15  0 days 00:38:00  \n",
       "50  0 days 00:41:00  \n",
       "51  0 days 01:00:00  \n",
       "52  0 days 00:41:00  "
      ]
     },
     "execution_count": 133,
     "metadata": {},
     "output_type": "execute_result"
    }
   ],
   "source": [
    "purchases['time_to_purchase'] = purchases[\"purchase_time\"] - purchases[\"visit_time\"]\n",
    "purchases.head()"
   ]
  },
  {
   "cell_type": "code",
   "execution_count": 135,
   "id": "level-concert",
   "metadata": {},
   "outputs": [],
   "source": [
    "purchases['time_to_purchase'] = purchases['time_to_purchase'].astype(\"str\")\n",
    "purchases['time_to_purchase'] = purchases['time_to_purchase'].str.split(\" \")\n",
    "purchases[\"Time To Purchase\"] = purchases[\"time_to_purchase\"].str.get(2)\n",
    "del purchases[\"time_to_purchase\"]"
   ]
  },
  {
   "cell_type": "code",
   "execution_count": 136,
   "id": "major-sucking",
   "metadata": {},
   "outputs": [
    {
     "data": {
      "text/html": [
       "<div>\n",
       "<style scoped>\n",
       "    .dataframe tbody tr th:only-of-type {\n",
       "        vertical-align: middle;\n",
       "    }\n",
       "\n",
       "    .dataframe tbody tr th {\n",
       "        vertical-align: top;\n",
       "    }\n",
       "\n",
       "    .dataframe thead th {\n",
       "        text-align: right;\n",
       "    }\n",
       "</style>\n",
       "<table border=\"1\" class=\"dataframe\">\n",
       "  <thead>\n",
       "    <tr style=\"text-align: right;\">\n",
       "      <th></th>\n",
       "      <th>user_id</th>\n",
       "      <th>visit_time</th>\n",
       "      <th>cart_time</th>\n",
       "      <th>checkout_time</th>\n",
       "      <th>purchase_time</th>\n",
       "      <th>Time To Purchase</th>\n",
       "    </tr>\n",
       "  </thead>\n",
       "  <tbody>\n",
       "    <tr>\n",
       "      <th>1</th>\n",
       "      <td>0c3a3dd0-fb64-4eac-bf84-ba069ce409f2</td>\n",
       "      <td>2017-01-26 14:24:00</td>\n",
       "      <td>2017-01-26 14:44:00</td>\n",
       "      <td>2017-01-26 14:54:00</td>\n",
       "      <td>2017-01-26 15:08:00</td>\n",
       "      <td>00:44:00</td>\n",
       "    </tr>\n",
       "    <tr>\n",
       "      <th>15</th>\n",
       "      <td>486480e2-98c3-4d51-8f4b-b1c07228ce84</td>\n",
       "      <td>2017-01-27 16:34:00</td>\n",
       "      <td>2017-01-27 16:44:00</td>\n",
       "      <td>2017-01-27 17:10:00</td>\n",
       "      <td>2017-01-27 17:12:00</td>\n",
       "      <td>00:38:00</td>\n",
       "    </tr>\n",
       "    <tr>\n",
       "      <th>50</th>\n",
       "      <td>3ccdaf69-2d30-40de-b083-51372881aedd</td>\n",
       "      <td>2017-01-08 20:21:00</td>\n",
       "      <td>2017-01-08 20:38:00</td>\n",
       "      <td>2017-01-08 20:52:00</td>\n",
       "      <td>2017-01-08 21:02:00</td>\n",
       "      <td>00:41:00</td>\n",
       "    </tr>\n",
       "    <tr>\n",
       "      <th>51</th>\n",
       "      <td>3ccdaf69-2d30-40de-b083-51372881aedd</td>\n",
       "      <td>2017-01-08 20:21:00</td>\n",
       "      <td>2017-01-08 20:38:00</td>\n",
       "      <td>2017-01-08 20:52:00</td>\n",
       "      <td>2017-01-08 21:21:00</td>\n",
       "      <td>01:00:00</td>\n",
       "    </tr>\n",
       "    <tr>\n",
       "      <th>52</th>\n",
       "      <td>3ccdaf69-2d30-40de-b083-51372881aedd</td>\n",
       "      <td>2017-01-08 20:21:00</td>\n",
       "      <td>2017-01-08 20:38:00</td>\n",
       "      <td>2017-01-08 20:52:00</td>\n",
       "      <td>2017-01-08 21:02:00</td>\n",
       "      <td>00:41:00</td>\n",
       "    </tr>\n",
       "  </tbody>\n",
       "</table>\n",
       "</div>"
      ],
      "text/plain": [
       "                                 user_id          visit_time  \\\n",
       "1   0c3a3dd0-fb64-4eac-bf84-ba069ce409f2 2017-01-26 14:24:00   \n",
       "15  486480e2-98c3-4d51-8f4b-b1c07228ce84 2017-01-27 16:34:00   \n",
       "50  3ccdaf69-2d30-40de-b083-51372881aedd 2017-01-08 20:21:00   \n",
       "51  3ccdaf69-2d30-40de-b083-51372881aedd 2017-01-08 20:21:00   \n",
       "52  3ccdaf69-2d30-40de-b083-51372881aedd 2017-01-08 20:21:00   \n",
       "\n",
       "             cart_time       checkout_time       purchase_time  \\\n",
       "1  2017-01-26 14:44:00 2017-01-26 14:54:00 2017-01-26 15:08:00   \n",
       "15 2017-01-27 16:44:00 2017-01-27 17:10:00 2017-01-27 17:12:00   \n",
       "50 2017-01-08 20:38:00 2017-01-08 20:52:00 2017-01-08 21:02:00   \n",
       "51 2017-01-08 20:38:00 2017-01-08 20:52:00 2017-01-08 21:21:00   \n",
       "52 2017-01-08 20:38:00 2017-01-08 20:52:00 2017-01-08 21:02:00   \n",
       "\n",
       "   Time To Purchase  \n",
       "1          00:44:00  \n",
       "15         00:38:00  \n",
       "50         00:41:00  \n",
       "51         01:00:00  \n",
       "52         00:41:00  "
      ]
     },
     "execution_count": 136,
     "metadata": {},
     "output_type": "execute_result"
    }
   ],
   "source": [
    "purchases.head()"
   ]
  },
  {
   "cell_type": "markdown",
   "id": "convinced-advocacy",
   "metadata": {},
   "source": [
    "**Average, Minimum, Maximum Time spend in Purchasing**"
   ]
  },
  {
   "cell_type": "code",
   "execution_count": 139,
   "id": "failing-conducting",
   "metadata": {},
   "outputs": [
    {
     "name": "stdout",
     "output_type": "stream",
     "text": [
      "Minimum Time Spend in Purchasing = 00:09:00 \n",
      "\n",
      "Maximum Time Spend in Purchasing = 01:17:00 \n",
      "\n"
     ]
    }
   ],
   "source": [
    "print(\"Minimum Time Spend in Purchasing =\", purchases[\"Time To Purchase\"].min() ,\"\\n\")\n",
    "print(\"Maximum Time Spend in Purchasing =\", purchases[\"Time To Purchase\"].max() ,\"\\n\")"
   ]
  },
  {
   "cell_type": "markdown",
   "id": "occupational-strap",
   "metadata": {},
   "source": [
    "**Top 10 by Time Spend**"
   ]
  },
  {
   "cell_type": "code",
   "execution_count": 147,
   "id": "radio-backing",
   "metadata": {},
   "outputs": [
    {
     "data": {
      "text/html": [
       "<div>\n",
       "<style scoped>\n",
       "    .dataframe tbody tr th:only-of-type {\n",
       "        vertical-align: middle;\n",
       "    }\n",
       "\n",
       "    .dataframe tbody tr th {\n",
       "        vertical-align: top;\n",
       "    }\n",
       "\n",
       "    .dataframe thead th {\n",
       "        text-align: right;\n",
       "    }\n",
       "</style>\n",
       "<table border=\"1\" class=\"dataframe\">\n",
       "  <thead>\n",
       "    <tr style=\"text-align: right;\">\n",
       "      <th></th>\n",
       "      <th>count</th>\n",
       "      <th>min</th>\n",
       "      <th>max</th>\n",
       "    </tr>\n",
       "    <tr>\n",
       "      <th>user_id</th>\n",
       "      <th></th>\n",
       "      <th></th>\n",
       "      <th></th>\n",
       "    </tr>\n",
       "  </thead>\n",
       "  <tbody>\n",
       "    <tr>\n",
       "      <th>21dec5fa-999a-45c5-b59b-18a1ee161379</th>\n",
       "      <td>40</td>\n",
       "      <td>00:23:00</td>\n",
       "      <td>00:45:00</td>\n",
       "    </tr>\n",
       "    <tr>\n",
       "      <th>8fac45c9-8d29-45e0-a07e-c892ca19387a</th>\n",
       "      <td>36</td>\n",
       "      <td>00:29:00</td>\n",
       "      <td>00:51:00</td>\n",
       "    </tr>\n",
       "    <tr>\n",
       "      <th>adcf4eb4-4405-4f0e-b140-d76f336e880d</th>\n",
       "      <td>32</td>\n",
       "      <td>00:34:00</td>\n",
       "      <td>01:05:00</td>\n",
       "    </tr>\n",
       "    <tr>\n",
       "      <th>20da6a89-e211-4ea9-99bb-e2e62f03d213</th>\n",
       "      <td>24</td>\n",
       "      <td>00:40:00</td>\n",
       "      <td>00:59:00</td>\n",
       "    </tr>\n",
       "    <tr>\n",
       "      <th>8e5273d1-0eb4-4e56-92cb-b6d0e6a4da6e</th>\n",
       "      <td>24</td>\n",
       "      <td>00:30:00</td>\n",
       "      <td>00:45:00</td>\n",
       "    </tr>\n",
       "    <tr>\n",
       "      <th>bf144bd6-4681-4edb-81b9-df31ee275211</th>\n",
       "      <td>20</td>\n",
       "      <td>00:47:00</td>\n",
       "      <td>00:53:00</td>\n",
       "    </tr>\n",
       "    <tr>\n",
       "      <th>f84d6a17-dad9-4820-967c-d1ee33f1cd17</th>\n",
       "      <td>18</td>\n",
       "      <td>00:24:00</td>\n",
       "      <td>00:40:00</td>\n",
       "    </tr>\n",
       "    <tr>\n",
       "      <th>c0c43343-c337-4ba9-8df7-d2ec441d8823</th>\n",
       "      <td>18</td>\n",
       "      <td>00:50:00</td>\n",
       "      <td>01:17:00</td>\n",
       "    </tr>\n",
       "    <tr>\n",
       "      <th>899e294f-ccbe-4825-86a8-200495a46280</th>\n",
       "      <td>18</td>\n",
       "      <td>00:59:00</td>\n",
       "      <td>01:07:00</td>\n",
       "    </tr>\n",
       "    <tr>\n",
       "      <th>eecd8449-46a4-416c-a149-5a8d86ff7b46</th>\n",
       "      <td>15</td>\n",
       "      <td>00:47:00</td>\n",
       "      <td>01:06:00</td>\n",
       "    </tr>\n",
       "  </tbody>\n",
       "</table>\n",
       "</div>"
      ],
      "text/plain": [
       "                                      count       min       max\n",
       "user_id                                                        \n",
       "21dec5fa-999a-45c5-b59b-18a1ee161379     40  00:23:00  00:45:00\n",
       "8fac45c9-8d29-45e0-a07e-c892ca19387a     36  00:29:00  00:51:00\n",
       "adcf4eb4-4405-4f0e-b140-d76f336e880d     32  00:34:00  01:05:00\n",
       "20da6a89-e211-4ea9-99bb-e2e62f03d213     24  00:40:00  00:59:00\n",
       "8e5273d1-0eb4-4e56-92cb-b6d0e6a4da6e     24  00:30:00  00:45:00\n",
       "bf144bd6-4681-4edb-81b9-df31ee275211     20  00:47:00  00:53:00\n",
       "f84d6a17-dad9-4820-967c-d1ee33f1cd17     18  00:24:00  00:40:00\n",
       "c0c43343-c337-4ba9-8df7-d2ec441d8823     18  00:50:00  01:17:00\n",
       "899e294f-ccbe-4825-86a8-200495a46280     18  00:59:00  01:07:00\n",
       "eecd8449-46a4-416c-a149-5a8d86ff7b46     15  00:47:00  01:06:00"
      ]
     },
     "execution_count": 147,
     "metadata": {},
     "output_type": "execute_result"
    }
   ],
   "source": [
    "sp = purchases.groupby(\"user_id\")[\"Time To Purchase\"].agg([\"count\", \"min\", \"max\"]).sort_values(by = \"count\", ascending = False)\n",
    "sp = sp.head(10)\n",
    "sp"
   ]
  },
  {
   "cell_type": "code",
   "execution_count": null,
   "id": "worst-visitor",
   "metadata": {},
   "outputs": [],
   "source": []
  }
 ],
 "metadata": {
  "kernelspec": {
   "display_name": "Python 3",
   "language": "python",
   "name": "python3"
  },
  "language_info": {
   "codemirror_mode": {
    "name": "ipython",
    "version": 3
   },
   "file_extension": ".py",
   "mimetype": "text/x-python",
   "name": "python",
   "nbconvert_exporter": "python",
   "pygments_lexer": "ipython3",
   "version": "3.8.5"
  }
 },
 "nbformat": 4,
 "nbformat_minor": 5
}
