{
 "cells": [
  {
   "cell_type": "code",
   "execution_count": 132,
   "id": "integral-taiwan",
   "metadata": {},
   "outputs": [
    {
     "name": "stdout",
     "output_type": "stream",
     "text": [
      "Assalam-o-Alaikum!\n"
     ]
    }
   ],
   "source": [
    "greetings = \"Assalam-o-Alaikum!\"\n",
    "print(greetings)"
   ]
  },
  {
   "cell_type": "markdown",
   "id": "hourly-plumbing",
   "metadata": {},
   "source": [
    "### Import Libraries"
   ]
  },
  {
   "cell_type": "code",
   "execution_count": 133,
   "id": "severe-disorder",
   "metadata": {},
   "outputs": [],
   "source": [
    "import numpy as np\n",
    "import pandas as pd\n",
    "from scipy.stats import f_oneway\n",
    "from scipy.stats import binom_test\n",
    "from scipy.stats import chi2_contingency\n",
    "from statsmodels.stats.multicomp import pairwise_tukeyhsd"
   ]
  },
  {
   "cell_type": "code",
   "execution_count": 134,
   "id": "interstate-keyboard",
   "metadata": {},
   "outputs": [
    {
     "data": {
      "text/html": [
       "<div>\n",
       "<style scoped>\n",
       "    .dataframe tbody tr th:only-of-type {\n",
       "        vertical-align: middle;\n",
       "    }\n",
       "\n",
       "    .dataframe tbody tr th {\n",
       "        vertical-align: top;\n",
       "    }\n",
       "\n",
       "    .dataframe thead th {\n",
       "        text-align: right;\n",
       "    }\n",
       "</style>\n",
       "<table border=\"1\" class=\"dataframe\">\n",
       "  <thead>\n",
       "    <tr style=\"text-align: right;\">\n",
       "      <th></th>\n",
       "      <th>is_rescue</th>\n",
       "      <th>weight</th>\n",
       "      <th>tail_length</th>\n",
       "      <th>age</th>\n",
       "      <th>color</th>\n",
       "      <th>likes_children</th>\n",
       "      <th>is_hypoallergenic</th>\n",
       "      <th>name</th>\n",
       "      <th>breed</th>\n",
       "    </tr>\n",
       "  </thead>\n",
       "  <tbody>\n",
       "    <tr>\n",
       "      <th>0</th>\n",
       "      <td>0</td>\n",
       "      <td>6</td>\n",
       "      <td>2.25</td>\n",
       "      <td>2</td>\n",
       "      <td>black</td>\n",
       "      <td>1</td>\n",
       "      <td>0</td>\n",
       "      <td>Huey</td>\n",
       "      <td>chihuahua</td>\n",
       "    </tr>\n",
       "    <tr>\n",
       "      <th>1</th>\n",
       "      <td>0</td>\n",
       "      <td>4</td>\n",
       "      <td>5.36</td>\n",
       "      <td>4</td>\n",
       "      <td>black</td>\n",
       "      <td>0</td>\n",
       "      <td>0</td>\n",
       "      <td>Cherish</td>\n",
       "      <td>chihuahua</td>\n",
       "    </tr>\n",
       "    <tr>\n",
       "      <th>2</th>\n",
       "      <td>0</td>\n",
       "      <td>7</td>\n",
       "      <td>3.63</td>\n",
       "      <td>3</td>\n",
       "      <td>black</td>\n",
       "      <td>0</td>\n",
       "      <td>1</td>\n",
       "      <td>Becka</td>\n",
       "      <td>chihuahua</td>\n",
       "    </tr>\n",
       "    <tr>\n",
       "      <th>3</th>\n",
       "      <td>0</td>\n",
       "      <td>5</td>\n",
       "      <td>0.19</td>\n",
       "      <td>2</td>\n",
       "      <td>black</td>\n",
       "      <td>0</td>\n",
       "      <td>0</td>\n",
       "      <td>Addie</td>\n",
       "      <td>chihuahua</td>\n",
       "    </tr>\n",
       "    <tr>\n",
       "      <th>4</th>\n",
       "      <td>0</td>\n",
       "      <td>5</td>\n",
       "      <td>0.37</td>\n",
       "      <td>1</td>\n",
       "      <td>black</td>\n",
       "      <td>1</td>\n",
       "      <td>1</td>\n",
       "      <td>Beverlee</td>\n",
       "      <td>chihuahua</td>\n",
       "    </tr>\n",
       "    <tr>\n",
       "      <th>...</th>\n",
       "      <td>...</td>\n",
       "      <td>...</td>\n",
       "      <td>...</td>\n",
       "      <td>...</td>\n",
       "      <td>...</td>\n",
       "      <td>...</td>\n",
       "      <td>...</td>\n",
       "      <td>...</td>\n",
       "      <td>...</td>\n",
       "    </tr>\n",
       "    <tr>\n",
       "      <th>795</th>\n",
       "      <td>0</td>\n",
       "      <td>24</td>\n",
       "      <td>14.34</td>\n",
       "      <td>6</td>\n",
       "      <td>grey</td>\n",
       "      <td>0</td>\n",
       "      <td>0</td>\n",
       "      <td>Galvin</td>\n",
       "      <td>whippet</td>\n",
       "    </tr>\n",
       "    <tr>\n",
       "      <th>796</th>\n",
       "      <td>0</td>\n",
       "      <td>42</td>\n",
       "      <td>7.04</td>\n",
       "      <td>12</td>\n",
       "      <td>grey</td>\n",
       "      <td>0</td>\n",
       "      <td>1</td>\n",
       "      <td>Cecilla</td>\n",
       "      <td>whippet</td>\n",
       "    </tr>\n",
       "    <tr>\n",
       "      <th>797</th>\n",
       "      <td>0</td>\n",
       "      <td>58</td>\n",
       "      <td>10.59</td>\n",
       "      <td>8</td>\n",
       "      <td>grey</td>\n",
       "      <td>1</td>\n",
       "      <td>0</td>\n",
       "      <td>Regina</td>\n",
       "      <td>whippet</td>\n",
       "    </tr>\n",
       "    <tr>\n",
       "      <th>798</th>\n",
       "      <td>0</td>\n",
       "      <td>62</td>\n",
       "      <td>18.83</td>\n",
       "      <td>1</td>\n",
       "      <td>grey</td>\n",
       "      <td>1</td>\n",
       "      <td>0</td>\n",
       "      <td>Ellwood</td>\n",
       "      <td>whippet</td>\n",
       "    </tr>\n",
       "    <tr>\n",
       "      <th>799</th>\n",
       "      <td>0</td>\n",
       "      <td>27</td>\n",
       "      <td>15.18</td>\n",
       "      <td>3</td>\n",
       "      <td>grey</td>\n",
       "      <td>0</td>\n",
       "      <td>0</td>\n",
       "      <td>Gard</td>\n",
       "      <td>whippets</td>\n",
       "    </tr>\n",
       "  </tbody>\n",
       "</table>\n",
       "<p>800 rows × 9 columns</p>\n",
       "</div>"
      ],
      "text/plain": [
       "     is_rescue  weight  tail_length  age  color  likes_children  \\\n",
       "0            0       6         2.25    2  black               1   \n",
       "1            0       4         5.36    4  black               0   \n",
       "2            0       7         3.63    3  black               0   \n",
       "3            0       5         0.19    2  black               0   \n",
       "4            0       5         0.37    1  black               1   \n",
       "..         ...     ...          ...  ...    ...             ...   \n",
       "795          0      24        14.34    6   grey               0   \n",
       "796          0      42         7.04   12   grey               0   \n",
       "797          0      58        10.59    8   grey               1   \n",
       "798          0      62        18.83    1   grey               1   \n",
       "799          0      27        15.18    3   grey               0   \n",
       "\n",
       "     is_hypoallergenic      name      breed  \n",
       "0                    0      Huey  chihuahua  \n",
       "1                    0   Cherish  chihuahua  \n",
       "2                    1     Becka  chihuahua  \n",
       "3                    0     Addie  chihuahua  \n",
       "4                    1  Beverlee  chihuahua  \n",
       "..                 ...       ...        ...  \n",
       "795                  0    Galvin    whippet  \n",
       "796                  1   Cecilla    whippet  \n",
       "797                  0    Regina    whippet  \n",
       "798                  0   Ellwood    whippet  \n",
       "799                  0      Gard   whippets  \n",
       "\n",
       "[800 rows x 9 columns]"
      ]
     },
     "execution_count": 134,
     "metadata": {},
     "output_type": "execute_result"
    }
   ],
   "source": [
    "dog = pd.read_csv(\"dog.txt\")\n",
    "dog"
   ]
  },
  {
   "cell_type": "markdown",
   "id": "sorted-short",
   "metadata": {},
   "source": [
    "### Dog Attributes"
   ]
  },
  {
   "cell_type": "markdown",
   "id": "engaged-honey",
   "metadata": {},
   "source": [
    "**rottweile tail length**"
   ]
  },
  {
   "cell_type": "code",
   "execution_count": 135,
   "id": "olive-connection",
   "metadata": {},
   "outputs": [
    {
     "data": {
      "text/plain": [
       "400    3.13\n",
       "401    3.32\n",
       "402    1.16\n",
       "403    2.23\n",
       "404    8.86\n",
       "Name: tail_length, dtype: float64"
      ]
     },
     "execution_count": 135,
     "metadata": {},
     "output_type": "execute_result"
    }
   ],
   "source": [
    "# Easy way\n",
    "rot_tl = dog[dog[\"breed\"] == \"rottweiler\"]\n",
    "rot_tl[\"tail_length\"][0:5]"
   ]
  },
  {
   "cell_type": "markdown",
   "id": "australian-cable",
   "metadata": {},
   "source": [
    "**rottweiler mean & std**"
   ]
  },
  {
   "cell_type": "code",
   "execution_count": 136,
   "id": "measured-invite",
   "metadata": {},
   "outputs": [
    {
     "name": "stdout",
     "output_type": "stream",
     "text": [
      "Mean = 4.2360999999999995\n",
      "Std = 2.0647536874891395\n"
     ]
    }
   ],
   "source": [
    "# Easy Way\n",
    "tail = dog[dog[\"breed\"] == \"rottweiler\"]\n",
    "m= np.mean(tail[\"tail_length\"])\n",
    "print(\"Mean =\", m)\n",
    "\n",
    "s = np.std(tail[\"tail_length\"])\n",
    "print(\"Std =\", s)"
   ]
  },
  {
   "cell_type": "markdown",
   "id": "neutral-charge",
   "metadata": {},
   "source": [
    "**Whippet Rescue**"
   ]
  },
  {
   "cell_type": "code",
   "execution_count": 137,
   "id": "greenhouse-seller",
   "metadata": {
    "scrolled": true
   },
   "outputs": [
    {
     "data": {
      "text/plain": [
       "700    0\n",
       "701    0\n",
       "702    0\n",
       "703    0\n",
       "704    0\n",
       "Name: is_rescue, dtype: int64"
      ]
     },
     "execution_count": 137,
     "metadata": {},
     "output_type": "execute_result"
    }
   ],
   "source": [
    "# Easy way\n",
    "we_rescue = dog[dog[\"breed\"] == \"whippet\"]\n",
    "we_rescue[\"is_rescue\"][0:5]"
   ]
  },
  {
   "cell_type": "markdown",
   "id": "hindu-dylan",
   "metadata": {},
   "source": [
    "**Count number of whippet rescues**"
   ]
  },
  {
   "cell_type": "code",
   "execution_count": 138,
   "id": "mediterranean-audience",
   "metadata": {},
   "outputs": [
    {
     "data": {
      "text/plain": [
       "6"
      ]
     },
     "execution_count": 138,
     "metadata": {},
     "output_type": "execute_result"
    }
   ],
   "source": [
    "# Easy way\n",
    "whippet = dog[dog[\"breed\"] == \"whippet\"]\n",
    "rescued_whippets = whippet[\"is_rescue\"].sum()\n",
    "rescued_whippets"
   ]
  },
  {
   "cell_type": "markdown",
   "id": "novel-tomorrow",
   "metadata": {},
   "source": [
    "**Size of whippet's is_rescue column**"
   ]
  },
  {
   "cell_type": "code",
   "execution_count": 139,
   "id": "found-transcript",
   "metadata": {},
   "outputs": [
    {
     "data": {
      "text/plain": [
       "99"
      ]
     },
     "execution_count": 139,
     "metadata": {},
     "output_type": "execute_result"
    }
   ],
   "source": [
    "# Easy way\n",
    "total_whippets = np.size(whippet[\"is_rescue\"])\n",
    "total_whippets"
   ]
  },
  {
   "cell_type": "markdown",
   "id": "shared-order",
   "metadata": {},
   "source": [
    "**Binom Test to check null hypotheasis = 8% whippets are rescued**"
   ]
  },
  {
   "cell_type": "code",
   "execution_count": 140,
   "id": "reserved-magic",
   "metadata": {},
   "outputs": [
    {
     "data": {
      "text/plain": [
       "0.5810192714432574"
      ]
     },
     "execution_count": 140,
     "metadata": {},
     "output_type": "execute_result"
    }
   ],
   "source": [
    "test = binom_test(rescued_whippets, total_whippets, 0.08)\n",
    "test"
   ]
  },
  {
   "cell_type": "markdown",
   "id": "equipped-reward",
   "metadata": {},
   "source": [
    "**Whippets Weight**"
   ]
  },
  {
   "cell_type": "code",
   "execution_count": 141,
   "id": "fundamental-plaza",
   "metadata": {},
   "outputs": [
    {
     "data": {
      "text/plain": [
       "700    12\n",
       "701    46\n",
       "702    13\n",
       "703    52\n",
       "704    53\n",
       "Name: weight, dtype: int64"
      ]
     },
     "execution_count": 141,
     "metadata": {},
     "output_type": "execute_result"
    }
   ],
   "source": [
    "w = dog[dog[\"breed\"] == \"whippet\"]\n",
    "ww = w[\"weight\"]\n",
    "ww[0:5]"
   ]
  },
  {
   "cell_type": "markdown",
   "id": "behind-oliver",
   "metadata": {},
   "source": [
    "**terrier weight**"
   ]
  },
  {
   "cell_type": "code",
   "execution_count": 142,
   "id": "agreed-british",
   "metadata": {},
   "outputs": [
    {
     "data": {
      "text/plain": [
       "600    26\n",
       "601     2\n",
       "602    38\n",
       "603    31\n",
       "604    33\n",
       "Name: weight, dtype: int64"
      ]
     },
     "execution_count": 142,
     "metadata": {},
     "output_type": "execute_result"
    }
   ],
   "source": [
    "t = dog[dog[\"breed\"] == \"terrier\"]\n",
    "tw = t[\"weight\"]\n",
    "tw[0:5]"
   ]
  },
  {
   "cell_type": "markdown",
   "id": "hairy-russia",
   "metadata": {},
   "source": [
    "**Pitbull weight**"
   ]
  },
  {
   "cell_type": "code",
   "execution_count": 143,
   "id": "atlantic-hamburg",
   "metadata": {},
   "outputs": [
    {
     "data": {
      "text/plain": [
       "200    71\n",
       "201    26\n",
       "202    56\n",
       "203    33\n",
       "204    54\n",
       "Name: weight, dtype: int64"
      ]
     },
     "execution_count": 143,
     "metadata": {},
     "output_type": "execute_result"
    }
   ],
   "source": [
    "p = dog[dog[\"breed\"] == \"pitbull\"]\n",
    "pw = p[\"weight\"]\n",
    "pw[0:5]"
   ]
  },
  {
   "cell_type": "markdown",
   "id": "packed-block",
   "metadata": {},
   "source": [
    "**One way ANOVA Test**"
   ]
  },
  {
   "cell_type": "code",
   "execution_count": 144,
   "id": "wrapped-nightmare",
   "metadata": {},
   "outputs": [
    {
     "data": {
      "text/plain": [
       "2.4937091704472013e-17"
      ]
     },
     "execution_count": 144,
     "metadata": {},
     "output_type": "execute_result"
    }
   ],
   "source": [
    "f, p = f_oneway(ww, tw, pw)\n",
    "p"
   ]
  },
  {
   "cell_type": "code",
   "execution_count": 145,
   "id": "rapid-lightweight",
   "metadata": {},
   "outputs": [
    {
     "data": {
      "text/plain": [
       "False"
      ]
     },
     "execution_count": 145,
     "metadata": {},
     "output_type": "execute_result"
    }
   ],
   "source": [
    "p > 0.05"
   ]
  },
  {
   "cell_type": "markdown",
   "id": "seasonal-surgeon",
   "metadata": {},
   "source": [
    "**Pairwise Tukeyhsd**"
   ]
  },
  {
   "cell_type": "code",
   "execution_count": 146,
   "id": "violent-spotlight",
   "metadata": {},
   "outputs": [
    {
     "data": {
      "text/plain": [
       "array([12, 46, 13, 52, 53], dtype=int64)"
      ]
     },
     "execution_count": 146,
     "metadata": {},
     "output_type": "execute_result"
    }
   ],
   "source": [
    "values = np.concatenate([ww, tw, pw])\n",
    "values[0:5]"
   ]
  },
  {
   "cell_type": "code",
   "execution_count": 147,
   "id": "boring-rebound",
   "metadata": {},
   "outputs": [
    {
     "data": {
      "text/plain": [
       "['whippet', 'whippet', 'whippet', 'whippet', 'whippet']"
      ]
     },
     "execution_count": 147,
     "metadata": {},
     "output_type": "execute_result"
    }
   ],
   "source": [
    "labels = [\"whippet\"] * len(ww) + [\"terrier\"] * len(tw) + [\"pitbull\"] * len(pw)\n",
    "labels[0:5]"
   ]
  },
  {
   "cell_type": "code",
   "execution_count": 148,
   "id": "automated-reproduction",
   "metadata": {},
   "outputs": [
    {
     "name": "stdout",
     "output_type": "stream",
     "text": [
      "  Multiple Comparison of Means - Tukey HSD, FWER=0.05  \n",
      "=======================================================\n",
      " group1  group2 meandiff p-adj   lower    upper  reject\n",
      "-------------------------------------------------------\n",
      "pitbull terrier   -13.24  0.001 -16.7236 -9.7564   True\n",
      "pitbull whippet  -3.2004 0.0802  -6.6927  0.2919  False\n",
      "terrier whippet  10.0396  0.001   6.5473 13.5319   True\n",
      "-------------------------------------------------------\n"
     ]
    }
   ],
   "source": [
    "print(pairwise_tukeyhsd(values, labels, 0.05))"
   ]
  },
  {
   "cell_type": "markdown",
   "id": "ignored-emission",
   "metadata": {},
   "source": [
    "**Chi2_Contingency**"
   ]
  },
  {
   "cell_type": "code",
   "execution_count": 149,
   "id": "passing-publisher",
   "metadata": {},
   "outputs": [
    {
     "data": {
      "text/html": [
       "<div>\n",
       "<style scoped>\n",
       "    .dataframe tbody tr th:only-of-type {\n",
       "        vertical-align: middle;\n",
       "    }\n",
       "\n",
       "    .dataframe tbody tr th {\n",
       "        vertical-align: top;\n",
       "    }\n",
       "\n",
       "    .dataframe thead th {\n",
       "        text-align: right;\n",
       "    }\n",
       "</style>\n",
       "<table border=\"1\" class=\"dataframe\">\n",
       "  <thead>\n",
       "    <tr style=\"text-align: right;\">\n",
       "      <th></th>\n",
       "      <th>colors</th>\n",
       "      <th>poodles</th>\n",
       "    </tr>\n",
       "  </thead>\n",
       "  <tbody>\n",
       "    <tr>\n",
       "      <th>0</th>\n",
       "      <td>grey</td>\n",
       "      <td>52</td>\n",
       "    </tr>\n",
       "    <tr>\n",
       "      <th>1</th>\n",
       "      <td>black</td>\n",
       "      <td>17</td>\n",
       "    </tr>\n",
       "    <tr>\n",
       "      <th>2</th>\n",
       "      <td>brown</td>\n",
       "      <td>13</td>\n",
       "    </tr>\n",
       "    <tr>\n",
       "      <th>3</th>\n",
       "      <td>white</td>\n",
       "      <td>10</td>\n",
       "    </tr>\n",
       "    <tr>\n",
       "      <th>4</th>\n",
       "      <td>gold</td>\n",
       "      <td>8</td>\n",
       "    </tr>\n",
       "  </tbody>\n",
       "</table>\n",
       "</div>"
      ],
      "text/plain": [
       "  colors  poodles\n",
       "0   grey       52\n",
       "1  black       17\n",
       "2  brown       13\n",
       "3  white       10\n",
       "4   gold        8"
      ]
     },
     "execution_count": 149,
     "metadata": {},
     "output_type": "execute_result"
    }
   ],
   "source": [
    "# poodle_colors\n",
    "p = dog[dog[\"breed\"] == \"poodle\"]\n",
    "pc = p[\"color\"].value_counts().to_frame().reset_index()\n",
    "pc.columns = [\"colors\", \"poodles\"]\n",
    "pc"
   ]
  },
  {
   "cell_type": "code",
   "execution_count": 150,
   "id": "hazardous-affiliation",
   "metadata": {},
   "outputs": [
    {
     "data": {
      "text/html": [
       "<div>\n",
       "<style scoped>\n",
       "    .dataframe tbody tr th:only-of-type {\n",
       "        vertical-align: middle;\n",
       "    }\n",
       "\n",
       "    .dataframe tbody tr th {\n",
       "        vertical-align: top;\n",
       "    }\n",
       "\n",
       "    .dataframe thead th {\n",
       "        text-align: right;\n",
       "    }\n",
       "</style>\n",
       "<table border=\"1\" class=\"dataframe\">\n",
       "  <thead>\n",
       "    <tr style=\"text-align: right;\">\n",
       "      <th></th>\n",
       "      <th>colors</th>\n",
       "      <th>shihtzu</th>\n",
       "    </tr>\n",
       "  </thead>\n",
       "  <tbody>\n",
       "    <tr>\n",
       "      <th>0</th>\n",
       "      <td>grey</td>\n",
       "      <td>41</td>\n",
       "    </tr>\n",
       "    <tr>\n",
       "      <th>1</th>\n",
       "      <td>brown</td>\n",
       "      <td>36</td>\n",
       "    </tr>\n",
       "    <tr>\n",
       "      <th>2</th>\n",
       "      <td>black</td>\n",
       "      <td>10</td>\n",
       "    </tr>\n",
       "    <tr>\n",
       "      <th>3</th>\n",
       "      <td>white</td>\n",
       "      <td>7</td>\n",
       "    </tr>\n",
       "    <tr>\n",
       "      <th>4</th>\n",
       "      <td>gold</td>\n",
       "      <td>6</td>\n",
       "    </tr>\n",
       "  </tbody>\n",
       "</table>\n",
       "</div>"
      ],
      "text/plain": [
       "  colors  shihtzu\n",
       "0   grey       41\n",
       "1  brown       36\n",
       "2  black       10\n",
       "3  white        7\n",
       "4   gold        6"
      ]
     },
     "execution_count": 150,
     "metadata": {},
     "output_type": "execute_result"
    }
   ],
   "source": [
    "# shihtzu_colors\n",
    "s = dog[dog[\"breed\"] == \"shihtzu\"]\n",
    "sc = s[\"color\"].value_counts().to_frame().reset_index()\n",
    "sc.columns = [\"colors\", \"shihtzu\"]\n",
    "sc"
   ]
  },
  {
   "cell_type": "code",
   "execution_count": 151,
   "id": "accessory-component",
   "metadata": {},
   "outputs": [
    {
     "data": {
      "text/html": [
       "<div>\n",
       "<style scoped>\n",
       "    .dataframe tbody tr th:only-of-type {\n",
       "        vertical-align: middle;\n",
       "    }\n",
       "\n",
       "    .dataframe tbody tr th {\n",
       "        vertical-align: top;\n",
       "    }\n",
       "\n",
       "    .dataframe thead th {\n",
       "        text-align: right;\n",
       "    }\n",
       "</style>\n",
       "<table border=\"1\" class=\"dataframe\">\n",
       "  <thead>\n",
       "    <tr style=\"text-align: right;\">\n",
       "      <th></th>\n",
       "      <th>poodles</th>\n",
       "      <th>shihtzu</th>\n",
       "    </tr>\n",
       "  </thead>\n",
       "  <tbody>\n",
       "    <tr>\n",
       "      <th>0</th>\n",
       "      <td>52</td>\n",
       "      <td>41</td>\n",
       "    </tr>\n",
       "    <tr>\n",
       "      <th>1</th>\n",
       "      <td>17</td>\n",
       "      <td>10</td>\n",
       "    </tr>\n",
       "    <tr>\n",
       "      <th>2</th>\n",
       "      <td>13</td>\n",
       "      <td>36</td>\n",
       "    </tr>\n",
       "    <tr>\n",
       "      <th>3</th>\n",
       "      <td>10</td>\n",
       "      <td>7</td>\n",
       "    </tr>\n",
       "    <tr>\n",
       "      <th>4</th>\n",
       "      <td>8</td>\n",
       "      <td>6</td>\n",
       "    </tr>\n",
       "  </tbody>\n",
       "</table>\n",
       "</div>"
      ],
      "text/plain": [
       "   poodles  shihtzu\n",
       "0       52       41\n",
       "1       17       10\n",
       "2       13       36\n",
       "3       10        7\n",
       "4        8        6"
      ]
     },
     "execution_count": 151,
     "metadata": {},
     "output_type": "execute_result"
    }
   ],
   "source": [
    "color_table = pd.merge(pc, sc, on = \"colors\")\n",
    "color_table = color_table.drop(columns = [\"colors\"])\n",
    "color_table"
   ]
  },
  {
   "cell_type": "code",
   "execution_count": 152,
   "id": "composed-peace",
   "metadata": {},
   "outputs": [
    {
     "data": {
      "text/plain": [
       "[[52, 41], [17, 10], [13, 36], [10, 7], [8, 6]]"
      ]
     },
     "execution_count": 152,
     "metadata": {},
     "output_type": "execute_result"
    }
   ],
   "source": [
    "color_table = color_table.values.tolist()\n",
    "color_table"
   ]
  },
  {
   "cell_type": "code",
   "execution_count": 153,
   "id": "industrial-fantasy",
   "metadata": {},
   "outputs": [
    {
     "name": "stdout",
     "output_type": "stream",
     "text": [
      "0.005302408293244601\n"
     ]
    }
   ],
   "source": [
    "_, color_pval, _, _, = chi2_contingency(color_table)\n",
    "print(color_pval)"
   ]
  },
  {
   "cell_type": "code",
   "execution_count": 164,
   "id": "liberal-baking",
   "metadata": {},
   "outputs": [
    {
     "data": {
      "text/plain": [
       "False"
      ]
     },
     "execution_count": 164,
     "metadata": {},
     "output_type": "execute_result"
    }
   ],
   "source": [
    "color_pval > 0.05"
   ]
  }
 ],
 "metadata": {
  "kernelspec": {
   "display_name": "Python 3",
   "language": "python",
   "name": "python3"
  },
  "language_info": {
   "codemirror_mode": {
    "name": "ipython",
    "version": 3
   },
   "file_extension": ".py",
   "mimetype": "text/x-python",
   "name": "python",
   "nbconvert_exporter": "python",
   "pygments_lexer": "ipython3",
   "version": "3.8.5"
  }
 },
 "nbformat": 4,
 "nbformat_minor": 5
}
