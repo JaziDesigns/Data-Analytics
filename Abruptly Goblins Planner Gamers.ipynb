{
 "cells": [
  {
   "cell_type": "code",
   "execution_count": 31,
   "id": "lonely-gauge",
   "metadata": {},
   "outputs": [
    {
     "data": {
      "text/plain": [
       "'Assalam-o-Alaikum!'"
      ]
     },
     "execution_count": 31,
     "metadata": {},
     "output_type": "execute_result"
    }
   ],
   "source": [
    "greetings = \"Assalam-o-Alaikum!\"\n",
    "greetings"
   ]
  },
  {
   "cell_type": "code",
   "execution_count": 32,
   "id": "placed-orleans",
   "metadata": {},
   "outputs": [],
   "source": [
    "import pandas as pd\n",
    "import matplotlib.pyplot as plt\n",
    "import seaborn as sns"
   ]
  },
  {
   "cell_type": "markdown",
   "id": "integrated-charlotte",
   "metadata": {},
   "source": [
    "**1)** Create an empty list called **gamers**. This will be your list of people who are attending game night."
   ]
  },
  {
   "cell_type": "code",
   "execution_count": 33,
   "id": "adequate-prevention",
   "metadata": {},
   "outputs": [],
   "source": [
    "gamers = []"
   ]
  },
  {
   "cell_type": "markdown",
   "id": "abandoned-welsh",
   "metadata": {},
   "source": [
    "**2)** Now we want to create a function that will update this list and add a new gamer to the this gamers list"
   ]
  },
  {
   "cell_type": "code",
   "execution_count": 34,
   "id": "prerequisite-vitamin",
   "metadata": {},
   "outputs": [],
   "source": [
    "def add_gamers(gamer, gamers):\n",
    "    gamers.append(gamer)"
   ]
  },
  {
   "cell_type": "markdown",
   "id": "rocky-angel",
   "metadata": {},
   "source": [
    "**3)** Create a dictionary called **kimberly** with the **name** and **availability**."
   ]
  },
  {
   "cell_type": "code",
   "execution_count": 35,
   "id": "monthly-developer",
   "metadata": {},
   "outputs": [
    {
     "data": {
      "text/plain": [
       "{'name': 'Kimberly Warner', 'availability': ['Monday', 'Tuesday', 'Friday']}"
      ]
     },
     "execution_count": 35,
     "metadata": {},
     "output_type": "execute_result"
    }
   ],
   "source": [
    "kimberly = {\"name\": \"Kimberly Warner\", \"availability\": [\"Monday\", \"Tuesday\", \"Friday\"]}\n",
    "kimberly"
   ]
  },
  {
   "cell_type": "markdown",
   "id": "czech-nirvana",
   "metadata": {},
   "source": [
    "**4)** Call **add_gamer** with **kimberly** as the first argument and **gamers** as the second"
   ]
  },
  {
   "cell_type": "code",
   "execution_count": 36,
   "id": "sporting-phase",
   "metadata": {},
   "outputs": [
    {
     "data": {
      "text/plain": [
       "[{'name': 'Kimberly Warner', 'availability': ['Monday', 'Tuesday', 'Friday']}]"
      ]
     },
     "execution_count": 36,
     "metadata": {},
     "output_type": "execute_result"
    }
   ],
   "source": [
    "add_gamers(kimberly, gamers)\n",
    "gamers"
   ]
  },
  {
   "cell_type": "markdown",
   "id": "successful-commissioner",
   "metadata": {},
   "source": [
    "**5)** Let's add a couple more **gamers** to the list!"
   ]
  },
  {
   "cell_type": "code",
   "execution_count": 37,
   "id": "metric-james",
   "metadata": {},
   "outputs": [],
   "source": [
    "add_gamers({'name':'Thomas Nelson','availability': [\"Tuesday\", \"Thursday\", \"Saturday\"]}, gamers)\n",
    "add_gamers({'name':'Joyce Sellers','availability': [\"Monday\", \"Wednesday\", \"Friday\", \"Saturday\"]}, gamers)\n",
    "add_gamers({'name':'Michelle Reyes','availability': [\"Wednesday\", \"Thursday\", \"Sunday\"]}, gamers)\n",
    "add_gamers({'name':'Stephen Adams','availability': [\"Thursday\", \"Saturday\"]}, gamers)\n",
    "add_gamers({'name': 'Joanne Lynn', 'availability': [\"Monday\", \"Thursday\"]}, gamers)\n",
    "add_gamers({'name':'Latasha Bryan','availability': [\"Monday\", \"Sunday\"]}, gamers)\n",
    "add_gamers({'name':'Crystal Brewer','availability': [\"Thursday\", \"Friday\", \"Saturday\"]}, gamers)\n",
    "add_gamers({'name':'James Barnes Jr.','availability': [\"Tuesday\", \"Wednesday\", \"Thursday\", \"Sunday\"]}, gamers)\n",
    "add_gamers({'name':'Michel Trujillo','availability': [\"Monday\", \"Tuesday\", \"Wednesday\"]}, gamers)"
   ]
  },
  {
   "cell_type": "code",
   "execution_count": 38,
   "id": "bigger-eight",
   "metadata": {},
   "outputs": [
    {
     "data": {
      "text/html": [
       "<div>\n",
       "<style scoped>\n",
       "    .dataframe tbody tr th:only-of-type {\n",
       "        vertical-align: middle;\n",
       "    }\n",
       "\n",
       "    .dataframe tbody tr th {\n",
       "        vertical-align: top;\n",
       "    }\n",
       "\n",
       "    .dataframe thead th {\n",
       "        text-align: right;\n",
       "    }\n",
       "</style>\n",
       "<table border=\"1\" class=\"dataframe\">\n",
       "  <thead>\n",
       "    <tr style=\"text-align: right;\">\n",
       "      <th></th>\n",
       "      <th>name</th>\n",
       "      <th>availability</th>\n",
       "    </tr>\n",
       "  </thead>\n",
       "  <tbody>\n",
       "    <tr>\n",
       "      <th>0</th>\n",
       "      <td>Kimberly Warner</td>\n",
       "      <td>[Monday, Tuesday, Friday]</td>\n",
       "    </tr>\n",
       "    <tr>\n",
       "      <th>1</th>\n",
       "      <td>Thomas Nelson</td>\n",
       "      <td>[Tuesday, Thursday, Saturday]</td>\n",
       "    </tr>\n",
       "    <tr>\n",
       "      <th>2</th>\n",
       "      <td>Joyce Sellers</td>\n",
       "      <td>[Monday, Wednesday, Friday, Saturday]</td>\n",
       "    </tr>\n",
       "    <tr>\n",
       "      <th>3</th>\n",
       "      <td>Michelle Reyes</td>\n",
       "      <td>[Wednesday, Thursday, Sunday]</td>\n",
       "    </tr>\n",
       "    <tr>\n",
       "      <th>4</th>\n",
       "      <td>Stephen Adams</td>\n",
       "      <td>[Thursday, Saturday]</td>\n",
       "    </tr>\n",
       "    <tr>\n",
       "      <th>5</th>\n",
       "      <td>Joanne Lynn</td>\n",
       "      <td>[Monday, Thursday]</td>\n",
       "    </tr>\n",
       "    <tr>\n",
       "      <th>6</th>\n",
       "      <td>Latasha Bryan</td>\n",
       "      <td>[Monday, Sunday]</td>\n",
       "    </tr>\n",
       "    <tr>\n",
       "      <th>7</th>\n",
       "      <td>Crystal Brewer</td>\n",
       "      <td>[Thursday, Friday, Saturday]</td>\n",
       "    </tr>\n",
       "    <tr>\n",
       "      <th>8</th>\n",
       "      <td>James Barnes Jr.</td>\n",
       "      <td>[Tuesday, Wednesday, Thursday, Sunday]</td>\n",
       "    </tr>\n",
       "    <tr>\n",
       "      <th>9</th>\n",
       "      <td>Michel Trujillo</td>\n",
       "      <td>[Monday, Tuesday, Wednesday]</td>\n",
       "    </tr>\n",
       "  </tbody>\n",
       "</table>\n",
       "</div>"
      ],
      "text/plain": [
       "               name                            availability\n",
       "0   Kimberly Warner               [Monday, Tuesday, Friday]\n",
       "1     Thomas Nelson           [Tuesday, Thursday, Saturday]\n",
       "2     Joyce Sellers   [Monday, Wednesday, Friday, Saturday]\n",
       "3    Michelle Reyes           [Wednesday, Thursday, Sunday]\n",
       "4     Stephen Adams                    [Thursday, Saturday]\n",
       "5       Joanne Lynn                      [Monday, Thursday]\n",
       "6     Latasha Bryan                        [Monday, Sunday]\n",
       "7    Crystal Brewer            [Thursday, Friday, Saturday]\n",
       "8  James Barnes Jr.  [Tuesday, Wednesday, Thursday, Sunday]\n",
       "9   Michel Trujillo            [Monday, Tuesday, Wednesday]"
      ]
     },
     "execution_count": 38,
     "metadata": {},
     "output_type": "execute_result"
    }
   ],
   "source": [
    "pd.DataFrame(gamers)"
   ]
  },
  {
   "cell_type": "markdown",
   "id": "sixth-wonder",
   "metadata": {},
   "source": [
    "**6)** Create a function called **build_daily_frequency_table** that takes no argument returns a dictionary with the days of the week as keys and 0s for values. We'll be using this to count the availability per night. Call **build_daily_frequency_table** and save the results to a variable called **count_availability.**"
   ]
  },
  {
   "cell_type": "code",
   "execution_count": 39,
   "id": "external-wholesale",
   "metadata": {},
   "outputs": [],
   "source": [
    "def build_daily_frequency_table():\n",
    "    return {\n",
    "        \"Monday\":    0,\n",
    "        \"Tuesday\":   0,\n",
    "        \"Wednesday\": 0,\n",
    "        \"Thursday\":  0,\n",
    "        \"Friday\":    0,\n",
    "        \"Saturday\":  0,\n",
    "        \"Sunday\":    0,\n",
    "    }\n",
    "\n",
    "count_availability = build_daily_frequency_table()"
   ]
  },
  {
   "cell_type": "markdown",
   "id": "engaged-universe",
   "metadata": {},
   "source": [
    "**7)** Write a function called **calculate_availability** that takes a list of gamers as an argument **gamers** and a frequency table **count_availability**. The function should iterate through each gamer in **gamers** and iterate through each day in the gamer's availability. For each day in the gamer's availability, add one to that date on the frequency table."
   ]
  },
  {
   "cell_type": "code",
   "execution_count": 40,
   "id": "rolled-precipitation",
   "metadata": {},
   "outputs": [],
   "source": [
    "def calculate_availability(gamers, count_availability):\n",
    "    for gamer in gamers:\n",
    "        for day in gamer[\"availability\"]:\n",
    "            count_availability[day] += 1"
   ]
  },
  {
   "cell_type": "markdown",
   "id": "inner-belarus",
   "metadata": {},
   "source": [
    "**8)** Call **calculate_availability** with **gamers** and **count_availability**. Print out **count_availability** afterwards"
   ]
  },
  {
   "cell_type": "code",
   "execution_count": 41,
   "id": "collect-significance",
   "metadata": {},
   "outputs": [
    {
     "name": "stdout",
     "output_type": "stream",
     "text": [
      "{'Monday': 5, 'Tuesday': 4, 'Wednesday': 4, 'Thursday': 6, 'Friday': 3, 'Saturday': 4, 'Sunday': 3}\n"
     ]
    }
   ],
   "source": [
    "calculate_availability(gamers, count_availability)\n",
    "print(count_availability)"
   ]
  },
  {
   "cell_type": "code",
   "execution_count": 42,
   "id": "medium-setup",
   "metadata": {},
   "outputs": [
    {
     "data": {
      "image/png": "[encoded data removed]",
      "text/plain": [
       "<Figure size 1296x504 with 1 Axes>"
      ]
     },
     "metadata": {
      "needs_background": "light"
     },
     "output_type": "display_data"
    }
   ],
   "source": [
    "availability = pd.DataFrame([count_availability]).T.reset_index()\n",
    "availability.columns = [\"Day\", \"Availability\"]\n",
    "plt.figure(figsize = (18, 7))\n",
    "graph = sns.barplot(x = \"Day\", y = \"Availability\", data = availability, palette = \"gnuplot2_r\")\n",
    "for p in graph.patches:\n",
    "        graph.annotate('{:.0f}'.format(p.get_height()), \n",
    "                      (p.get_x()+0.4, p.get_height()),\n",
    "                       ha='center', va='bottom',color= 'black', size = 15)\n",
    "plt.title(\"Availability of Gamers\", size = 15)\n",
    "plt.xticks(size = 15)\n",
    "plt.yticks(size = 15)\n",
    "plt.xlabel(None)\n",
    "plt.ylabel(None)\n",
    "\n",
    "plt.show()"
   ]
  },
  {
   "cell_type": "markdown",
   "id": "center-composer",
   "metadata": {},
   "source": [
    "**9)** Write a function **find_best_night** that takes a dictionary **availability_table** and returns the key with the highest number."
   ]
  },
  {
   "cell_type": "code",
   "execution_count": 43,
   "id": "social-sheep",
   "metadata": {},
   "outputs": [],
   "source": [
    "def find_best_night(availability_table):\n",
    "    best_availability = 0\n",
    "    for day, availability in availability_table.items():\n",
    "        if availability > best_availability:\n",
    "            best_night = day\n",
    "            best_availability = availability\n",
    "    return best_night"
   ]
  },
  {
   "cell_type": "markdown",
   "id": "blocked-option",
   "metadata": {},
   "source": [
    "**10)** Call **find_best_night** with **count_availability**, store the result in a variable called **game_night**. Print out **game_night** to find out which day it is."
   ]
  },
  {
   "cell_type": "code",
   "execution_count": 44,
   "id": "related-october",
   "metadata": {},
   "outputs": [
    {
     "data": {
      "text/plain": [
       "'Thursday'"
      ]
     },
     "execution_count": 44,
     "metadata": {},
     "output_type": "execute_result"
    }
   ],
   "source": [
    "game_night = find_best_night(count_availability)\n",
    "game_night"
   ]
  },
  {
   "cell_type": "markdown",
   "id": "improving-chosen",
   "metadata": {},
   "source": [
    "**11)** let's make a list of all of the people who are available that night."
   ]
  },
  {
   "cell_type": "code",
   "execution_count": 45,
   "id": "ecological-cycle",
   "metadata": {},
   "outputs": [],
   "source": [
    "def available_on_night(gamers, day):\n",
    "    return [gamer for gamer in gamers if day in gamer[\"availability\"]]"
   ]
  },
  {
   "cell_type": "code",
   "execution_count": 46,
   "id": "entertaining-disposal",
   "metadata": {},
   "outputs": [
    {
     "data": {
      "text/html": [
       "<div>\n",
       "<style scoped>\n",
       "    .dataframe tbody tr th:only-of-type {\n",
       "        vertical-align: middle;\n",
       "    }\n",
       "\n",
       "    .dataframe tbody tr th {\n",
       "        vertical-align: top;\n",
       "    }\n",
       "\n",
       "    .dataframe thead th {\n",
       "        text-align: right;\n",
       "    }\n",
       "</style>\n",
       "<table border=\"1\" class=\"dataframe\">\n",
       "  <thead>\n",
       "    <tr style=\"text-align: right;\">\n",
       "      <th></th>\n",
       "      <th>name</th>\n",
       "      <th>availability</th>\n",
       "    </tr>\n",
       "  </thead>\n",
       "  <tbody>\n",
       "    <tr>\n",
       "      <th>0</th>\n",
       "      <td>Thomas Nelson</td>\n",
       "      <td>[Tuesday, Thursday, Saturday]</td>\n",
       "    </tr>\n",
       "    <tr>\n",
       "      <th>1</th>\n",
       "      <td>Michelle Reyes</td>\n",
       "      <td>[Wednesday, Thursday, Sunday]</td>\n",
       "    </tr>\n",
       "    <tr>\n",
       "      <th>2</th>\n",
       "      <td>Stephen Adams</td>\n",
       "      <td>[Thursday, Saturday]</td>\n",
       "    </tr>\n",
       "    <tr>\n",
       "      <th>3</th>\n",
       "      <td>Joanne Lynn</td>\n",
       "      <td>[Monday, Thursday]</td>\n",
       "    </tr>\n",
       "    <tr>\n",
       "      <th>4</th>\n",
       "      <td>Crystal Brewer</td>\n",
       "      <td>[Thursday, Friday, Saturday]</td>\n",
       "    </tr>\n",
       "    <tr>\n",
       "      <th>5</th>\n",
       "      <td>James Barnes Jr.</td>\n",
       "      <td>[Tuesday, Wednesday, Thursday, Sunday]</td>\n",
       "    </tr>\n",
       "  </tbody>\n",
       "</table>\n",
       "</div>"
      ],
      "text/plain": [
       "               name                            availability\n",
       "0     Thomas Nelson           [Tuesday, Thursday, Saturday]\n",
       "1    Michelle Reyes           [Wednesday, Thursday, Sunday]\n",
       "2     Stephen Adams                    [Thursday, Saturday]\n",
       "3       Joanne Lynn                      [Monday, Thursday]\n",
       "4    Crystal Brewer            [Thursday, Friday, Saturday]\n",
       "5  James Barnes Jr.  [Tuesday, Wednesday, Thursday, Sunday]"
      ]
     },
     "execution_count": 46,
     "metadata": {},
     "output_type": "execute_result"
    }
   ],
   "source": [
    "attending_game_night = available_on_night(gamers, game_night)\n",
    "pd.DataFrame(attending_game_night)"
   ]
  },
  {
   "cell_type": "markdown",
   "id": "behind-customer",
   "metadata": {},
   "source": [
    "**12)** Generating an E-mail for the Participants"
   ]
  },
  {
   "cell_type": "code",
   "execution_count": 47,
   "id": "fiscal-chart",
   "metadata": {},
   "outputs": [],
   "source": [
    "from_email = \"\"\"\n",
    "Dear {name},\n",
    "\n",
    "The Sorcery Society is happy to host \"{game}\" night and wishes you will attend. Come by on {day_of_week} and have a blast!\n",
    "\n",
    "Magically Yours,\n",
    "the Sorcery Society\n",
    "\"\"\""
   ]
  },
  {
   "cell_type": "code",
   "execution_count": 48,
   "id": "identified-economy",
   "metadata": {},
   "outputs": [],
   "source": [
    "def send_email(gamers, day, game):\n",
    "    for gamer in gamers:\n",
    "        print(from_email.format(name = gamer[\"name\"], day_of_week = day, game = game))"
   ]
  },
  {
   "cell_type": "code",
   "execution_count": 49,
   "id": "corresponding-thomson",
   "metadata": {},
   "outputs": [
    {
     "name": "stdout",
     "output_type": "stream",
     "text": [
      "\n",
      "Dear Thomas Nelson,\n",
      "\n",
      "The Sorcery Society is happy to host \"Abruptly Goblins\" night and wishes you will attend. Come by on Thursday and have a blast!\n",
      "\n",
      "Magically Yours,\n",
      "the Sorcery Society\n",
      "\n",
      "\n",
      "Dear Michelle Reyes,\n",
      "\n",
      "The Sorcery Society is happy to host \"Abruptly Goblins\" night and wishes you will attend. Come by on Thursday and have a blast!\n",
      "\n",
      "Magically Yours,\n",
      "the Sorcery Society\n",
      "\n",
      "\n",
      "Dear Stephen Adams,\n",
      "\n",
      "The Sorcery Society is happy to host \"Abruptly Goblins\" night and wishes you will attend. Come by on Thursday and have a blast!\n",
      "\n",
      "Magically Yours,\n",
      "the Sorcery Society\n",
      "\n",
      "\n",
      "Dear Joanne Lynn,\n",
      "\n",
      "The Sorcery Society is happy to host \"Abruptly Goblins\" night and wishes you will attend. Come by on Thursday and have a blast!\n",
      "\n",
      "Magically Yours,\n",
      "the Sorcery Society\n",
      "\n",
      "\n",
      "Dear Crystal Brewer,\n",
      "\n",
      "The Sorcery Society is happy to host \"Abruptly Goblins\" night and wishes you will attend. Come by on Thursday and have a blast!\n",
      "\n",
      "Magically Yours,\n",
      "the Sorcery Society\n",
      "\n",
      "\n",
      "Dear James Barnes Jr.,\n",
      "\n",
      "The Sorcery Society is happy to host \"Abruptly Goblins\" night and wishes you will attend. Come by on Thursday and have a blast!\n",
      "\n",
      "Magically Yours,\n",
      "the Sorcery Society\n",
      "\n"
     ]
    }
   ],
   "source": [
    "send_email(attending_game_night, game_night, \"Abruptly Goblins\")"
   ]
  },
  {
   "cell_type": "markdown",
   "id": "auburn-comparative",
   "metadata": {},
   "source": [
    "**12)** You feel bad for the folks who **weren't able** to attend on the decided upon **game night**, and try to use your currently written methods to have a second game night of the week"
   ]
  },
  {
   "cell_type": "code",
   "execution_count": 50,
   "id": "renewable-watch",
   "metadata": {},
   "outputs": [],
   "source": [
    "unable_to_attend_best_night = [gamer for gamer in gamers if game_night not in gamer[\"availability\"]]\n",
    "second_night_availability = build_daily_frequency_table()\n",
    "calculate_availability(unable_to_attend_best_night, second_night_availability)\n",
    "second_night = find_best_night(second_night_availability)"
   ]
  },
  {
   "cell_type": "code",
   "execution_count": 51,
   "id": "demanding-spanish",
   "metadata": {},
   "outputs": [
    {
     "name": "stdout",
     "output_type": "stream",
     "text": [
      "\n",
      "Dear Kimberly Warner,\n",
      "\n",
      "The Sorcery Society is happy to host \"Abruptly Goblins!\" night and wishes you will attend. Come by on Monday and have a blast!\n",
      "\n",
      "Magically Yours,\n",
      "the Sorcery Society\n",
      "\n",
      "\n",
      "Dear Joyce Sellers,\n",
      "\n",
      "The Sorcery Society is happy to host \"Abruptly Goblins!\" night and wishes you will attend. Come by on Monday and have a blast!\n",
      "\n",
      "Magically Yours,\n",
      "the Sorcery Society\n",
      "\n",
      "\n",
      "Dear Joanne Lynn,\n",
      "\n",
      "The Sorcery Society is happy to host \"Abruptly Goblins!\" night and wishes you will attend. Come by on Monday and have a blast!\n",
      "\n",
      "Magically Yours,\n",
      "the Sorcery Society\n",
      "\n",
      "\n",
      "Dear Latasha Bryan,\n",
      "\n",
      "The Sorcery Society is happy to host \"Abruptly Goblins!\" night and wishes you will attend. Come by on Monday and have a blast!\n",
      "\n",
      "Magically Yours,\n",
      "the Sorcery Society\n",
      "\n",
      "\n",
      "Dear Michel Trujillo,\n",
      "\n",
      "The Sorcery Society is happy to host \"Abruptly Goblins!\" night and wishes you will attend. Come by on Monday and have a blast!\n",
      "\n",
      "Magically Yours,\n",
      "the Sorcery Society\n",
      "\n"
     ]
    }
   ],
   "source": [
    "available_second_game_night = available_on_night(gamers, second_night)\n",
    "send_email(available_second_game_night, second_night, \"Abruptly Goblins!\")"
   ]
  }
 ],
 "metadata": {
  "kernelspec": {
   "display_name": "Python 3",
   "language": "python",
   "name": "python3"
  },
  "language_info": {
   "codemirror_mode": {
    "name": "ipython",
    "version": 3
   },
   "file_extension": ".py",
   "mimetype": "text/x-python",
   "name": "python",
   "nbconvert_exporter": "python",
   "pygments_lexer": "ipython3",
   "version": "3.8.5"
  }
 },
 "nbformat": 4,
 "nbformat_minor": 5
}
