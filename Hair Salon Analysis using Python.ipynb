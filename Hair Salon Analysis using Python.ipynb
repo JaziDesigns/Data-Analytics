{
 "cells": [
  {
   "cell_type": "code",
   "execution_count": 1,
   "id": "consecutive-inventory",
   "metadata": {},
   "outputs": [
    {
     "name": "stdout",
     "output_type": "stream",
     "text": [
      "Assalam-o-Alaikum!\n"
     ]
    }
   ],
   "source": [
    "greetings = \"Assalam-o-Alaikum!\"\n",
    "print(greetings)"
   ]
  },
  {
   "cell_type": "markdown",
   "id": "shared-liechtenstein",
   "metadata": {},
   "source": [
    "### Import Libraries"
   ]
  },
  {
   "cell_type": "code",
   "execution_count": 2,
   "id": "collaborative-realtor",
   "metadata": {},
   "outputs": [],
   "source": [
    "import pandas as pd"
   ]
  },
  {
   "cell_type": "markdown",
   "id": "limited-destiny",
   "metadata": {},
   "source": [
    "### Data"
   ]
  },
  {
   "cell_type": "code",
   "execution_count": 3,
   "id": "equivalent-headquarters",
   "metadata": {},
   "outputs": [],
   "source": [
    "hairstyles = [\"bouffant\", \"pixie\", \"dreadlocks\", \"crew\", \"bowl\", \"bob\", \"mohawk\", \"flattop\"]\n",
    "prices = [30, 25, 40, 20, 20, 35, 50, 35]\n",
    "last_week = [2, 3, 5, 8, 4, 4, 6, 2]"
   ]
  },
  {
   "cell_type": "code",
   "execution_count": 4,
   "id": "peripheral-recording",
   "metadata": {},
   "outputs": [
    {
     "data": {
      "text/html": [
       "<div>\n",
       "<style scoped>\n",
       "    .dataframe tbody tr th:only-of-type {\n",
       "        vertical-align: middle;\n",
       "    }\n",
       "\n",
       "    .dataframe tbody tr th {\n",
       "        vertical-align: top;\n",
       "    }\n",
       "\n",
       "    .dataframe thead th {\n",
       "        text-align: right;\n",
       "    }\n",
       "</style>\n",
       "<table border=\"1\" class=\"dataframe\">\n",
       "  <thead>\n",
       "    <tr style=\"text-align: right;\">\n",
       "      <th></th>\n",
       "      <th>Hair Style</th>\n",
       "      <th>Price</th>\n",
       "      <th>Last Week</th>\n",
       "    </tr>\n",
       "  </thead>\n",
       "  <tbody>\n",
       "    <tr>\n",
       "      <th>0</th>\n",
       "      <td>bouffant</td>\n",
       "      <td>30</td>\n",
       "      <td>2</td>\n",
       "    </tr>\n",
       "    <tr>\n",
       "      <th>1</th>\n",
       "      <td>pixie</td>\n",
       "      <td>25</td>\n",
       "      <td>3</td>\n",
       "    </tr>\n",
       "    <tr>\n",
       "      <th>2</th>\n",
       "      <td>dreadlocks</td>\n",
       "      <td>40</td>\n",
       "      <td>5</td>\n",
       "    </tr>\n",
       "    <tr>\n",
       "      <th>3</th>\n",
       "      <td>crew</td>\n",
       "      <td>20</td>\n",
       "      <td>8</td>\n",
       "    </tr>\n",
       "    <tr>\n",
       "      <th>4</th>\n",
       "      <td>bowl</td>\n",
       "      <td>20</td>\n",
       "      <td>4</td>\n",
       "    </tr>\n",
       "    <tr>\n",
       "      <th>5</th>\n",
       "      <td>bob</td>\n",
       "      <td>35</td>\n",
       "      <td>4</td>\n",
       "    </tr>\n",
       "    <tr>\n",
       "      <th>6</th>\n",
       "      <td>mohawk</td>\n",
       "      <td>50</td>\n",
       "      <td>6</td>\n",
       "    </tr>\n",
       "    <tr>\n",
       "      <th>7</th>\n",
       "      <td>flattop</td>\n",
       "      <td>35</td>\n",
       "      <td>2</td>\n",
       "    </tr>\n",
       "  </tbody>\n",
       "</table>\n",
       "</div>"
      ],
      "text/plain": [
       "   Hair Style  Price  Last Week\n",
       "0    bouffant     30          2\n",
       "1       pixie     25          3\n",
       "2  dreadlocks     40          5\n",
       "3        crew     20          8\n",
       "4        bowl     20          4\n",
       "5         bob     35          4\n",
       "6      mohawk     50          6\n",
       "7     flattop     35          2"
      ]
     },
     "execution_count": 4,
     "metadata": {},
     "output_type": "execute_result"
    }
   ],
   "source": [
    "df = pd.DataFrame({\"Hair Style\": hairstyles,\n",
    "                   \"Price\": prices,\n",
    "                   \"Last Week\": last_week})\n",
    "df"
   ]
  },
  {
   "cell_type": "markdown",
   "id": "dress-renaissance",
   "metadata": {},
   "source": [
    "**Most Revenue by Hair Style**"
   ]
  },
  {
   "cell_type": "code",
   "execution_count": 5,
   "id": "fuzzy-segment",
   "metadata": {},
   "outputs": [
    {
     "data": {
      "text/html": [
       "<div>\n",
       "<style scoped>\n",
       "    .dataframe tbody tr th:only-of-type {\n",
       "        vertical-align: middle;\n",
       "    }\n",
       "\n",
       "    .dataframe tbody tr th {\n",
       "        vertical-align: top;\n",
       "    }\n",
       "\n",
       "    .dataframe thead th {\n",
       "        text-align: right;\n",
       "    }\n",
       "</style>\n",
       "<table border=\"1\" class=\"dataframe\">\n",
       "  <thead>\n",
       "    <tr style=\"text-align: right;\">\n",
       "      <th></th>\n",
       "      <th>Hair Style</th>\n",
       "      <th>Price</th>\n",
       "      <th>Last Week</th>\n",
       "      <th>Revenue</th>\n",
       "    </tr>\n",
       "  </thead>\n",
       "  <tbody>\n",
       "    <tr>\n",
       "      <th>0</th>\n",
       "      <td>bouffant</td>\n",
       "      <td>30</td>\n",
       "      <td>2</td>\n",
       "      <td>60</td>\n",
       "    </tr>\n",
       "    <tr>\n",
       "      <th>1</th>\n",
       "      <td>pixie</td>\n",
       "      <td>25</td>\n",
       "      <td>3</td>\n",
       "      <td>75</td>\n",
       "    </tr>\n",
       "    <tr>\n",
       "      <th>2</th>\n",
       "      <td>dreadlocks</td>\n",
       "      <td>40</td>\n",
       "      <td>5</td>\n",
       "      <td>200</td>\n",
       "    </tr>\n",
       "    <tr>\n",
       "      <th>3</th>\n",
       "      <td>crew</td>\n",
       "      <td>20</td>\n",
       "      <td>8</td>\n",
       "      <td>160</td>\n",
       "    </tr>\n",
       "    <tr>\n",
       "      <th>4</th>\n",
       "      <td>bowl</td>\n",
       "      <td>20</td>\n",
       "      <td>4</td>\n",
       "      <td>80</td>\n",
       "    </tr>\n",
       "    <tr>\n",
       "      <th>5</th>\n",
       "      <td>bob</td>\n",
       "      <td>35</td>\n",
       "      <td>4</td>\n",
       "      <td>140</td>\n",
       "    </tr>\n",
       "    <tr>\n",
       "      <th>6</th>\n",
       "      <td>mohawk</td>\n",
       "      <td>50</td>\n",
       "      <td>6</td>\n",
       "      <td>300</td>\n",
       "    </tr>\n",
       "    <tr>\n",
       "      <th>7</th>\n",
       "      <td>flattop</td>\n",
       "      <td>35</td>\n",
       "      <td>2</td>\n",
       "      <td>70</td>\n",
       "    </tr>\n",
       "  </tbody>\n",
       "</table>\n",
       "</div>"
      ],
      "text/plain": [
       "   Hair Style  Price  Last Week  Revenue\n",
       "0    bouffant     30          2       60\n",
       "1       pixie     25          3       75\n",
       "2  dreadlocks     40          5      200\n",
       "3        crew     20          8      160\n",
       "4        bowl     20          4       80\n",
       "5         bob     35          4      140\n",
       "6      mohawk     50          6      300\n",
       "7     flattop     35          2       70"
      ]
     },
     "execution_count": 5,
     "metadata": {},
     "output_type": "execute_result"
    }
   ],
   "source": [
    "df[\"Revenue\"] = df[\"Price\"] * df[\"Last Week\"]\n",
    "df"
   ]
  },
  {
   "cell_type": "markdown",
   "id": "minimal-singer",
   "metadata": {},
   "source": [
    "**Made Category by Hair Style Price**"
   ]
  },
  {
   "cell_type": "code",
   "execution_count": 6,
   "id": "subjective-sally",
   "metadata": {},
   "outputs": [],
   "source": [
    "def category(x):\n",
    "    if x >= 20 and x < 30:\n",
    "        return \"Economy\"\n",
    "    elif x >= 30 and x < 40:\n",
    "        return \"Standard\"\n",
    "    else:\n",
    "        return \"Premium\""
   ]
  },
  {
   "cell_type": "code",
   "execution_count": 7,
   "id": "frank-athens",
   "metadata": {},
   "outputs": [
    {
     "data": {
      "text/html": [
       "<div>\n",
       "<style scoped>\n",
       "    .dataframe tbody tr th:only-of-type {\n",
       "        vertical-align: middle;\n",
       "    }\n",
       "\n",
       "    .dataframe tbody tr th {\n",
       "        vertical-align: top;\n",
       "    }\n",
       "\n",
       "    .dataframe thead th {\n",
       "        text-align: right;\n",
       "    }\n",
       "</style>\n",
       "<table border=\"1\" class=\"dataframe\">\n",
       "  <thead>\n",
       "    <tr style=\"text-align: right;\">\n",
       "      <th></th>\n",
       "      <th>Hair Style</th>\n",
       "      <th>Price</th>\n",
       "      <th>Last Week</th>\n",
       "      <th>Revenue</th>\n",
       "      <th>Category</th>\n",
       "    </tr>\n",
       "  </thead>\n",
       "  <tbody>\n",
       "    <tr>\n",
       "      <th>0</th>\n",
       "      <td>bouffant</td>\n",
       "      <td>30</td>\n",
       "      <td>2</td>\n",
       "      <td>60</td>\n",
       "      <td>Standard</td>\n",
       "    </tr>\n",
       "    <tr>\n",
       "      <th>1</th>\n",
       "      <td>pixie</td>\n",
       "      <td>25</td>\n",
       "      <td>3</td>\n",
       "      <td>75</td>\n",
       "      <td>Economy</td>\n",
       "    </tr>\n",
       "    <tr>\n",
       "      <th>2</th>\n",
       "      <td>dreadlocks</td>\n",
       "      <td>40</td>\n",
       "      <td>5</td>\n",
       "      <td>200</td>\n",
       "      <td>Premium</td>\n",
       "    </tr>\n",
       "    <tr>\n",
       "      <th>3</th>\n",
       "      <td>crew</td>\n",
       "      <td>20</td>\n",
       "      <td>8</td>\n",
       "      <td>160</td>\n",
       "      <td>Economy</td>\n",
       "    </tr>\n",
       "    <tr>\n",
       "      <th>4</th>\n",
       "      <td>bowl</td>\n",
       "      <td>20</td>\n",
       "      <td>4</td>\n",
       "      <td>80</td>\n",
       "      <td>Economy</td>\n",
       "    </tr>\n",
       "    <tr>\n",
       "      <th>5</th>\n",
       "      <td>bob</td>\n",
       "      <td>35</td>\n",
       "      <td>4</td>\n",
       "      <td>140</td>\n",
       "      <td>Standard</td>\n",
       "    </tr>\n",
       "    <tr>\n",
       "      <th>6</th>\n",
       "      <td>mohawk</td>\n",
       "      <td>50</td>\n",
       "      <td>6</td>\n",
       "      <td>300</td>\n",
       "      <td>Premium</td>\n",
       "    </tr>\n",
       "    <tr>\n",
       "      <th>7</th>\n",
       "      <td>flattop</td>\n",
       "      <td>35</td>\n",
       "      <td>2</td>\n",
       "      <td>70</td>\n",
       "      <td>Standard</td>\n",
       "    </tr>\n",
       "  </tbody>\n",
       "</table>\n",
       "</div>"
      ],
      "text/plain": [
       "   Hair Style  Price  Last Week  Revenue  Category\n",
       "0    bouffant     30          2       60  Standard\n",
       "1       pixie     25          3       75   Economy\n",
       "2  dreadlocks     40          5      200   Premium\n",
       "3        crew     20          8      160   Economy\n",
       "4        bowl     20          4       80   Economy\n",
       "5         bob     35          4      140  Standard\n",
       "6      mohawk     50          6      300   Premium\n",
       "7     flattop     35          2       70  Standard"
      ]
     },
     "execution_count": 7,
     "metadata": {},
     "output_type": "execute_result"
    }
   ],
   "source": [
    "df[\"Category\"] = df[\"Price\"].apply(category)\n",
    "df"
   ]
  },
  {
   "cell_type": "markdown",
   "id": "heard-output",
   "metadata": {},
   "source": [
    "**Costly Hair Style**"
   ]
  },
  {
   "cell_type": "code",
   "execution_count": 8,
   "id": "iraqi-shoot",
   "metadata": {},
   "outputs": [
    {
     "data": {
      "text/html": [
       "<div>\n",
       "<style scoped>\n",
       "    .dataframe tbody tr th:only-of-type {\n",
       "        vertical-align: middle;\n",
       "    }\n",
       "\n",
       "    .dataframe tbody tr th {\n",
       "        vertical-align: top;\n",
       "    }\n",
       "\n",
       "    .dataframe thead th {\n",
       "        text-align: right;\n",
       "    }\n",
       "</style>\n",
       "<table border=\"1\" class=\"dataframe\">\n",
       "  <thead>\n",
       "    <tr style=\"text-align: right;\">\n",
       "      <th></th>\n",
       "      <th>Hair Style</th>\n",
       "      <th>Price</th>\n",
       "      <th>Last Week</th>\n",
       "      <th>Revenue</th>\n",
       "      <th>Category</th>\n",
       "    </tr>\n",
       "  </thead>\n",
       "  <tbody>\n",
       "    <tr>\n",
       "      <th>6</th>\n",
       "      <td>mohawk</td>\n",
       "      <td>50</td>\n",
       "      <td>6</td>\n",
       "      <td>300</td>\n",
       "      <td>Premium</td>\n",
       "    </tr>\n",
       "  </tbody>\n",
       "</table>\n",
       "</div>"
      ],
      "text/plain": [
       "  Hair Style  Price  Last Week  Revenue Category\n",
       "6     mohawk     50          6      300  Premium"
      ]
     },
     "execution_count": 8,
     "metadata": {},
     "output_type": "execute_result"
    }
   ],
   "source": [
    "chs = df[df[\"Price\"] == df[\"Price\"].max()]\n",
    "chs"
   ]
  },
  {
   "cell_type": "markdown",
   "id": "broad-lindsay",
   "metadata": {},
   "source": [
    "**Cheapest Hair Style**"
   ]
  },
  {
   "cell_type": "code",
   "execution_count": 9,
   "id": "realistic-exception",
   "metadata": {},
   "outputs": [
    {
     "data": {
      "text/html": [
       "<div>\n",
       "<style scoped>\n",
       "    .dataframe tbody tr th:only-of-type {\n",
       "        vertical-align: middle;\n",
       "    }\n",
       "\n",
       "    .dataframe tbody tr th {\n",
       "        vertical-align: top;\n",
       "    }\n",
       "\n",
       "    .dataframe thead th {\n",
       "        text-align: right;\n",
       "    }\n",
       "</style>\n",
       "<table border=\"1\" class=\"dataframe\">\n",
       "  <thead>\n",
       "    <tr style=\"text-align: right;\">\n",
       "      <th></th>\n",
       "      <th>Hair Style</th>\n",
       "      <th>Price</th>\n",
       "      <th>Last Week</th>\n",
       "      <th>Revenue</th>\n",
       "      <th>Category</th>\n",
       "    </tr>\n",
       "  </thead>\n",
       "  <tbody>\n",
       "    <tr>\n",
       "      <th>3</th>\n",
       "      <td>crew</td>\n",
       "      <td>20</td>\n",
       "      <td>8</td>\n",
       "      <td>160</td>\n",
       "      <td>Economy</td>\n",
       "    </tr>\n",
       "    <tr>\n",
       "      <th>4</th>\n",
       "      <td>bowl</td>\n",
       "      <td>20</td>\n",
       "      <td>4</td>\n",
       "      <td>80</td>\n",
       "      <td>Economy</td>\n",
       "    </tr>\n",
       "  </tbody>\n",
       "</table>\n",
       "</div>"
      ],
      "text/plain": [
       "  Hair Style  Price  Last Week  Revenue Category\n",
       "3       crew     20          8      160  Economy\n",
       "4       bowl     20          4       80  Economy"
      ]
     },
     "execution_count": 9,
     "metadata": {},
     "output_type": "execute_result"
    }
   ],
   "source": [
    "chs = df[df[\"Price\"] == df[\"Price\"].min()]\n",
    "chs"
   ]
  },
  {
   "cell_type": "markdown",
   "id": "express-thomas",
   "metadata": {},
   "source": [
    "**Most Frequent Hair Style**"
   ]
  },
  {
   "cell_type": "code",
   "execution_count": 10,
   "id": "elementary-aviation",
   "metadata": {},
   "outputs": [
    {
     "data": {
      "text/html": [
       "<div>\n",
       "<style scoped>\n",
       "    .dataframe tbody tr th:only-of-type {\n",
       "        vertical-align: middle;\n",
       "    }\n",
       "\n",
       "    .dataframe tbody tr th {\n",
       "        vertical-align: top;\n",
       "    }\n",
       "\n",
       "    .dataframe thead th {\n",
       "        text-align: right;\n",
       "    }\n",
       "</style>\n",
       "<table border=\"1\" class=\"dataframe\">\n",
       "  <thead>\n",
       "    <tr style=\"text-align: right;\">\n",
       "      <th></th>\n",
       "      <th>Hair Style</th>\n",
       "      <th>Price</th>\n",
       "      <th>Last Week</th>\n",
       "      <th>Revenue</th>\n",
       "      <th>Category</th>\n",
       "    </tr>\n",
       "  </thead>\n",
       "  <tbody>\n",
       "    <tr>\n",
       "      <th>3</th>\n",
       "      <td>crew</td>\n",
       "      <td>20</td>\n",
       "      <td>8</td>\n",
       "      <td>160</td>\n",
       "      <td>Economy</td>\n",
       "    </tr>\n",
       "  </tbody>\n",
       "</table>\n",
       "</div>"
      ],
      "text/plain": [
       "  Hair Style  Price  Last Week  Revenue Category\n",
       "3       crew     20          8      160  Economy"
      ]
     },
     "execution_count": 10,
     "metadata": {},
     "output_type": "execute_result"
    }
   ],
   "source": [
    "fhs = df[df[\"Last Week\"] == df[\"Last Week\"].max()]\n",
    "fhs"
   ]
  },
  {
   "cell_type": "markdown",
   "id": "fewer-morrison",
   "metadata": {},
   "source": [
    "**Least Frequent Hair Style**"
   ]
  },
  {
   "cell_type": "code",
   "execution_count": 11,
   "id": "comfortable-entrance",
   "metadata": {},
   "outputs": [
    {
     "data": {
      "text/html": [
       "<div>\n",
       "<style scoped>\n",
       "    .dataframe tbody tr th:only-of-type {\n",
       "        vertical-align: middle;\n",
       "    }\n",
       "\n",
       "    .dataframe tbody tr th {\n",
       "        vertical-align: top;\n",
       "    }\n",
       "\n",
       "    .dataframe thead th {\n",
       "        text-align: right;\n",
       "    }\n",
       "</style>\n",
       "<table border=\"1\" class=\"dataframe\">\n",
       "  <thead>\n",
       "    <tr style=\"text-align: right;\">\n",
       "      <th></th>\n",
       "      <th>Hair Style</th>\n",
       "      <th>Price</th>\n",
       "      <th>Last Week</th>\n",
       "      <th>Revenue</th>\n",
       "      <th>Category</th>\n",
       "    </tr>\n",
       "  </thead>\n",
       "  <tbody>\n",
       "    <tr>\n",
       "      <th>0</th>\n",
       "      <td>bouffant</td>\n",
       "      <td>30</td>\n",
       "      <td>2</td>\n",
       "      <td>60</td>\n",
       "      <td>Standard</td>\n",
       "    </tr>\n",
       "    <tr>\n",
       "      <th>7</th>\n",
       "      <td>flattop</td>\n",
       "      <td>35</td>\n",
       "      <td>2</td>\n",
       "      <td>70</td>\n",
       "      <td>Standard</td>\n",
       "    </tr>\n",
       "  </tbody>\n",
       "</table>\n",
       "</div>"
      ],
      "text/plain": [
       "  Hair Style  Price  Last Week  Revenue  Category\n",
       "0   bouffant     30          2       60  Standard\n",
       "7    flattop     35          2       70  Standard"
      ]
     },
     "execution_count": 11,
     "metadata": {},
     "output_type": "execute_result"
    }
   ],
   "source": [
    "fhs = df[df[\"Last Week\"] == df[\"Last Week\"].min()]\n",
    "fhs"
   ]
  },
  {
   "cell_type": "markdown",
   "id": "third-contractor",
   "metadata": {},
   "source": [
    "**Highest Revenue by Hair Style**"
   ]
  },
  {
   "cell_type": "code",
   "execution_count": 12,
   "id": "veterinary-manual",
   "metadata": {},
   "outputs": [
    {
     "data": {
      "text/html": [
       "<div>\n",
       "<style scoped>\n",
       "    .dataframe tbody tr th:only-of-type {\n",
       "        vertical-align: middle;\n",
       "    }\n",
       "\n",
       "    .dataframe tbody tr th {\n",
       "        vertical-align: top;\n",
       "    }\n",
       "\n",
       "    .dataframe thead th {\n",
       "        text-align: right;\n",
       "    }\n",
       "</style>\n",
       "<table border=\"1\" class=\"dataframe\">\n",
       "  <thead>\n",
       "    <tr style=\"text-align: right;\">\n",
       "      <th></th>\n",
       "      <th>Hair Style</th>\n",
       "      <th>Price</th>\n",
       "      <th>Last Week</th>\n",
       "      <th>Revenue</th>\n",
       "      <th>Category</th>\n",
       "    </tr>\n",
       "  </thead>\n",
       "  <tbody>\n",
       "    <tr>\n",
       "      <th>6</th>\n",
       "      <td>mohawk</td>\n",
       "      <td>50</td>\n",
       "      <td>6</td>\n",
       "      <td>300</td>\n",
       "      <td>Premium</td>\n",
       "    </tr>\n",
       "  </tbody>\n",
       "</table>\n",
       "</div>"
      ],
      "text/plain": [
       "  Hair Style  Price  Last Week  Revenue Category\n",
       "6     mohawk     50          6      300  Premium"
      ]
     },
     "execution_count": 12,
     "metadata": {},
     "output_type": "execute_result"
    }
   ],
   "source": [
    "hr = df[df[\"Revenue\"] == df[\"Revenue\"].max()]\n",
    "hr"
   ]
  },
  {
   "cell_type": "markdown",
   "id": "biblical-indiana",
   "metadata": {},
   "source": [
    "**Lowest Revenue by Hair Style**"
   ]
  },
  {
   "cell_type": "code",
   "execution_count": 13,
   "id": "informational-bubble",
   "metadata": {},
   "outputs": [
    {
     "data": {
      "text/html": [
       "<div>\n",
       "<style scoped>\n",
       "    .dataframe tbody tr th:only-of-type {\n",
       "        vertical-align: middle;\n",
       "    }\n",
       "\n",
       "    .dataframe tbody tr th {\n",
       "        vertical-align: top;\n",
       "    }\n",
       "\n",
       "    .dataframe thead th {\n",
       "        text-align: right;\n",
       "    }\n",
       "</style>\n",
       "<table border=\"1\" class=\"dataframe\">\n",
       "  <thead>\n",
       "    <tr style=\"text-align: right;\">\n",
       "      <th></th>\n",
       "      <th>Hair Style</th>\n",
       "      <th>Price</th>\n",
       "      <th>Last Week</th>\n",
       "      <th>Revenue</th>\n",
       "      <th>Category</th>\n",
       "    </tr>\n",
       "  </thead>\n",
       "  <tbody>\n",
       "    <tr>\n",
       "      <th>0</th>\n",
       "      <td>bouffant</td>\n",
       "      <td>30</td>\n",
       "      <td>2</td>\n",
       "      <td>60</td>\n",
       "      <td>Standard</td>\n",
       "    </tr>\n",
       "  </tbody>\n",
       "</table>\n",
       "</div>"
      ],
      "text/plain": [
       "  Hair Style  Price  Last Week  Revenue  Category\n",
       "0   bouffant     30          2       60  Standard"
      ]
     },
     "execution_count": 13,
     "metadata": {},
     "output_type": "execute_result"
    }
   ],
   "source": [
    "lr = df[df[\"Revenue\"] == df[\"Revenue\"].min()]\n",
    "lr"
   ]
  },
  {
   "cell_type": "markdown",
   "id": "pending-woman",
   "metadata": {},
   "source": [
    "**Average Price of Hair Style**"
   ]
  },
  {
   "cell_type": "code",
   "execution_count": 14,
   "id": "fancy-prerequisite",
   "metadata": {},
   "outputs": [
    {
     "name": "stdout",
     "output_type": "stream",
     "text": [
      "Averae Price of Hair Style = $31.875\n"
     ]
    }
   ],
   "source": [
    "ahs = df[\"Price\"].mean()\n",
    "print(\"Averae Price of Hair Style = \" + \"$\" + str(ahs))"
   ]
  },
  {
   "cell_type": "markdown",
   "id": "endangered-tonight",
   "metadata": {},
   "source": [
    "**Average Customers by Last Week**"
   ]
  },
  {
   "cell_type": "code",
   "execution_count": 15,
   "id": "located-carolina",
   "metadata": {},
   "outputs": [
    {
     "name": "stdout",
     "output_type": "stream",
     "text": [
      "Average Customers by Last Week = 4.25\n"
     ]
    }
   ],
   "source": [
    "clw = df[\"Last Week\"].mean()\n",
    "print(\"Average Customers by Last Week =\", str(clw))"
   ]
  },
  {
   "cell_type": "markdown",
   "id": "brown-treat",
   "metadata": {},
   "source": [
    "**Average Revenue by Last Week**"
   ]
  },
  {
   "cell_type": "code",
   "execution_count": 16,
   "id": "substantial-hepatitis",
   "metadata": {},
   "outputs": [
    {
     "name": "stdout",
     "output_type": "stream",
     "text": [
      "Average Revenue by Last Week = 135.625\n"
     ]
    }
   ],
   "source": [
    "rlw = df[\"Revenue\"].mean()\n",
    "print(\"Average Revenue by Last Week =\", str(rlw))"
   ]
  },
  {
   "cell_type": "markdown",
   "id": "vanilla-project",
   "metadata": {},
   "source": [
    "**Total Price of Hair Styles**"
   ]
  },
  {
   "cell_type": "code",
   "execution_count": 27,
   "id": "published-brooklyn",
   "metadata": {},
   "outputs": [
    {
     "name": "stdout",
     "output_type": "stream",
     "text": [
      "Total Price of Hair Styles = $255\n"
     ]
    }
   ],
   "source": [
    "phs = df[\"Price\"].sum()\n",
    "print(\"Total Price of Hair Styles =\", \"$\" + str(phs))"
   ]
  },
  {
   "cell_type": "markdown",
   "id": "objective-relief",
   "metadata": {},
   "source": [
    "**Total Customers by Last Week**"
   ]
  },
  {
   "cell_type": "code",
   "execution_count": 31,
   "id": "modified-elimination",
   "metadata": {},
   "outputs": [
    {
     "name": "stdout",
     "output_type": "stream",
     "text": [
      "Total Customers by Last Week = 34\n"
     ]
    }
   ],
   "source": [
    "clw = df[\"Last Week\"].sum()\n",
    "print(\"Total Customers by Last Week =\", str(clw))"
   ]
  },
  {
   "cell_type": "markdown",
   "id": "automotive-november",
   "metadata": {},
   "source": [
    "**Total Revenue by Last Week**"
   ]
  },
  {
   "cell_type": "code",
   "execution_count": 33,
   "id": "cardiac-toyota",
   "metadata": {},
   "outputs": [
    {
     "name": "stdout",
     "output_type": "stream",
     "text": [
      "Total Revenue by Last Week = $ 1085\n"
     ]
    }
   ],
   "source": [
    "rlw = df[\"Revenue\"].sum()\n",
    "print(\"Total Revenue by Last Week = $\" + str(rlw))"
   ]
  },
  {
   "cell_type": "markdown",
   "id": "electrical-cocktail",
   "metadata": {},
   "source": [
    "**Statistics of Hair Style Price by Category**"
   ]
  },
  {
   "cell_type": "code",
   "execution_count": 21,
   "id": "engaged-essex",
   "metadata": {},
   "outputs": [
    {
     "data": {
      "text/html": [
       "<div>\n",
       "<style scoped>\n",
       "    .dataframe tbody tr th:only-of-type {\n",
       "        vertical-align: middle;\n",
       "    }\n",
       "\n",
       "    .dataframe tbody tr th {\n",
       "        vertical-align: top;\n",
       "    }\n",
       "\n",
       "    .dataframe thead th {\n",
       "        text-align: right;\n",
       "    }\n",
       "</style>\n",
       "<table border=\"1\" class=\"dataframe\">\n",
       "  <thead>\n",
       "    <tr style=\"text-align: right;\">\n",
       "      <th></th>\n",
       "      <th>Category</th>\n",
       "      <th>Customers</th>\n",
       "      <th>Total Price</th>\n",
       "      <th>Minimum Price</th>\n",
       "      <th>Average Price</th>\n",
       "      <th>Maximum Price</th>\n",
       "    </tr>\n",
       "  </thead>\n",
       "  <tbody>\n",
       "    <tr>\n",
       "      <th>0</th>\n",
       "      <td>Economy</td>\n",
       "      <td>3</td>\n",
       "      <td>65</td>\n",
       "      <td>20</td>\n",
       "      <td>21.67</td>\n",
       "      <td>25</td>\n",
       "    </tr>\n",
       "    <tr>\n",
       "      <th>1</th>\n",
       "      <td>Premium</td>\n",
       "      <td>2</td>\n",
       "      <td>90</td>\n",
       "      <td>40</td>\n",
       "      <td>45.00</td>\n",
       "      <td>50</td>\n",
       "    </tr>\n",
       "    <tr>\n",
       "      <th>2</th>\n",
       "      <td>Standard</td>\n",
       "      <td>3</td>\n",
       "      <td>100</td>\n",
       "      <td>30</td>\n",
       "      <td>33.33</td>\n",
       "      <td>35</td>\n",
       "    </tr>\n",
       "  </tbody>\n",
       "</table>\n",
       "</div>"
      ],
      "text/plain": [
       "   Category  Customers  Total Price  Minimum Price  Average Price  \\\n",
       "0   Economy          3           65             20          21.67   \n",
       "1   Premium          2           90             40          45.00   \n",
       "2  Standard          3          100             30          33.33   \n",
       "\n",
       "   Maximum Price  \n",
       "0             25  \n",
       "1             50  \n",
       "2             35  "
      ]
     },
     "execution_count": 21,
     "metadata": {},
     "output_type": "execute_result"
    }
   ],
   "source": [
    "sc = df.groupby(\"Category\")[\"Price\"].agg([\"count\", \"sum\", \"min\", \"mean\", \"max\"]).round(2).reset_index()\n",
    "sc.columns = [\"Category\", \"Customers\", \"Total Price\", \"Minimum Price\", \"Average Price\", \"Maximum Price\"]\n",
    "sc"
   ]
  },
  {
   "cell_type": "markdown",
   "id": "unexpected-spring",
   "metadata": {},
   "source": [
    "**Statistics of Hair Style Sold by Category**"
   ]
  },
  {
   "cell_type": "code",
   "execution_count": 24,
   "id": "juvenile-venue",
   "metadata": {},
   "outputs": [
    {
     "data": {
      "text/html": [
       "<div>\n",
       "<style scoped>\n",
       "    .dataframe tbody tr th:only-of-type {\n",
       "        vertical-align: middle;\n",
       "    }\n",
       "\n",
       "    .dataframe tbody tr th {\n",
       "        vertical-align: top;\n",
       "    }\n",
       "\n",
       "    .dataframe thead th {\n",
       "        text-align: right;\n",
       "    }\n",
       "</style>\n",
       "<table border=\"1\" class=\"dataframe\">\n",
       "  <thead>\n",
       "    <tr style=\"text-align: right;\">\n",
       "      <th></th>\n",
       "      <th>Category</th>\n",
       "      <th>Customers</th>\n",
       "      <th>Hairstyle Sold</th>\n",
       "      <th>Min 1 Style</th>\n",
       "      <th>Avg 1 Style</th>\n",
       "      <th>Max 1 Style</th>\n",
       "    </tr>\n",
       "  </thead>\n",
       "  <tbody>\n",
       "    <tr>\n",
       "      <th>0</th>\n",
       "      <td>Economy</td>\n",
       "      <td>3</td>\n",
       "      <td>15</td>\n",
       "      <td>3</td>\n",
       "      <td>5.00</td>\n",
       "      <td>8</td>\n",
       "    </tr>\n",
       "    <tr>\n",
       "      <th>1</th>\n",
       "      <td>Premium</td>\n",
       "      <td>2</td>\n",
       "      <td>11</td>\n",
       "      <td>5</td>\n",
       "      <td>5.50</td>\n",
       "      <td>6</td>\n",
       "    </tr>\n",
       "    <tr>\n",
       "      <th>2</th>\n",
       "      <td>Standard</td>\n",
       "      <td>3</td>\n",
       "      <td>8</td>\n",
       "      <td>2</td>\n",
       "      <td>2.67</td>\n",
       "      <td>4</td>\n",
       "    </tr>\n",
       "  </tbody>\n",
       "</table>\n",
       "</div>"
      ],
      "text/plain": [
       "   Category  Customers  Hairstyle Sold  Min 1 Style  Avg 1 Style  Max 1 Style\n",
       "0   Economy          3              15            3         5.00            8\n",
       "1   Premium          2              11            5         5.50            6\n",
       "2  Standard          3               8            2         2.67            4"
      ]
     },
     "execution_count": 24,
     "metadata": {},
     "output_type": "execute_result"
    }
   ],
   "source": [
    "shc = df.groupby(\"Category\")[\"Last Week\"].agg([\"count\", \"sum\", \"min\", \"mean\", \"max\"]).round(2).reset_index()\n",
    "shc.columns = [\"Category\", \"Customers\", \"Hairstyle Sold\", \"Min 1 Style\", \"Avg 1 Style\", \"Max 1 Style\"]\n",
    "shc"
   ]
  },
  {
   "cell_type": "markdown",
   "id": "protecting-outside",
   "metadata": {},
   "source": [
    "**Statistics of Revenue by Hair Style Class**"
   ]
  },
  {
   "cell_type": "code",
   "execution_count": 26,
   "id": "unlike-calvin",
   "metadata": {},
   "outputs": [
    {
     "data": {
      "text/html": [
       "<div>\n",
       "<style scoped>\n",
       "    .dataframe tbody tr th:only-of-type {\n",
       "        vertical-align: middle;\n",
       "    }\n",
       "\n",
       "    .dataframe tbody tr th {\n",
       "        vertical-align: top;\n",
       "    }\n",
       "\n",
       "    .dataframe thead th {\n",
       "        text-align: right;\n",
       "    }\n",
       "</style>\n",
       "<table border=\"1\" class=\"dataframe\">\n",
       "  <thead>\n",
       "    <tr style=\"text-align: right;\">\n",
       "      <th></th>\n",
       "      <th>Category</th>\n",
       "      <th>Customers</th>\n",
       "      <th>Total Revenue</th>\n",
       "      <th>Min Revenue</th>\n",
       "      <th>Avg Revenue</th>\n",
       "      <th>Max Revenue</th>\n",
       "    </tr>\n",
       "  </thead>\n",
       "  <tbody>\n",
       "    <tr>\n",
       "      <th>0</th>\n",
       "      <td>Economy</td>\n",
       "      <td>3</td>\n",
       "      <td>315</td>\n",
       "      <td>75</td>\n",
       "      <td>105</td>\n",
       "      <td>160</td>\n",
       "    </tr>\n",
       "    <tr>\n",
       "      <th>1</th>\n",
       "      <td>Premium</td>\n",
       "      <td>2</td>\n",
       "      <td>500</td>\n",
       "      <td>200</td>\n",
       "      <td>250</td>\n",
       "      <td>300</td>\n",
       "    </tr>\n",
       "    <tr>\n",
       "      <th>2</th>\n",
       "      <td>Standard</td>\n",
       "      <td>3</td>\n",
       "      <td>270</td>\n",
       "      <td>60</td>\n",
       "      <td>90</td>\n",
       "      <td>140</td>\n",
       "    </tr>\n",
       "  </tbody>\n",
       "</table>\n",
       "</div>"
      ],
      "text/plain": [
       "   Category  Customers  Total Revenue  Min Revenue  Avg Revenue  Max Revenue\n",
       "0   Economy          3            315           75          105          160\n",
       "1   Premium          2            500          200          250          300\n",
       "2  Standard          3            270           60           90          140"
      ]
     },
     "execution_count": 26,
     "metadata": {},
     "output_type": "execute_result"
    }
   ],
   "source": [
    "rhs = df.groupby(\"Category\")[\"Revenue\"].agg([\"count\", \"sum\", \"min\", \"mean\", \"max\"]).reset_index()\n",
    "rhs.columns = [\"Category\", \"Customers\", \"Total Revenue\", \"Min Revenue\",\"Avg Revenue\", \"Max Revenue\"]\n",
    "rhs"
   ]
  },
  {
   "cell_type": "code",
   "execution_count": null,
   "id": "other-windsor",
   "metadata": {},
   "outputs": [],
   "source": []
  }
 ],
 "metadata": {
  "kernelspec": {
   "display_name": "Python 3",
   "language": "python",
   "name": "python3"
  },
  "language_info": {
   "codemirror_mode": {
    "name": "ipython",
    "version": 3
   },
   "file_extension": ".py",
   "mimetype": "text/x-python",
   "name": "python",
   "nbconvert_exporter": "python",
   "pygments_lexer": "ipython3",
   "version": "3.8.5"
  }
 },
 "nbformat": 4,
 "nbformat_minor": 5
}
