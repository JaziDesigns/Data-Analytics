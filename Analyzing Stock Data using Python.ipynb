{
 "cells": [
  {
   "cell_type": "code",
   "execution_count": 2,
   "id": "quality-clone",
   "metadata": {},
   "outputs": [
    {
     "name": "stdout",
     "output_type": "stream",
     "text": [
      "Assalam-o-Alaikum!\n"
     ]
    }
   ],
   "source": [
    "greetings = \"Assalam-o-Alaikum!\"\n",
    "print(greetings)"
   ]
  },
  {
   "cell_type": "markdown",
   "id": "foreign-tribe",
   "metadata": {},
   "source": [
    "### Import Libraries"
   ]
  },
  {
   "cell_type": "code",
   "execution_count": 13,
   "id": "metric-original",
   "metadata": {},
   "outputs": [],
   "source": [
    "import pandas as pd\n",
    "import numpy as np\n",
    "import seaborn as sns\n",
    "import matplotlib.pyplot as plt\n",
    "from math import log\n"
   ]
  },
  {
   "cell_type": "markdown",
   "id": "comfortable-rugby",
   "metadata": {},
   "source": [
    "### Data"
   ]
  },
  {
   "cell_type": "code",
   "execution_count": 1,
   "id": "inside-uganda",
   "metadata": {},
   "outputs": [],
   "source": [
    "amazon_prices = [1699.8, 1777.44, 2012.71, 2003.0, 1598.01, 1690.17, 1501.97, 1718.73, 1639.83, 1780.75, 1926.52, 1775.07, 1893.63]\n",
    "ebay_prices = [35.98, 33.2, 34.35, 32.77, 28.81, 29.62, 27.86, 33.39, 37.01, 37.0, 38.6, 35.93, 39.5]"
   ]
  },
  {
   "cell_type": "code",
   "execution_count": 12,
   "id": "foster-green",
   "metadata": {},
   "outputs": [
    {
     "data": {
      "text/html": [
       "<div>\n",
       "<style scoped>\n",
       "    .dataframe tbody tr th:only-of-type {\n",
       "        vertical-align: middle;\n",
       "    }\n",
       "\n",
       "    .dataframe tbody tr th {\n",
       "        vertical-align: top;\n",
       "    }\n",
       "\n",
       "    .dataframe thead th {\n",
       "        text-align: right;\n",
       "    }\n",
       "</style>\n",
       "<table border=\"1\" class=\"dataframe\">\n",
       "  <thead>\n",
       "    <tr style=\"text-align: right;\">\n",
       "      <th></th>\n",
       "      <th>Amazon Prices</th>\n",
       "      <th>eBay Prices</th>\n",
       "    </tr>\n",
       "  </thead>\n",
       "  <tbody>\n",
       "    <tr>\n",
       "      <th>6</th>\n",
       "      <td>1501.97</td>\n",
       "      <td>27.86</td>\n",
       "    </tr>\n",
       "    <tr>\n",
       "      <th>4</th>\n",
       "      <td>1598.01</td>\n",
       "      <td>28.81</td>\n",
       "    </tr>\n",
       "    <tr>\n",
       "      <th>8</th>\n",
       "      <td>1639.83</td>\n",
       "      <td>37.01</td>\n",
       "    </tr>\n",
       "    <tr>\n",
       "      <th>5</th>\n",
       "      <td>1690.17</td>\n",
       "      <td>29.62</td>\n",
       "    </tr>\n",
       "    <tr>\n",
       "      <th>0</th>\n",
       "      <td>1699.80</td>\n",
       "      <td>35.98</td>\n",
       "    </tr>\n",
       "    <tr>\n",
       "      <th>7</th>\n",
       "      <td>1718.73</td>\n",
       "      <td>33.39</td>\n",
       "    </tr>\n",
       "    <tr>\n",
       "      <th>11</th>\n",
       "      <td>1775.07</td>\n",
       "      <td>35.93</td>\n",
       "    </tr>\n",
       "    <tr>\n",
       "      <th>1</th>\n",
       "      <td>1777.44</td>\n",
       "      <td>33.20</td>\n",
       "    </tr>\n",
       "    <tr>\n",
       "      <th>9</th>\n",
       "      <td>1780.75</td>\n",
       "      <td>37.00</td>\n",
       "    </tr>\n",
       "    <tr>\n",
       "      <th>12</th>\n",
       "      <td>1893.63</td>\n",
       "      <td>39.50</td>\n",
       "    </tr>\n",
       "    <tr>\n",
       "      <th>10</th>\n",
       "      <td>1926.52</td>\n",
       "      <td>38.60</td>\n",
       "    </tr>\n",
       "    <tr>\n",
       "      <th>3</th>\n",
       "      <td>2003.00</td>\n",
       "      <td>32.77</td>\n",
       "    </tr>\n",
       "    <tr>\n",
       "      <th>2</th>\n",
       "      <td>2012.71</td>\n",
       "      <td>34.35</td>\n",
       "    </tr>\n",
       "  </tbody>\n",
       "</table>\n",
       "</div>"
      ],
      "text/plain": [
       "    Amazon Prices  eBay Prices\n",
       "6         1501.97        27.86\n",
       "4         1598.01        28.81\n",
       "8         1639.83        37.01\n",
       "5         1690.17        29.62\n",
       "0         1699.80        35.98\n",
       "7         1718.73        33.39\n",
       "11        1775.07        35.93\n",
       "1         1777.44        33.20\n",
       "9         1780.75        37.00\n",
       "12        1893.63        39.50\n",
       "10        1926.52        38.60\n",
       "3         2003.00        32.77\n",
       "2         2012.71        34.35"
      ]
     },
     "execution_count": 12,
     "metadata": {},
     "output_type": "execute_result"
    }
   ],
   "source": [
    "dataframe = pd.DataFrame({\"Amazon Prices\": amazon_prices, \"eBay Prices\": ebay_prices}).sort_values(by = [\"Amazon Prices\", \"eBay Prices\"])\n",
    "dataframe"
   ]
  },
  {
   "cell_type": "code",
   "execution_count": 85,
   "id": "meaning-timing",
   "metadata": {},
   "outputs": [
    {
     "data": {
      "text/html": [
       "<div>\n",
       "<style scoped>\n",
       "    .dataframe tbody tr th:only-of-type {\n",
       "        vertical-align: middle;\n",
       "    }\n",
       "\n",
       "    .dataframe tbody tr th {\n",
       "        vertical-align: top;\n",
       "    }\n",
       "\n",
       "    .dataframe thead th {\n",
       "        text-align: right;\n",
       "    }\n",
       "</style>\n",
       "<table border=\"1\" class=\"dataframe\">\n",
       "  <thead>\n",
       "    <tr style=\"text-align: right;\">\n",
       "      <th></th>\n",
       "      <th>Amazon Prices</th>\n",
       "      <th>eBay Prices</th>\n",
       "    </tr>\n",
       "  </thead>\n",
       "  <tbody>\n",
       "    <tr>\n",
       "      <th>count</th>\n",
       "      <td>13.000000</td>\n",
       "      <td>13.000000</td>\n",
       "    </tr>\n",
       "    <tr>\n",
       "      <th>mean</th>\n",
       "      <td>1770.586923</td>\n",
       "      <td>34.155385</td>\n",
       "    </tr>\n",
       "    <tr>\n",
       "      <th>std</th>\n",
       "      <td>154.236433</td>\n",
       "      <td>3.688599</td>\n",
       "    </tr>\n",
       "    <tr>\n",
       "      <th>min</th>\n",
       "      <td>1501.970000</td>\n",
       "      <td>27.860000</td>\n",
       "    </tr>\n",
       "    <tr>\n",
       "      <th>25%</th>\n",
       "      <td>1690.170000</td>\n",
       "      <td>32.770000</td>\n",
       "    </tr>\n",
       "    <tr>\n",
       "      <th>50%</th>\n",
       "      <td>1775.070000</td>\n",
       "      <td>34.350000</td>\n",
       "    </tr>\n",
       "    <tr>\n",
       "      <th>75%</th>\n",
       "      <td>1893.630000</td>\n",
       "      <td>37.000000</td>\n",
       "    </tr>\n",
       "    <tr>\n",
       "      <th>max</th>\n",
       "      <td>2012.710000</td>\n",
       "      <td>39.500000</td>\n",
       "    </tr>\n",
       "  </tbody>\n",
       "</table>\n",
       "</div>"
      ],
      "text/plain": [
       "       Amazon Prices  eBay Prices\n",
       "count      13.000000    13.000000\n",
       "mean     1770.586923    34.155385\n",
       "std       154.236433     3.688599\n",
       "min      1501.970000    27.860000\n",
       "25%      1690.170000    32.770000\n",
       "50%      1775.070000    34.350000\n",
       "75%      1893.630000    37.000000\n",
       "max      2012.710000    39.500000"
      ]
     },
     "execution_count": 85,
     "metadata": {},
     "output_type": "execute_result"
    }
   ],
   "source": [
    "dataframe.describe()"
   ]
  },
  {
   "cell_type": "markdown",
   "id": "ruled-filter",
   "metadata": {},
   "source": [
    "### Calculate Log Return"
   ]
  },
  {
   "cell_type": "code",
   "execution_count": 17,
   "id": "confirmed-phrase",
   "metadata": {},
   "outputs": [],
   "source": [
    "def calculate_log_return(start_price, end_price):\n",
    "    return log(end_price / start_price)"
   ]
  },
  {
   "cell_type": "code",
   "execution_count": 18,
   "id": "daily-actress",
   "metadata": {},
   "outputs": [],
   "source": [
    "def get_returns(prices):\n",
    "    returns = []\n",
    "    for i in range(len(prices) - 1):\n",
    "        start_price = prices[i]\n",
    "        end_price = prices[i + 1]\n",
    "        log_returns = calculate_log_return(start_price, end_price)\n",
    "        returns.append(log_returns)\n",
    "    return returns"
   ]
  },
  {
   "cell_type": "markdown",
   "id": "proved-attack",
   "metadata": {},
   "source": [
    "**Amazon Log Returns**"
   ]
  },
  {
   "cell_type": "code",
   "execution_count": 19,
   "id": "divine-queue",
   "metadata": {},
   "outputs": [
    {
     "data": {
      "text/plain": [
       "[0.044663529768886545,\n",
       " 0.12430794584153733,\n",
       " -0.004836016009131401,\n",
       " -0.22588695153690044,\n",
       " 0.056070010445170376,\n",
       " -0.11805153581831997,\n",
       " 0.13480806622777397,\n",
       " -0.046993068074800755,\n",
       " 0.082442045949722,\n",
       " 0.07868064267475429,\n",
       " -0.0818754077815861,\n",
       " 0.06465576316168306]"
      ]
     },
     "execution_count": 19,
     "metadata": {},
     "output_type": "execute_result"
    }
   ],
   "source": [
    "amazon_returns= get_returns(amazon_prices)\n",
    "amazon_returns"
   ]
  },
  {
   "cell_type": "markdown",
   "id": "breathing-bible",
   "metadata": {},
   "source": [
    "**eBay Log Returns**"
   ]
  },
  {
   "cell_type": "code",
   "execution_count": 20,
   "id": "incorporate-integrity",
   "metadata": {
    "scrolled": true
   },
   "outputs": [
    {
     "data": {
      "text/plain": [
       "[-0.080413352599944,\n",
       " 0.034052142745915476,\n",
       " -0.04708855595763511,\n",
       " -0.1287909136142863,\n",
       " 0.02772725974321574,\n",
       " -0.061257840487993175,\n",
       " 0.18106448560390354,\n",
       " 0.10293169244250136,\n",
       " -0.00027023375384007574,\n",
       " 0.042334363826560736,\n",
       " -0.07167967534535787,\n",
       " 0.09472807078164892]"
      ]
     },
     "execution_count": 20,
     "metadata": {},
     "output_type": "execute_result"
    }
   ],
   "source": [
    "ebay_returns = get_returns(ebay_prices)\n",
    "ebay_returns"
   ]
  },
  {
   "cell_type": "markdown",
   "id": "grand-lyric",
   "metadata": {},
   "source": [
    "### Log Returns Display"
   ]
  },
  {
   "cell_type": "code",
   "execution_count": 74,
   "id": "julian-kernel",
   "metadata": {},
   "outputs": [],
   "source": [
    "def display_as_percentage(val):\n",
    "    return '{:.1f}%'.format(val * 100)"
   ]
  },
  {
   "cell_type": "code",
   "execution_count": 75,
   "id": "harmful-ticket",
   "metadata": {},
   "outputs": [],
   "source": [
    "# Display as Percentage\n",
    "x = [display_as_percentage(returns) for returns in amazon_returns]\n",
    "y = [display_as_percentage(returns) for returns in ebay_returns]"
   ]
  },
  {
   "cell_type": "code",
   "execution_count": 76,
   "id": "hungarian-stevens",
   "metadata": {},
   "outputs": [
    {
     "name": "stdout",
     "output_type": "stream",
     "text": [
      "The monthly returns of amazon stock is 4.5%, 12.4%, -0.5%, -22.6%, 5.6%, -11.8%, 13.5%, -4.7%, 8.2%, 7.9%, -8.2%, 6.5%\n"
     ]
    }
   ],
   "source": [
    "# Monthly returns of amazon\n",
    "print(\"The monthly returns of amazon stock is \" + ', ' .join(x))"
   ]
  },
  {
   "cell_type": "code",
   "execution_count": 77,
   "id": "united-distinction",
   "metadata": {},
   "outputs": [
    {
     "name": "stdout",
     "output_type": "stream",
     "text": [
      "The monthly returns of ebay stock is -8.0%, 3.4%, -4.7%, -12.9%, 2.8%, -6.1%, 18.1%, 10.3%, -0.0%, 4.2%, -7.2%, 9.5%\n"
     ]
    }
   ],
   "source": [
    "# Monthly returns of ebay\n",
    "print(\"The monthly returns of ebay stock is \" + ', ' .join(y))"
   ]
  },
  {
   "cell_type": "markdown",
   "id": "convertible-bolivia",
   "metadata": {},
   "source": [
    "### Amazon Average"
   ]
  },
  {
   "cell_type": "code",
   "execution_count": 78,
   "id": "simplified-cause",
   "metadata": {},
   "outputs": [
    {
     "data": {
      "text/plain": [
       "0.008998752070732408"
      ]
     },
     "execution_count": 78,
     "metadata": {},
     "output_type": "execute_result"
    }
   ],
   "source": [
    "amazon_average = sum(amazon_returns) / len(amazon_returns)\n",
    "amazon_average"
   ]
  },
  {
   "cell_type": "code",
   "execution_count": 79,
   "id": "aerial-appliance",
   "metadata": {},
   "outputs": [
    {
     "name": "stdout",
     "output_type": "stream",
     "text": [
      "The monthly average of amazon stock is 0.9%\n"
     ]
    }
   ],
   "source": [
    "print(\"The monthly average of amazon stock is \" + display_as_percentage(amazon_average))"
   ]
  },
  {
   "cell_type": "markdown",
   "id": "swedish-effectiveness",
   "metadata": {},
   "source": [
    "### eBay Average"
   ]
  },
  {
   "cell_type": "code",
   "execution_count": 80,
   "id": "fantastic-haiti",
   "metadata": {},
   "outputs": [
    {
     "data": {
      "text/plain": [
       "0.007778120282057437"
      ]
     },
     "execution_count": 80,
     "metadata": {},
     "output_type": "execute_result"
    }
   ],
   "source": [
    "eBay_average = sum(ebay_returns) / len(ebay_returns)\n",
    "eBay_average"
   ]
  },
  {
   "cell_type": "code",
   "execution_count": 81,
   "id": "spatial-island",
   "metadata": {},
   "outputs": [
    {
     "name": "stdout",
     "output_type": "stream",
     "text": [
      "The monthly average of eBay stock is 0.8%\n"
     ]
    }
   ],
   "source": [
    "print(\"The monthly average of eBay stock is \" + display_as_percentage(eBay_average))"
   ]
  },
  {
   "cell_type": "markdown",
   "id": "jewish-capability",
   "metadata": {},
   "source": [
    "### Annual Returns"
   ]
  },
  {
   "cell_type": "code",
   "execution_count": 83,
   "id": "immediate-gabriel",
   "metadata": {},
   "outputs": [
    {
     "name": "stdout",
     "output_type": "stream",
     "text": [
      "The annual return of amazon stock is 10.8%\n"
     ]
    }
   ],
   "source": [
    "# Annual Returns of Amazon\n",
    "print(\"The annual return of amazon stock is \" + display_as_percentage(sum(amazon_returns)))"
   ]
  },
  {
   "cell_type": "code",
   "execution_count": 84,
   "id": "moving-celtic",
   "metadata": {},
   "outputs": [
    {
     "name": "stdout",
     "output_type": "stream",
     "text": [
      "The annual return of ebay stock is 9.3%\n"
     ]
    }
   ],
   "source": [
    "# Annual Returns of eBay\n",
    "print(\"The annual return of ebay stock is \" + display_as_percentage(sum(ebay_returns)))"
   ]
  },
  {
   "cell_type": "markdown",
   "id": "hindu-configuration",
   "metadata": {},
   "source": [
    "### Variance"
   ]
  },
  {
   "cell_type": "code",
   "execution_count": 86,
   "id": "impossible-shareware",
   "metadata": {},
   "outputs": [
    {
     "data": {
      "text/plain": [
       "0.010738060556609726"
      ]
     },
     "execution_count": 86,
     "metadata": {},
     "output_type": "execute_result"
    }
   ],
   "source": [
    "# Amazon Variance\n",
    "amazon_variance = np.var(amazon_returns)\n",
    "amazon_variance"
   ]
  },
  {
   "cell_type": "code",
   "execution_count": 88,
   "id": "effective-dutch",
   "metadata": {},
   "outputs": [
    {
     "name": "stdout",
     "output_type": "stream",
     "text": [
      "Amazon's variance is 1.1%\n"
     ]
    }
   ],
   "source": [
    "print(\"Amazon's variance is \" + display_as_percentage(amazon_variance))"
   ]
  },
  {
   "cell_type": "code",
   "execution_count": 87,
   "id": "insured-guyana",
   "metadata": {},
   "outputs": [
    {
     "data": {
      "text/plain": [
       "0.007459046435081462"
      ]
     },
     "execution_count": 87,
     "metadata": {},
     "output_type": "execute_result"
    }
   ],
   "source": [
    "# eBay Variance\n",
    "ebay_variance = np.var(ebay_returns)\n",
    "ebay_variance"
   ]
  },
  {
   "cell_type": "code",
   "execution_count": 89,
   "id": "perfect-kernel",
   "metadata": {},
   "outputs": [
    {
     "name": "stdout",
     "output_type": "stream",
     "text": [
      "Ebay's variance is 0.7%\n"
     ]
    }
   ],
   "source": [
    "print(\"Ebay's variance is \" + display_as_percentage(ebay_variance))"
   ]
  },
  {
   "cell_type": "markdown",
   "id": "disciplinary-gamma",
   "metadata": {},
   "source": [
    "### Standard Deviation"
   ]
  },
  {
   "cell_type": "code",
   "execution_count": 90,
   "id": "productive-robertson",
   "metadata": {},
   "outputs": [
    {
     "data": {
      "text/plain": [
       "0.10362461366205293"
      ]
     },
     "execution_count": 90,
     "metadata": {},
     "output_type": "execute_result"
    }
   ],
   "source": [
    "amazon_std = np.std(amazon_returns)\n",
    "amazon_std"
   ]
  },
  {
   "cell_type": "code",
   "execution_count": 91,
   "id": "responsible-survivor",
   "metadata": {},
   "outputs": [
    {
     "data": {
      "text/plain": [
       "0.08636577120064096"
      ]
     },
     "execution_count": 91,
     "metadata": {},
     "output_type": "execute_result"
    }
   ],
   "source": [
    "ebay_std = np.std(ebay_returns)\n",
    "ebay_std"
   ]
  },
  {
   "cell_type": "code",
   "execution_count": 92,
   "id": "touched-partner",
   "metadata": {},
   "outputs": [
    {
     "name": "stdout",
     "output_type": "stream",
     "text": [
      "Amazon's standard deviation is 10.4%\n"
     ]
    }
   ],
   "source": [
    "print(\"Amazon's standard deviation is \" + display_as_percentage(amazon_std))"
   ]
  },
  {
   "cell_type": "code",
   "execution_count": 93,
   "id": "statistical-indonesian",
   "metadata": {},
   "outputs": [
    {
     "name": "stdout",
     "output_type": "stream",
     "text": [
      "Ebay's standard deviation is 8.6%\n"
     ]
    }
   ],
   "source": [
    "print(\"Ebay's standard deviation is \" + display_as_percentage(ebay_std))"
   ]
  },
  {
   "cell_type": "code",
   "execution_count": 98,
   "id": "diverse-wheel",
   "metadata": {},
   "outputs": [
    {
     "data": {
      "image/png": "[encoded data removed]",
      "text/plain": [
       "<Figure size 1296x504 with 2 Axes>"
      ]
     },
     "metadata": {
      "needs_background": "light"
     },
     "output_type": "display_data"
    }
   ],
   "source": [
    "plt.figure(figsize = (18, 7))\n",
    "correlation = dataframe.corr()\n",
    "sns.heatmap(correlation, annot = True)\n",
    "plt.title(\"Correlation Matrix\")\n",
    "plt.show()"
   ]
  },
  {
   "cell_type": "code",
   "execution_count": 102,
   "id": "suffering-original",
   "metadata": {},
   "outputs": [],
   "source": [
    "from scipy import stats"
   ]
  },
  {
   "cell_type": "code",
   "execution_count": 103,
   "id": "covered-mexican",
   "metadata": {},
   "outputs": [
    {
     "name": "stdout",
     "output_type": "stream",
     "text": [
      "The correlation between Amazon and Ebay is (0.5304921683060398, 0.062171622642709166)\n"
     ]
    }
   ],
   "source": [
    "correlation = stats.pearsonr(dataframe[\"Amazon Prices\"], dataframe[\"eBay Prices\"])\n",
    "\n",
    "print(\"The correlation between Amazon and Ebay is \" + str(correlation))"
   ]
  }
 ],
 "metadata": {
  "kernelspec": {
   "display_name": "Python 3",
   "language": "python",
   "name": "python3"
  },
  "language_info": {
   "codemirror_mode": {
    "name": "ipython",
    "version": 3
   },
   "file_extension": ".py",
   "mimetype": "text/x-python",
   "name": "python",
   "nbconvert_exporter": "python",
   "pygments_lexer": "ipython3",
   "version": "3.8.5"
  }
 },
 "nbformat": 4,
 "nbformat_minor": 5
}
